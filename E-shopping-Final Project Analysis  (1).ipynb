{
 "cells": [
  {
   "cell_type": "markdown",
   "id": "f9ac9f60",
   "metadata": {},
   "source": [
    "![Example image](https://upload.wikimedia.org/wikipedia/commons/0/02/Northeastern_Wordmark.svg)\n",
    "# ALY6015 : Intermediate Analytics\n",
    "\n",
    "# Clickstream Eshopping : Final Project Analysis \n",
    "\n",
    "## Team Members:\n",
    "\n",
    "### Prince Bansal\n",
    "\n",
    "### Deepali Jhanji\n",
    "\n",
    "### Lokhapriya Rathnakumar\n",
    "\n",
    "### Preetham Gowda Hanumanthapura Ramakrishna \n",
    "\n",
    "\n"
   ]
  },
  {
   "cell_type": "code",
   "execution_count": 101,
   "id": "07d0e222",
   "metadata": {},
   "outputs": [
    {
     "data": {
      "text/html": [
       "<div>\n",
       "<style scoped>\n",
       "    .dataframe tbody tr th:only-of-type {\n",
       "        vertical-align: middle;\n",
       "    }\n",
       "\n",
       "    .dataframe tbody tr th {\n",
       "        vertical-align: top;\n",
       "    }\n",
       "\n",
       "    .dataframe thead th {\n",
       "        text-align: right;\n",
       "    }\n",
       "</style>\n",
       "<table border=\"1\" class=\"dataframe\">\n",
       "  <thead>\n",
       "    <tr style=\"text-align: right;\">\n",
       "      <th></th>\n",
       "      <th>year</th>\n",
       "      <th>month</th>\n",
       "      <th>day</th>\n",
       "      <th>order</th>\n",
       "      <th>country</th>\n",
       "      <th>session ID</th>\n",
       "      <th>page 1 (main category)</th>\n",
       "      <th>page 2 (clothing model)</th>\n",
       "      <th>colour</th>\n",
       "      <th>location</th>\n",
       "      <th>model photography</th>\n",
       "      <th>price</th>\n",
       "      <th>price 2</th>\n",
       "      <th>page</th>\n",
       "    </tr>\n",
       "  </thead>\n",
       "  <tbody>\n",
       "    <tr>\n",
       "      <th>0</th>\n",
       "      <td>2008</td>\n",
       "      <td>4</td>\n",
       "      <td>1</td>\n",
       "      <td>1</td>\n",
       "      <td>29</td>\n",
       "      <td>1</td>\n",
       "      <td>1</td>\n",
       "      <td>A13</td>\n",
       "      <td>1</td>\n",
       "      <td>5</td>\n",
       "      <td>1</td>\n",
       "      <td>28</td>\n",
       "      <td>2</td>\n",
       "      <td>1</td>\n",
       "    </tr>\n",
       "    <tr>\n",
       "      <th>1</th>\n",
       "      <td>2008</td>\n",
       "      <td>4</td>\n",
       "      <td>1</td>\n",
       "      <td>2</td>\n",
       "      <td>29</td>\n",
       "      <td>1</td>\n",
       "      <td>1</td>\n",
       "      <td>A16</td>\n",
       "      <td>1</td>\n",
       "      <td>6</td>\n",
       "      <td>1</td>\n",
       "      <td>33</td>\n",
       "      <td>2</td>\n",
       "      <td>1</td>\n",
       "    </tr>\n",
       "    <tr>\n",
       "      <th>2</th>\n",
       "      <td>2008</td>\n",
       "      <td>4</td>\n",
       "      <td>1</td>\n",
       "      <td>3</td>\n",
       "      <td>29</td>\n",
       "      <td>1</td>\n",
       "      <td>2</td>\n",
       "      <td>B4</td>\n",
       "      <td>10</td>\n",
       "      <td>2</td>\n",
       "      <td>1</td>\n",
       "      <td>52</td>\n",
       "      <td>1</td>\n",
       "      <td>1</td>\n",
       "    </tr>\n",
       "    <tr>\n",
       "      <th>3</th>\n",
       "      <td>2008</td>\n",
       "      <td>4</td>\n",
       "      <td>1</td>\n",
       "      <td>4</td>\n",
       "      <td>29</td>\n",
       "      <td>1</td>\n",
       "      <td>2</td>\n",
       "      <td>B17</td>\n",
       "      <td>6</td>\n",
       "      <td>6</td>\n",
       "      <td>2</td>\n",
       "      <td>38</td>\n",
       "      <td>2</td>\n",
       "      <td>1</td>\n",
       "    </tr>\n",
       "    <tr>\n",
       "      <th>4</th>\n",
       "      <td>2008</td>\n",
       "      <td>4</td>\n",
       "      <td>1</td>\n",
       "      <td>5</td>\n",
       "      <td>29</td>\n",
       "      <td>1</td>\n",
       "      <td>2</td>\n",
       "      <td>B8</td>\n",
       "      <td>4</td>\n",
       "      <td>3</td>\n",
       "      <td>2</td>\n",
       "      <td>52</td>\n",
       "      <td>1</td>\n",
       "      <td>1</td>\n",
       "    </tr>\n",
       "  </tbody>\n",
       "</table>\n",
       "</div>"
      ],
      "text/plain": [
       "   year  month  day  order  country  session ID  page 1 (main category)  \\\n",
       "0  2008      4    1      1       29           1                       1   \n",
       "1  2008      4    1      2       29           1                       1   \n",
       "2  2008      4    1      3       29           1                       2   \n",
       "3  2008      4    1      4       29           1                       2   \n",
       "4  2008      4    1      5       29           1                       2   \n",
       "\n",
       "  page 2 (clothing model)  colour  location  model photography  price  \\\n",
       "0                     A13       1         5                  1     28   \n",
       "1                     A16       1         6                  1     33   \n",
       "2                      B4      10         2                  1     52   \n",
       "3                     B17       6         6                  2     38   \n",
       "4                      B8       4         3                  2     52   \n",
       "\n",
       "   price 2  page  \n",
       "0        2     1  \n",
       "1        2     1  \n",
       "2        1     1  \n",
       "3        2     1  \n",
       "4        1     1  "
      ]
     },
     "execution_count": 101,
     "metadata": {},
     "output_type": "execute_result"
    }
   ],
   "source": [
    "import pandas as pd \n",
    "import numpy as np\n",
    "import matplotlib.pyplot as plt\n",
    "import seaborn as sns\n",
    "import seaborn as sn\n",
    "from sklearn.model_selection import train_test_split\n",
    "from sklearn.linear_model import LogisticRegression\n",
    "from sklearn.metrics import confusion_matrix,roc_auc_score,roc_curve,classification_report\n",
    "\n",
    "df_eshop = pd.read_csv('~/Downloads/e-shopping.csv', delimiter=';')\n",
    "df_eshop.head()"
   ]
  },
  {
   "cell_type": "code",
   "execution_count": 2,
   "id": "a8f5130a",
   "metadata": {},
   "outputs": [
    {
     "data": {
      "text/html": [
       "<div>\n",
       "<style scoped>\n",
       "    .dataframe tbody tr th:only-of-type {\n",
       "        vertical-align: middle;\n",
       "    }\n",
       "\n",
       "    .dataframe tbody tr th {\n",
       "        vertical-align: top;\n",
       "    }\n",
       "\n",
       "    .dataframe thead th {\n",
       "        text-align: right;\n",
       "    }\n",
       "</style>\n",
       "<table border=\"1\" class=\"dataframe\">\n",
       "  <thead>\n",
       "    <tr style=\"text-align: right;\">\n",
       "      <th></th>\n",
       "      <th>year</th>\n",
       "      <th>month</th>\n",
       "      <th>day</th>\n",
       "      <th>order</th>\n",
       "      <th>country</th>\n",
       "      <th>session ID</th>\n",
       "      <th>page 1 (main category)</th>\n",
       "      <th>page 2 (clothing model)</th>\n",
       "      <th>colour</th>\n",
       "      <th>location</th>\n",
       "      <th>model photography</th>\n",
       "      <th>price</th>\n",
       "      <th>price 2</th>\n",
       "      <th>page</th>\n",
       "    </tr>\n",
       "  </thead>\n",
       "  <tbody>\n",
       "    <tr>\n",
       "      <th>165469</th>\n",
       "      <td>2008</td>\n",
       "      <td>8</td>\n",
       "      <td>13</td>\n",
       "      <td>1</td>\n",
       "      <td>29</td>\n",
       "      <td>24024</td>\n",
       "      <td>2</td>\n",
       "      <td>B10</td>\n",
       "      <td>2</td>\n",
       "      <td>4</td>\n",
       "      <td>1</td>\n",
       "      <td>67</td>\n",
       "      <td>1</td>\n",
       "      <td>1</td>\n",
       "    </tr>\n",
       "    <tr>\n",
       "      <th>165470</th>\n",
       "      <td>2008</td>\n",
       "      <td>8</td>\n",
       "      <td>13</td>\n",
       "      <td>1</td>\n",
       "      <td>9</td>\n",
       "      <td>24025</td>\n",
       "      <td>1</td>\n",
       "      <td>A11</td>\n",
       "      <td>3</td>\n",
       "      <td>4</td>\n",
       "      <td>1</td>\n",
       "      <td>62</td>\n",
       "      <td>1</td>\n",
       "      <td>1</td>\n",
       "    </tr>\n",
       "    <tr>\n",
       "      <th>165471</th>\n",
       "      <td>2008</td>\n",
       "      <td>8</td>\n",
       "      <td>13</td>\n",
       "      <td>1</td>\n",
       "      <td>34</td>\n",
       "      <td>24026</td>\n",
       "      <td>1</td>\n",
       "      <td>A2</td>\n",
       "      <td>3</td>\n",
       "      <td>1</td>\n",
       "      <td>1</td>\n",
       "      <td>43</td>\n",
       "      <td>2</td>\n",
       "      <td>1</td>\n",
       "    </tr>\n",
       "    <tr>\n",
       "      <th>165472</th>\n",
       "      <td>2008</td>\n",
       "      <td>8</td>\n",
       "      <td>13</td>\n",
       "      <td>2</td>\n",
       "      <td>34</td>\n",
       "      <td>24026</td>\n",
       "      <td>3</td>\n",
       "      <td>C2</td>\n",
       "      <td>12</td>\n",
       "      <td>1</td>\n",
       "      <td>1</td>\n",
       "      <td>43</td>\n",
       "      <td>1</td>\n",
       "      <td>1</td>\n",
       "    </tr>\n",
       "    <tr>\n",
       "      <th>165473</th>\n",
       "      <td>2008</td>\n",
       "      <td>8</td>\n",
       "      <td>13</td>\n",
       "      <td>3</td>\n",
       "      <td>34</td>\n",
       "      <td>24026</td>\n",
       "      <td>2</td>\n",
       "      <td>B2</td>\n",
       "      <td>3</td>\n",
       "      <td>1</td>\n",
       "      <td>2</td>\n",
       "      <td>57</td>\n",
       "      <td>1</td>\n",
       "      <td>1</td>\n",
       "    </tr>\n",
       "  </tbody>\n",
       "</table>\n",
       "</div>"
      ],
      "text/plain": [
       "        year  month  day  order  country  session ID  page 1 (main category)  \\\n",
       "165469  2008      8   13      1       29       24024                       2   \n",
       "165470  2008      8   13      1        9       24025                       1   \n",
       "165471  2008      8   13      1       34       24026                       1   \n",
       "165472  2008      8   13      2       34       24026                       3   \n",
       "165473  2008      8   13      3       34       24026                       2   \n",
       "\n",
       "       page 2 (clothing model)  colour  location  model photography  price  \\\n",
       "165469                     B10       2         4                  1     67   \n",
       "165470                     A11       3         4                  1     62   \n",
       "165471                      A2       3         1                  1     43   \n",
       "165472                      C2      12         1                  1     43   \n",
       "165473                      B2       3         1                  2     57   \n",
       "\n",
       "        price 2  page  \n",
       "165469        1     1  \n",
       "165470        1     1  \n",
       "165471        2     1  \n",
       "165472        1     1  \n",
       "165473        1     1  "
      ]
     },
     "execution_count": 2,
     "metadata": {},
     "output_type": "execute_result"
    }
   ],
   "source": [
    "df_eshop.tail()"
   ]
  },
  {
   "cell_type": "code",
   "execution_count": 3,
   "id": "52ee2a01",
   "metadata": {},
   "outputs": [
    {
     "data": {
      "text/html": [
       "<div>\n",
       "<style scoped>\n",
       "    .dataframe tbody tr th:only-of-type {\n",
       "        vertical-align: middle;\n",
       "    }\n",
       "\n",
       "    .dataframe tbody tr th {\n",
       "        vertical-align: top;\n",
       "    }\n",
       "\n",
       "    .dataframe thead th {\n",
       "        text-align: right;\n",
       "    }\n",
       "</style>\n",
       "<table border=\"1\" class=\"dataframe\">\n",
       "  <thead>\n",
       "    <tr style=\"text-align: right;\">\n",
       "      <th></th>\n",
       "      <th>year</th>\n",
       "      <th>month</th>\n",
       "      <th>day</th>\n",
       "      <th>order</th>\n",
       "      <th>country</th>\n",
       "      <th>session ID</th>\n",
       "      <th>page 1 (main category)</th>\n",
       "      <th>colour</th>\n",
       "      <th>location</th>\n",
       "      <th>model photography</th>\n",
       "      <th>price</th>\n",
       "      <th>price 2</th>\n",
       "      <th>page</th>\n",
       "    </tr>\n",
       "  </thead>\n",
       "  <tbody>\n",
       "    <tr>\n",
       "      <th>count</th>\n",
       "      <td>165474.0</td>\n",
       "      <td>165474.000000</td>\n",
       "      <td>165474.000000</td>\n",
       "      <td>165474.000000</td>\n",
       "      <td>165474.000000</td>\n",
       "      <td>165474.000000</td>\n",
       "      <td>165474.000000</td>\n",
       "      <td>165474.000000</td>\n",
       "      <td>165474.000000</td>\n",
       "      <td>165474.000000</td>\n",
       "      <td>165474.000000</td>\n",
       "      <td>165474.000000</td>\n",
       "      <td>165474.000000</td>\n",
       "    </tr>\n",
       "    <tr>\n",
       "      <th>mean</th>\n",
       "      <td>2008.0</td>\n",
       "      <td>5.585887</td>\n",
       "      <td>14.524554</td>\n",
       "      <td>9.817476</td>\n",
       "      <td>26.952621</td>\n",
       "      <td>12058.417056</td>\n",
       "      <td>2.400842</td>\n",
       "      <td>6.227655</td>\n",
       "      <td>3.258198</td>\n",
       "      <td>1.260071</td>\n",
       "      <td>43.802507</td>\n",
       "      <td>1.488167</td>\n",
       "      <td>1.710166</td>\n",
       "    </tr>\n",
       "    <tr>\n",
       "      <th>std</th>\n",
       "      <td>0.0</td>\n",
       "      <td>1.328160</td>\n",
       "      <td>8.830374</td>\n",
       "      <td>13.478411</td>\n",
       "      <td>7.150691</td>\n",
       "      <td>7008.418903</td>\n",
       "      <td>1.144420</td>\n",
       "      <td>4.235606</td>\n",
       "      <td>1.713206</td>\n",
       "      <td>0.438674</td>\n",
       "      <td>12.548131</td>\n",
       "      <td>0.499861</td>\n",
       "      <td>0.982412</td>\n",
       "    </tr>\n",
       "    <tr>\n",
       "      <th>min</th>\n",
       "      <td>2008.0</td>\n",
       "      <td>4.000000</td>\n",
       "      <td>1.000000</td>\n",
       "      <td>1.000000</td>\n",
       "      <td>1.000000</td>\n",
       "      <td>1.000000</td>\n",
       "      <td>1.000000</td>\n",
       "      <td>1.000000</td>\n",
       "      <td>1.000000</td>\n",
       "      <td>1.000000</td>\n",
       "      <td>18.000000</td>\n",
       "      <td>1.000000</td>\n",
       "      <td>1.000000</td>\n",
       "    </tr>\n",
       "    <tr>\n",
       "      <th>25%</th>\n",
       "      <td>2008.0</td>\n",
       "      <td>4.000000</td>\n",
       "      <td>7.000000</td>\n",
       "      <td>2.000000</td>\n",
       "      <td>29.000000</td>\n",
       "      <td>5931.000000</td>\n",
       "      <td>1.000000</td>\n",
       "      <td>3.000000</td>\n",
       "      <td>2.000000</td>\n",
       "      <td>1.000000</td>\n",
       "      <td>33.000000</td>\n",
       "      <td>1.000000</td>\n",
       "      <td>1.000000</td>\n",
       "    </tr>\n",
       "    <tr>\n",
       "      <th>50%</th>\n",
       "      <td>2008.0</td>\n",
       "      <td>5.000000</td>\n",
       "      <td>14.000000</td>\n",
       "      <td>6.000000</td>\n",
       "      <td>29.000000</td>\n",
       "      <td>11967.500000</td>\n",
       "      <td>2.000000</td>\n",
       "      <td>4.000000</td>\n",
       "      <td>3.000000</td>\n",
       "      <td>1.000000</td>\n",
       "      <td>43.000000</td>\n",
       "      <td>1.000000</td>\n",
       "      <td>1.000000</td>\n",
       "    </tr>\n",
       "    <tr>\n",
       "      <th>75%</th>\n",
       "      <td>2008.0</td>\n",
       "      <td>7.000000</td>\n",
       "      <td>22.000000</td>\n",
       "      <td>12.000000</td>\n",
       "      <td>29.000000</td>\n",
       "      <td>18219.000000</td>\n",
       "      <td>3.000000</td>\n",
       "      <td>9.000000</td>\n",
       "      <td>5.000000</td>\n",
       "      <td>2.000000</td>\n",
       "      <td>52.000000</td>\n",
       "      <td>2.000000</td>\n",
       "      <td>2.000000</td>\n",
       "    </tr>\n",
       "    <tr>\n",
       "      <th>max</th>\n",
       "      <td>2008.0</td>\n",
       "      <td>8.000000</td>\n",
       "      <td>31.000000</td>\n",
       "      <td>195.000000</td>\n",
       "      <td>47.000000</td>\n",
       "      <td>24026.000000</td>\n",
       "      <td>4.000000</td>\n",
       "      <td>14.000000</td>\n",
       "      <td>6.000000</td>\n",
       "      <td>2.000000</td>\n",
       "      <td>82.000000</td>\n",
       "      <td>2.000000</td>\n",
       "      <td>5.000000</td>\n",
       "    </tr>\n",
       "  </tbody>\n",
       "</table>\n",
       "</div>"
      ],
      "text/plain": [
       "           year          month            day          order        country  \\\n",
       "count  165474.0  165474.000000  165474.000000  165474.000000  165474.000000   \n",
       "mean     2008.0       5.585887      14.524554       9.817476      26.952621   \n",
       "std         0.0       1.328160       8.830374      13.478411       7.150691   \n",
       "min      2008.0       4.000000       1.000000       1.000000       1.000000   \n",
       "25%      2008.0       4.000000       7.000000       2.000000      29.000000   \n",
       "50%      2008.0       5.000000      14.000000       6.000000      29.000000   \n",
       "75%      2008.0       7.000000      22.000000      12.000000      29.000000   \n",
       "max      2008.0       8.000000      31.000000     195.000000      47.000000   \n",
       "\n",
       "          session ID  page 1 (main category)         colour       location  \\\n",
       "count  165474.000000           165474.000000  165474.000000  165474.000000   \n",
       "mean    12058.417056                2.400842       6.227655       3.258198   \n",
       "std      7008.418903                1.144420       4.235606       1.713206   \n",
       "min         1.000000                1.000000       1.000000       1.000000   \n",
       "25%      5931.000000                1.000000       3.000000       2.000000   \n",
       "50%     11967.500000                2.000000       4.000000       3.000000   \n",
       "75%     18219.000000                3.000000       9.000000       5.000000   \n",
       "max     24026.000000                4.000000      14.000000       6.000000   \n",
       "\n",
       "       model photography          price        price 2           page  \n",
       "count      165474.000000  165474.000000  165474.000000  165474.000000  \n",
       "mean            1.260071      43.802507       1.488167       1.710166  \n",
       "std             0.438674      12.548131       0.499861       0.982412  \n",
       "min             1.000000      18.000000       1.000000       1.000000  \n",
       "25%             1.000000      33.000000       1.000000       1.000000  \n",
       "50%             1.000000      43.000000       1.000000       1.000000  \n",
       "75%             2.000000      52.000000       2.000000       2.000000  \n",
       "max             2.000000      82.000000       2.000000       5.000000  "
      ]
     },
     "execution_count": 3,
     "metadata": {},
     "output_type": "execute_result"
    }
   ],
   "source": [
    "df_eshop.describe()"
   ]
  },
  {
   "cell_type": "code",
   "execution_count": 4,
   "id": "f20a7ede",
   "metadata": {},
   "outputs": [
    {
     "data": {
      "text/plain": [
       "(165474, 14)"
      ]
     },
     "execution_count": 4,
     "metadata": {},
     "output_type": "execute_result"
    }
   ],
   "source": [
    "#To find the shape of the data \n",
    "df_eshop.shape"
   ]
  },
  {
   "cell_type": "code",
   "execution_count": 5,
   "id": "8af77f4c",
   "metadata": {},
   "outputs": [
    {
     "name": "stdout",
     "output_type": "stream",
     "text": [
      "<class 'pandas.core.frame.DataFrame'>\n",
      "RangeIndex: 165474 entries, 0 to 165473\n",
      "Data columns (total 14 columns):\n",
      " #   Column                   Non-Null Count   Dtype \n",
      "---  ------                   --------------   ----- \n",
      " 0   year                     165474 non-null  int64 \n",
      " 1   month                    165474 non-null  int64 \n",
      " 2   day                      165474 non-null  int64 \n",
      " 3   order                    165474 non-null  int64 \n",
      " 4   country                  165474 non-null  int64 \n",
      " 5   session ID               165474 non-null  int64 \n",
      " 6   page 1 (main category)   165474 non-null  int64 \n",
      " 7   page 2 (clothing model)  165474 non-null  object\n",
      " 8   colour                   165474 non-null  int64 \n",
      " 9   location                 165474 non-null  int64 \n",
      " 10  model photography        165474 non-null  int64 \n",
      " 11  price                    165474 non-null  int64 \n",
      " 12  price 2                  165474 non-null  int64 \n",
      " 13  page                     165474 non-null  int64 \n",
      "dtypes: int64(13), object(1)\n",
      "memory usage: 17.7+ MB\n"
     ]
    }
   ],
   "source": [
    "df_eshop.info()"
   ]
  },
  {
   "cell_type": "code",
   "execution_count": 6,
   "id": "e26c8672",
   "metadata": {},
   "outputs": [
    {
     "data": {
      "text/plain": [
       "year                       0\n",
       "month                      0\n",
       "day                        0\n",
       "order                      0\n",
       "country                    0\n",
       "session ID                 0\n",
       "page 1 (main category)     0\n",
       "page 2 (clothing model)    0\n",
       "colour                     0\n",
       "location                   0\n",
       "model photography          0\n",
       "price                      0\n",
       "price 2                    0\n",
       "page                       0\n",
       "dtype: int64"
      ]
     },
     "execution_count": 6,
     "metadata": {},
     "output_type": "execute_result"
    }
   ],
   "source": [
    "df_eshop.isnull().sum()"
   ]
  },
  {
   "cell_type": "code",
   "execution_count": 7,
   "id": "6318ceaf",
   "metadata": {},
   "outputs": [
    {
     "data": {
      "text/plain": [
       "0"
      ]
     },
     "execution_count": 7,
     "metadata": {},
     "output_type": "execute_result"
    }
   ],
   "source": [
    "df_eshop.duplicated().sum()"
   ]
  },
  {
   "cell_type": "code",
   "execution_count": 8,
   "id": "de4246b0",
   "metadata": {},
   "outputs": [
    {
     "name": "stdout",
     "output_type": "stream",
     "text": [
      "['A1' 'A10' 'A11' 'A12' 'A13' 'A14' 'A15' 'A16' 'A17' 'A18' 'A19' 'A2'\n",
      " 'A20' 'A21' 'A22' 'A23' 'A24' 'A25' 'A26' 'A27' 'A28' 'A29' 'A3' 'A30'\n",
      " 'A31' 'A32' 'A33' 'A34' 'A35' 'A36' 'A37' 'A38' 'A39' 'A4' 'A40' 'A41'\n",
      " 'A42' 'A43' 'A5' 'A6' 'A7' 'A8' 'A9' 'B1' 'B10' 'B11' 'B12' 'B13' 'B14'\n",
      " 'B15' 'B16' 'B17' 'B19' 'B2' 'B20' 'B21' 'B22' 'B23' 'B24' 'B25' 'B26'\n",
      " 'B27' 'B28' 'B29' 'B3' 'B30' 'B31' 'B32' 'B33' 'B34' 'B4' 'B5' 'B6' 'B7'\n",
      " 'B8' 'B9' 'C1' 'C10' 'C11' 'C12' 'C13' 'C14' 'C15' 'C16' 'C17' 'C18'\n",
      " 'C19' 'C2' 'C20' 'C21' 'C22' 'C23' 'C24' 'C25' 'C26' 'C27' 'C28' 'C29'\n",
      " 'C3' 'C30' 'C31' 'C32' 'C33' 'C34' 'C35' 'C36' 'C37' 'C38' 'C39' 'C4'\n",
      " 'C40' 'C41' 'C42' 'C43' 'C44' 'C45' 'C46' 'C47' 'C48' 'C49' 'C5' 'C50'\n",
      " 'C51' 'C52' 'C53' 'C54' 'C55' 'C56' 'C57' 'C58' 'C59' 'C6' 'C7' 'C8' 'C9'\n",
      " 'P1' 'P10' 'P11' 'P12' 'P13' 'P14' 'P15' 'P16' 'P17' 'P18' 'P19' 'P2'\n",
      " 'P20' 'P21' 'P22' 'P23' 'P24' 'P25' 'P26' 'P27' 'P28' 'P29' 'P3' 'P30'\n",
      " 'P31' 'P32' 'P33' 'P34' 'P35' 'P36' 'P37' 'P38' 'P39' 'P4' 'P40' 'P41'\n",
      " 'P42' 'P43' 'P44' 'P45' 'P46' 'P47' 'P48' 'P49' 'P5' 'P50' 'P51' 'P52'\n",
      " 'P53' 'P54' 'P55' 'P56' 'P57' 'P58' 'P59' 'P6' 'P60' 'P61' 'P62' 'P63'\n",
      " 'P64' 'P65' 'P66' 'P67' 'P68' 'P69' 'P7' 'P70' 'P71' 'P72' 'P73' 'P74'\n",
      " 'P75' 'P76' 'P77' 'P78' 'P79' 'P8' 'P80' 'P81' 'P82' 'P9']\n"
     ]
    }
   ],
   "source": [
    "import numpy as np\n",
    "# Find unique values of a column\n",
    "df_eshop = np.unique(df_eshop[['page 2 (clothing model)']].values)\n",
    "print(df_eshop)"
   ]
  },
  {
   "cell_type": "code",
   "execution_count": 11,
   "id": "3cfcfb7a",
   "metadata": {},
   "outputs": [
    {
     "name": "stdout",
     "output_type": "stream",
     "text": [
      "29    133963\n",
      "9      18003\n",
      "24      4091\n",
      "46      2522\n",
      "44      1385\n",
      "16       834\n",
      "21       811\n",
      "34       716\n",
      "41       684\n",
      "3        256\n",
      "27       227\n",
      "12       210\n",
      "42       170\n",
      "37       163\n",
      "10       152\n",
      "31       144\n",
      "22       144\n",
      "28       139\n",
      "38       137\n",
      "15       125\n",
      "11       115\n",
      "25        71\n",
      "2         58\n",
      "32        49\n",
      "23        46\n",
      "14        43\n",
      "39        34\n",
      "43        31\n",
      "19        29\n",
      "17        23\n",
      "36        19\n",
      "18        18\n",
      "20        10\n",
      "7          9\n",
      "47         7\n",
      "45         6\n",
      "6          5\n",
      "30         5\n",
      "5          4\n",
      "33         3\n",
      "1          3\n",
      "35         3\n",
      "13         2\n",
      "26         2\n",
      "40         1\n",
      "4          1\n",
      "8          1\n",
      "Name: country, dtype: int64\n",
      "1    49742\n",
      "4    38747\n",
      "3    38577\n",
      "2    38408\n",
      "Name: page 1 (main category), dtype: int64\n",
      "B4     3579\n",
      "A2     3013\n",
      "A11    2789\n",
      "P1     2681\n",
      "B10    2566\n",
      "       ... \n",
      "P66      46\n",
      "P22       2\n",
      "P79       2\n",
      "P54       1\n",
      "P28       1\n",
      "Name: page 2 (clothing model), Length: 217, dtype: int64\n",
      "2     29764\n",
      "3     29259\n",
      "6     17476\n",
      "4     16517\n",
      "14    15939\n",
      "9     13531\n",
      "12     8830\n",
      "1      7785\n",
      "7      6876\n",
      "13     6295\n",
      "11     5292\n",
      "10     3579\n",
      "8      2664\n",
      "5      1667\n",
      "Name: colour, dtype: int64\n"
     ]
    }
   ],
   "source": [
    "\n",
    "# create frequency distribution table for country\n",
    "country_freq = df_eshop['country'].value_counts()\n",
    "print(country_freq)\n",
    "\n",
    "# create frequency distribution table for page 1 (main category)\n",
    "page1_freq = df_eshop['page 1 (main category)'].value_counts()\n",
    "print(page1_freq)\n",
    "\n",
    "# create frequency distribution table for page 2 (clothing model)\n",
    "page2_freq = df_eshop['page 2 (clothing model)'].value_counts()\n",
    "print(page2_freq)\n",
    "\n",
    "# create frequency distribution table for colour\n",
    "colour_freq = df_eshop['colour'].value_counts()\n",
    "print(colour_freq)"
   ]
  },
  {
   "cell_type": "markdown",
   "id": "3f8602b9",
   "metadata": {},
   "source": [
    "For the \"country\" column, we can see the distribution of the number of orders from each country. We can identify which countries have the highest and lowest number of orders, and use this information to make decisions about marketing, shipping, and inventory management strategies.\n",
    "\n",
    "For the \"page 1 (main category)\" column, we can see the distribution of the number of clicks on each main category page. We can identify which main categories are the most popular among users and use this information to improve our website's layout and navigation.\n",
    "\n",
    "For the \"page 2 (clothing model)\" column, we can see the distribution of the number of clicks on each clothing model. We can identify which clothing models are the most popular among users and use this information to make decisions about inventory management and marketing strategies.\n",
    "\n",
    "For the \"colour\" column, we can see the distribution of the number of orders for each colour. We can identify which colours are the most popular among customers and use this information to make decisions about inventory management and marketing strategies."
   ]
  },
  {
   "cell_type": "code",
   "execution_count": 141,
   "id": "fa7f4de3",
   "metadata": {},
   "outputs": [],
   "source": [
    "from sklearn.preprocessing import OrdinalEncoder\n",
    "\n",
    "# create an instance of the OrdinalEncoder\n",
    "oe = OrdinalEncoder()\n",
    "\n",
    "# fit and transform the categorical feature\n",
    "df_eshop[\"page 2 (clothing model)\"] = oe.fit_transform(df_eshop[[\"page 2 (clothing model)\"]])"
   ]
  },
  {
   "cell_type": "code",
   "execution_count": 142,
   "id": "245b1664",
   "metadata": {},
   "outputs": [
    {
     "data": {
      "text/html": [
       "<div>\n",
       "<style scoped>\n",
       "    .dataframe tbody tr th:only-of-type {\n",
       "        vertical-align: middle;\n",
       "    }\n",
       "\n",
       "    .dataframe tbody tr th {\n",
       "        vertical-align: top;\n",
       "    }\n",
       "\n",
       "    .dataframe thead th {\n",
       "        text-align: right;\n",
       "    }\n",
       "</style>\n",
       "<table border=\"1\" class=\"dataframe\">\n",
       "  <thead>\n",
       "    <tr style=\"text-align: right;\">\n",
       "      <th></th>\n",
       "      <th>year</th>\n",
       "      <th>month</th>\n",
       "      <th>day</th>\n",
       "      <th>order</th>\n",
       "      <th>country</th>\n",
       "      <th>session ID</th>\n",
       "      <th>page 1 (main category)</th>\n",
       "      <th>page 2 (clothing model)</th>\n",
       "      <th>colour</th>\n",
       "      <th>location</th>\n",
       "      <th>model photography</th>\n",
       "      <th>price</th>\n",
       "      <th>price 2</th>\n",
       "      <th>page</th>\n",
       "      <th>page1_encoded</th>\n",
       "      <th>sessionid_order</th>\n",
       "      <th>max_clicks_per_session</th>\n",
       "    </tr>\n",
       "  </thead>\n",
       "  <tbody>\n",
       "    <tr>\n",
       "      <th>0</th>\n",
       "      <td>2008</td>\n",
       "      <td>4</td>\n",
       "      <td>1</td>\n",
       "      <td>1</td>\n",
       "      <td>29</td>\n",
       "      <td>1</td>\n",
       "      <td>1</td>\n",
       "      <td>0.0</td>\n",
       "      <td>1</td>\n",
       "      <td>5</td>\n",
       "      <td>1</td>\n",
       "      <td>28</td>\n",
       "      <td>2</td>\n",
       "      <td>1</td>\n",
       "      <td>0.0</td>\n",
       "      <td>1_1</td>\n",
       "      <td>9</td>\n",
       "    </tr>\n",
       "    <tr>\n",
       "      <th>1</th>\n",
       "      <td>2008</td>\n",
       "      <td>4</td>\n",
       "      <td>1</td>\n",
       "      <td>2</td>\n",
       "      <td>29</td>\n",
       "      <td>1</td>\n",
       "      <td>1</td>\n",
       "      <td>1.0</td>\n",
       "      <td>1</td>\n",
       "      <td>6</td>\n",
       "      <td>1</td>\n",
       "      <td>33</td>\n",
       "      <td>2</td>\n",
       "      <td>1</td>\n",
       "      <td>0.0</td>\n",
       "      <td>1_2</td>\n",
       "      <td>9</td>\n",
       "    </tr>\n",
       "    <tr>\n",
       "      <th>2</th>\n",
       "      <td>2008</td>\n",
       "      <td>4</td>\n",
       "      <td>1</td>\n",
       "      <td>3</td>\n",
       "      <td>29</td>\n",
       "      <td>1</td>\n",
       "      <td>2</td>\n",
       "      <td>2.0</td>\n",
       "      <td>10</td>\n",
       "      <td>2</td>\n",
       "      <td>1</td>\n",
       "      <td>52</td>\n",
       "      <td>1</td>\n",
       "      <td>1</td>\n",
       "      <td>1.0</td>\n",
       "      <td>1_3</td>\n",
       "      <td>9</td>\n",
       "    </tr>\n",
       "    <tr>\n",
       "      <th>3</th>\n",
       "      <td>2008</td>\n",
       "      <td>4</td>\n",
       "      <td>1</td>\n",
       "      <td>4</td>\n",
       "      <td>29</td>\n",
       "      <td>1</td>\n",
       "      <td>2</td>\n",
       "      <td>3.0</td>\n",
       "      <td>6</td>\n",
       "      <td>6</td>\n",
       "      <td>2</td>\n",
       "      <td>38</td>\n",
       "      <td>2</td>\n",
       "      <td>1</td>\n",
       "      <td>1.0</td>\n",
       "      <td>1_4</td>\n",
       "      <td>9</td>\n",
       "    </tr>\n",
       "    <tr>\n",
       "      <th>4</th>\n",
       "      <td>2008</td>\n",
       "      <td>4</td>\n",
       "      <td>1</td>\n",
       "      <td>5</td>\n",
       "      <td>29</td>\n",
       "      <td>1</td>\n",
       "      <td>2</td>\n",
       "      <td>4.0</td>\n",
       "      <td>4</td>\n",
       "      <td>3</td>\n",
       "      <td>2</td>\n",
       "      <td>52</td>\n",
       "      <td>1</td>\n",
       "      <td>1</td>\n",
       "      <td>1.0</td>\n",
       "      <td>1_5</td>\n",
       "      <td>9</td>\n",
       "    </tr>\n",
       "  </tbody>\n",
       "</table>\n",
       "</div>"
      ],
      "text/plain": [
       "   year  month  day  order  country  session ID  page 1 (main category)  \\\n",
       "0  2008      4    1      1       29           1                       1   \n",
       "1  2008      4    1      2       29           1                       1   \n",
       "2  2008      4    1      3       29           1                       2   \n",
       "3  2008      4    1      4       29           1                       2   \n",
       "4  2008      4    1      5       29           1                       2   \n",
       "\n",
       "   page 2 (clothing model)  colour  location  model photography  price  \\\n",
       "0                      0.0       1         5                  1     28   \n",
       "1                      1.0       1         6                  1     33   \n",
       "2                      2.0      10         2                  1     52   \n",
       "3                      3.0       6         6                  2     38   \n",
       "4                      4.0       4         3                  2     52   \n",
       "\n",
       "   price 2  page  page1_encoded sessionid_order  max_clicks_per_session  \n",
       "0        2     1            0.0             1_1                       9  \n",
       "1        2     1            0.0             1_2                       9  \n",
       "2        1     1            1.0             1_3                       9  \n",
       "3        2     1            1.0             1_4                       9  \n",
       "4        1     1            1.0             1_5                       9  "
      ]
     },
     "execution_count": 142,
     "metadata": {},
     "output_type": "execute_result"
    }
   ],
   "source": [
    "# Create a new column by concatenating session ID and order\n",
    "df_eshop['sessionid_order']=df_eshop['session ID'].astype(str) + '_' + df_eshop['order'].astype(str)\n",
    "\n",
    "# Select columns of interest\n",
    "df_eshop[['session ID', 'sessionid_order', 'order']]\n",
    "\n",
    "# Find the maximum order number for each session ID\n",
    "max_orders = df_eshop.groupby(['session ID'])['order'].max()\n",
    "\n",
    "# Map the maximum order number to each row based on the session ID\n",
    "df_eshop['max_clicks_per_session'] = df_eshop['session ID'].map(max_orders)\n",
    "\n",
    "# View the modified DataFrame\n",
    "df_eshop.head()"
   ]
  },
  {
   "cell_type": "code",
   "execution_count": 14,
   "id": "d7988902",
   "metadata": {},
   "outputs": [
    {
     "data": {
      "image/png": "[encoded data removed]",
      "text/plain": [
       "<Figure size 640x480 with 1 Axes>"
      ]
     },
     "metadata": {},
     "output_type": "display_data"
    }
   ],
   "source": [
    "# Histogram for price\n",
    "sns.histplot(x='price', data=df_eshop)\n",
    "plt.title('Distribution of price')\n",
    "plt.show()"
   ]
  },
  {
   "cell_type": "code",
   "execution_count": 15,
   "id": "b9fadfce",
   "metadata": {},
   "outputs": [
    {
     "data": {
      "image/png": "[encoded data removed]",
      "text/plain": [
       "<Figure size 640x480 with 1 Axes>"
      ]
     },
     "metadata": {},
     "output_type": "display_data"
    }
   ],
   "source": [
    "import matplotlib.pyplot as plt\n",
    "plt.bar(df_eshop['page 1 (main category)'].value_counts().index, df_eshop['page 1 (main category)'].value_counts())\n",
    "plt.xlabel('Page 1 (Main Category)')\n",
    "plt.ylabel('Frequency')\n",
    "plt.title('Bar Plot of Page 1 (Main Category)')\n",
    "plt.show()"
   ]
  },
  {
   "cell_type": "code",
   "execution_count": 16,
   "id": "46490e67",
   "metadata": {},
   "outputs": [
    {
     "data": {
      "image/png": "[encoded data removed]",
      "text/plain": [
       "<Figure size 640x480 with 1 Axes>"
      ]
     },
     "metadata": {},
     "output_type": "display_data"
    }
   ],
   "source": [
    "import seaborn as sns\n",
    "sns.histplot(df_eshop['country'])\n",
    "plt.xlabel('Country')\n",
    "plt.ylabel('Frequency')\n",
    "plt.title('Histogram of Country')\n",
    "plt.show()"
   ]
  },
  {
   "cell_type": "code",
   "execution_count": 17,
   "id": "fc89c209",
   "metadata": {},
   "outputs": [
    {
     "name": "stdout",
     "output_type": "stream",
     "text": [
      "Colour of the trouser with the highest price:  3\n"
     ]
    }
   ],
   "source": [
    "trousers = df_eshop[df_eshop['page 1 (main category)'] == 1]\n",
    "max_price_row = trousers.loc[trousers['price'].idxmax()]\n",
    "print(\"Colour of the trouser with the highest price: \", max_price_row['colour'])"
   ]
  },
  {
   "cell_type": "markdown",
   "id": "173f8d77",
   "metadata": {},
   "source": [
    "Hence,Colour of the trouser with the highest price is Blue"
   ]
  },
  {
   "cell_type": "code",
   "execution_count": 18,
   "id": "fee6ad45",
   "metadata": {},
   "outputs": [
    {
     "data": {
      "text/plain": [
       "Text(0, 0.5, 'Count')"
      ]
     },
     "execution_count": 18,
     "metadata": {},
     "output_type": "execute_result"
    },
    {
     "data": {
      "image/png": "[encoded data removed]",
      "text/plain": [
       "<Figure size 640x480 with 1 Axes>"
      ]
     },
     "metadata": {},
     "output_type": "display_data"
    }
   ],
   "source": [
    "df_eshop['colour'].value_counts()[:5].plot(kind='bar', color = 'green')\n",
    "plt.xlabel('Color')\n",
    "plt.ylabel('Count')"
   ]
  },
  {
   "cell_type": "markdown",
   "id": "91b996f2",
   "metadata": {},
   "source": [
    "Black was the most common color amongst all products followed by blue. "
   ]
  },
  {
   "cell_type": "code",
   "execution_count": 19,
   "id": "40088482",
   "metadata": {},
   "outputs": [
    {
     "name": "stdout",
     "output_type": "stream",
     "text": [
      "          price     order\n",
      "price  1.000000 -0.064779\n",
      "order -0.064779  1.000000\n"
     ]
    }
   ],
   "source": [
    "# calculate the correlation matrix\n",
    "corr_matrix = df_eshop[['price', 'order']].corr()\n",
    "\n",
    "# print the correlation matrix\n",
    "print(corr_matrix)\n"
   ]
  },
  {
   "cell_type": "code",
   "execution_count": 20,
   "id": "024d8f3e",
   "metadata": {},
   "outputs": [
    {
     "data": {
      "text/plain": [
       "<seaborn.axisgrid.PairGrid at 0x7fe812e25a60>"
      ]
     },
     "execution_count": 20,
     "metadata": {},
     "output_type": "execute_result"
    },
    {
     "data": {
      "image/png": "[encoded data removed]",
      "text/plain": [
       "<Figure size 1250x250 with 5 Axes>"
      ]
     },
     "metadata": {},
     "output_type": "display_data"
    }
   ],
   "source": [
    "# Select relevant columns\n",
    "cols = ['location', 'page 1 (main category)', 'page 2 (clothing model)', 'colour', 'model photography', 'price']\n",
    "df_eshop = df_eshop[cols]\n",
    "\n",
    "# Encode categorical variables\n",
    "df_eshop['location'] = df_eshop['location'].astype('category').cat.codes\n",
    "df_eshop['page 1 (main category)'] = df_eshop['page 1 (main category)'].astype('category').cat.codes\n",
    "df_eshop['page 2 (clothing model)'] = df_eshop['page 2 (clothing model)'].astype('category').cat.codes\n",
    "df_eshop['colour'] = df_eshop['colour'].astype('category').cat.codes\n",
    "df_eshop['model photography'] = df_eshop['model photography'].astype('category').cat.codes\n",
    "\n",
    "# Plot pairplot\n",
    "sns.pairplot(df_eshop, x_vars=['location', 'page 1 (main category)', 'page 2 (clothing model)', 'colour', 'model photography'], y_vars='price', kind='reg')\n"
   ]
  },
  {
   "cell_type": "code",
   "execution_count": 21,
   "id": "e47a35e7",
   "metadata": {},
   "outputs": [
    {
     "data": {
      "text/plain": [
       "<matplotlib.legend.Legend at 0x7fe81370fc10>"
      ]
     },
     "execution_count": 21,
     "metadata": {},
     "output_type": "execute_result"
    },
    {
     "data": {
      "image/png": "[encoded data removed]",
      "text/plain": [
       "<Figure size 1000x800 with 1 Axes>"
      ]
     },
     "metadata": {},
     "output_type": "display_data"
    }
   ],
   "source": [
    "skirts = df_eshop[df_eshop['page 1 (main category)'] == 2]\n",
    "blouses = df_eshop[df_eshop['page 1 (main category)'] == 3]\n",
    "sale = df_eshop[df_eshop['page 1 (main category)'] == 4]\n",
    "trousers = df_eshop[df_eshop['page 1 (main category)'] == 1]\n",
    "\n",
    "# scatter plot \n",
    "plt.figure(figsize=(10, 8))\n",
    "plt.scatter(trousers['colour'], trousers['price'], color='green', s=40, label='Trousers')\n",
    "plt.scatter(skirts['colour'], skirts['price'], color='orange', s=40, label='Skirts')\n",
    "plt.scatter(blouses['colour'], blouses['price'], color='red', s=40, label='Blouses')\n",
    "plt.scatter(sale['colour'], sale['price'], color='blue', s=40, label='Sale')\n",
    "plt.ylabel('Price in USD')\n",
    "plt.xlabel('Color')\n",
    "plt.legend(loc='upper right', fontsize='small')"
   ]
  },
  {
   "cell_type": "markdown",
   "id": "65faf1b4",
   "metadata": {},
   "source": [
    "# Poland "
   ]
  },
  {
   "cell_type": "code",
   "execution_count": 27,
   "id": "6b662edf",
   "metadata": {},
   "outputs": [
    {
     "data": {
      "text/html": [
       "<div>\n",
       "<style scoped>\n",
       "    .dataframe tbody tr th:only-of-type {\n",
       "        vertical-align: middle;\n",
       "    }\n",
       "\n",
       "    .dataframe tbody tr th {\n",
       "        vertical-align: top;\n",
       "    }\n",
       "\n",
       "    .dataframe thead th {\n",
       "        text-align: right;\n",
       "    }\n",
       "</style>\n",
       "<table border=\"1\" class=\"dataframe\">\n",
       "  <thead>\n",
       "    <tr style=\"text-align: right;\">\n",
       "      <th></th>\n",
       "      <th>country</th>\n",
       "      <th>sessionid_order</th>\n",
       "      <th>country_name</th>\n",
       "    </tr>\n",
       "  </thead>\n",
       "  <tbody>\n",
       "    <tr>\n",
       "      <th>0</th>\n",
       "      <td>29</td>\n",
       "      <td>133963</td>\n",
       "      <td>Poland</td>\n",
       "    </tr>\n",
       "    <tr>\n",
       "      <th>1</th>\n",
       "      <td>9</td>\n",
       "      <td>18003</td>\n",
       "      <td>Czech Republic</td>\n",
       "    </tr>\n",
       "    <tr>\n",
       "      <th>2</th>\n",
       "      <td>24</td>\n",
       "      <td>4091</td>\n",
       "      <td>Lithuania</td>\n",
       "    </tr>\n",
       "  </tbody>\n",
       "</table>\n",
       "</div>"
      ],
      "text/plain": [
       "   country  sessionid_order    country_name\n",
       "0       29           133963          Poland\n",
       "1        9            18003  Czech Republic\n",
       "2       24             4091       Lithuania"
      ]
     },
     "execution_count": 27,
     "metadata": {},
     "output_type": "execute_result"
    },
    {
     "data": {
      "image/png": "[encoded data removed]",
      "text/plain": [
       "<Figure size 640x480 with 1 Axes>"
      ]
     },
     "metadata": {},
     "output_type": "display_data"
    }
   ],
   "source": [
    "top_countries = df_eshop.groupby('country')['sessionid_order'].count().sort_values(ascending=False).reset_index()[0:3]\n",
    "\n",
    "def country_map(country_code):\n",
    "    if country_code==29:\n",
    "        return 'Poland'\n",
    "    elif country_code==9:\n",
    "        return 'Czech Republic'\n",
    "    else:\n",
    "        return 'Lithuania'\n",
    "\n",
    "top_countries['country_name']=top_countries['country'].apply(country_map)\n",
    "\n",
    "sns.barplot(x=top_countries['country_name'],y=top_countries['sessionid_order'])\n",
    "top_countries"
   ]
  },
  {
   "cell_type": "code",
   "execution_count": 144,
   "id": "7a68edc5",
   "metadata": {},
   "outputs": [
    {
     "data": {
      "text/html": [
       "<div>\n",
       "<style scoped>\n",
       "    .dataframe tbody tr th:only-of-type {\n",
       "        vertical-align: middle;\n",
       "    }\n",
       "\n",
       "    .dataframe tbody tr th {\n",
       "        vertical-align: top;\n",
       "    }\n",
       "\n",
       "    .dataframe thead th {\n",
       "        text-align: right;\n",
       "    }\n",
       "</style>\n",
       "<table border=\"1\" class=\"dataframe\">\n",
       "  <thead>\n",
       "    <tr style=\"text-align: right;\">\n",
       "      <th></th>\n",
       "      <th>year</th>\n",
       "      <th>month</th>\n",
       "      <th>day</th>\n",
       "      <th>order</th>\n",
       "      <th>country</th>\n",
       "      <th>session ID</th>\n",
       "      <th>page 1 (main category)</th>\n",
       "      <th>page 2 (clothing model)</th>\n",
       "      <th>colour</th>\n",
       "      <th>location</th>\n",
       "      <th>model photography</th>\n",
       "      <th>price</th>\n",
       "      <th>price 2</th>\n",
       "      <th>page</th>\n",
       "      <th>page1_encoded</th>\n",
       "      <th>sessionid_order</th>\n",
       "      <th>max_clicks_per_session</th>\n",
       "    </tr>\n",
       "  </thead>\n",
       "  <tbody>\n",
       "    <tr>\n",
       "      <th>0</th>\n",
       "      <td>2008</td>\n",
       "      <td>4</td>\n",
       "      <td>1</td>\n",
       "      <td>1</td>\n",
       "      <td>29</td>\n",
       "      <td>1</td>\n",
       "      <td>1</td>\n",
       "      <td>0.0</td>\n",
       "      <td>1</td>\n",
       "      <td>5</td>\n",
       "      <td>1</td>\n",
       "      <td>28</td>\n",
       "      <td>2</td>\n",
       "      <td>1</td>\n",
       "      <td>0.0</td>\n",
       "      <td>1_1</td>\n",
       "      <td>9</td>\n",
       "    </tr>\n",
       "    <tr>\n",
       "      <th>1</th>\n",
       "      <td>2008</td>\n",
       "      <td>4</td>\n",
       "      <td>1</td>\n",
       "      <td>2</td>\n",
       "      <td>29</td>\n",
       "      <td>1</td>\n",
       "      <td>1</td>\n",
       "      <td>1.0</td>\n",
       "      <td>1</td>\n",
       "      <td>6</td>\n",
       "      <td>1</td>\n",
       "      <td>33</td>\n",
       "      <td>2</td>\n",
       "      <td>1</td>\n",
       "      <td>0.0</td>\n",
       "      <td>1_2</td>\n",
       "      <td>9</td>\n",
       "    </tr>\n",
       "    <tr>\n",
       "      <th>2</th>\n",
       "      <td>2008</td>\n",
       "      <td>4</td>\n",
       "      <td>1</td>\n",
       "      <td>3</td>\n",
       "      <td>29</td>\n",
       "      <td>1</td>\n",
       "      <td>2</td>\n",
       "      <td>2.0</td>\n",
       "      <td>10</td>\n",
       "      <td>2</td>\n",
       "      <td>1</td>\n",
       "      <td>52</td>\n",
       "      <td>1</td>\n",
       "      <td>1</td>\n",
       "      <td>1.0</td>\n",
       "      <td>1_3</td>\n",
       "      <td>9</td>\n",
       "    </tr>\n",
       "    <tr>\n",
       "      <th>3</th>\n",
       "      <td>2008</td>\n",
       "      <td>4</td>\n",
       "      <td>1</td>\n",
       "      <td>4</td>\n",
       "      <td>29</td>\n",
       "      <td>1</td>\n",
       "      <td>2</td>\n",
       "      <td>3.0</td>\n",
       "      <td>6</td>\n",
       "      <td>6</td>\n",
       "      <td>2</td>\n",
       "      <td>38</td>\n",
       "      <td>2</td>\n",
       "      <td>1</td>\n",
       "      <td>1.0</td>\n",
       "      <td>1_4</td>\n",
       "      <td>9</td>\n",
       "    </tr>\n",
       "    <tr>\n",
       "      <th>4</th>\n",
       "      <td>2008</td>\n",
       "      <td>4</td>\n",
       "      <td>1</td>\n",
       "      <td>5</td>\n",
       "      <td>29</td>\n",
       "      <td>1</td>\n",
       "      <td>2</td>\n",
       "      <td>4.0</td>\n",
       "      <td>4</td>\n",
       "      <td>3</td>\n",
       "      <td>2</td>\n",
       "      <td>52</td>\n",
       "      <td>1</td>\n",
       "      <td>1</td>\n",
       "      <td>1.0</td>\n",
       "      <td>1_5</td>\n",
       "      <td>9</td>\n",
       "    </tr>\n",
       "  </tbody>\n",
       "</table>\n",
       "</div>"
      ],
      "text/plain": [
       "   year  month  day  order  country  session ID  page 1 (main category)  \\\n",
       "0  2008      4    1      1       29           1                       1   \n",
       "1  2008      4    1      2       29           1                       1   \n",
       "2  2008      4    1      3       29           1                       2   \n",
       "3  2008      4    1      4       29           1                       2   \n",
       "4  2008      4    1      5       29           1                       2   \n",
       "\n",
       "   page 2 (clothing model)  colour  location  model photography  price  \\\n",
       "0                      0.0       1         5                  1     28   \n",
       "1                      1.0       1         6                  1     33   \n",
       "2                      2.0      10         2                  1     52   \n",
       "3                      3.0       6         6                  2     38   \n",
       "4                      4.0       4         3                  2     52   \n",
       "\n",
       "   price 2  page  page1_encoded sessionid_order  max_clicks_per_session  \n",
       "0        2     1            0.0             1_1                       9  \n",
       "1        2     1            0.0             1_2                       9  \n",
       "2        1     1            1.0             1_3                       9  \n",
       "3        2     1            1.0             1_4                       9  \n",
       "4        1     1            1.0             1_5                       9  "
      ]
     },
     "execution_count": 144,
     "metadata": {},
     "output_type": "execute_result"
    }
   ],
   "source": [
    "clickstream_poland = df_eshop[df_eshop['country']==29]\n",
    "clickstream_poland.head()"
   ]
  },
  {
   "cell_type": "code",
   "execution_count": 145,
   "id": "859ee29c",
   "metadata": {},
   "outputs": [
    {
     "data": {
      "text/plain": [
       "colour\n",
       "5      1288\n",
       "8      2117\n",
       "10     2940\n",
       "11     4288\n",
       "13     4933\n",
       "7      5802\n",
       "1      5959\n",
       "12     7067\n",
       "9     11259\n",
       "14    13200\n",
       "4     13857\n",
       "6     14203\n",
       "3     22457\n",
       "2     24593\n",
       "Name: sessionid_order, dtype: int64"
      ]
     },
     "execution_count": 145,
     "metadata": {},
     "output_type": "execute_result"
    }
   ],
   "source": [
    "clickstream_poland.groupby('colour')['sessionid_order'].count().sort_values()"
   ]
  },
  {
   "cell_type": "code",
   "execution_count": 146,
   "id": "d40282cf",
   "metadata": {},
   "outputs": [
    {
     "data": {
      "text/plain": [
       "<AxesSubplot:xlabel='price 2', ylabel='Count'>"
      ]
     },
     "execution_count": 146,
     "metadata": {},
     "output_type": "execute_result"
    },
    {
     "data": {
      "image/png": "[encoded data removed]",
      "text/plain": [
       "<Figure size 640x480 with 1 Axes>"
      ]
     },
     "metadata": {},
     "output_type": "display_data"
    }
   ],
   "source": [
    "sns.histplot(clickstream_poland['price 2'])"
   ]
  },
  {
   "cell_type": "code",
   "execution_count": 211,
   "id": "57c06a85",
   "metadata": {},
   "outputs": [
    {
     "data": {
      "image/png": "[encoded data removed]",
      "text/plain": [
       "<Figure size 640x480 with 1 Axes>"
      ]
     },
     "metadata": {},
     "output_type": "display_data"
    }
   ],
   "source": [
    "# Scatter plot for price vs location\n",
    "sns.boxplot(x='location',y='price', data=clickstream_poland)\n",
    "plt.title('Relationship between price and location')\n",
    "plt.show()"
   ]
  },
  {
   "cell_type": "code",
   "execution_count": 147,
   "id": "6a029350",
   "metadata": {},
   "outputs": [
    {
     "data": {
      "image/png": "[encoded data removed]",
      "text/plain": [
       "<Figure size 1500x800 with 6 Axes>"
      ]
     },
     "metadata": {},
     "output_type": "display_data"
    }
   ],
   "source": [
    "fig, axes = plt.subplots(nrows=2, ncols=3, figsize=(15, 8))\n",
    "\n",
    "# Bar chart for Colour\n",
    "sns.countplot(x='colour', data=clickstream_poland, ax=axes[0, 0])\n",
    "axes[0, 0].set_title('Frequency distribution of Colour')\n",
    "\n",
    "# Bar chart for page 1 (main category)\n",
    "sns.countplot(x='page 1 (main category)', data=clickstream_poland, ax=axes[0, 1])\n",
    "axes[0, 1].set_title('Frequency distribution of page 1 (main category)')\n",
    "\n",
    "# Bar chart for location\n",
    "sns.countplot(x='location', data=clickstream_poland, ax=axes[0, 2])\n",
    "axes[0, 2].set_title('Frequency distribution of location')\n",
    "\n",
    "# Bar chart for model photography\n",
    "sns.countplot(x='model photography', data=clickstream_poland, ax=axes[1, 0])\n",
    "axes[1, 0].set_title('Frequency distribution of model photography')\n",
    "\n",
    "# Bar chart for price 2\n",
    "sns.countplot(x='price 2', data=clickstream_poland, ax=axes[1, 1],hue='page 1 (main category)')\n",
    "axes[1, 1].set_title('Frequency distribution of price 2')\n",
    "\n",
    "plt.tight_layout()\n",
    "plt.show()"
   ]
  },
  {
   "cell_type": "code",
   "execution_count": 148,
   "id": "b232ac78",
   "metadata": {},
   "outputs": [
    {
     "data": {
      "image/png": "[encoded data removed]",
      "text/plain": [
       "<Figure size 640x480 with 2 Axes>"
      ]
     },
     "metadata": {},
     "output_type": "display_data"
    }
   ],
   "source": [
    "# Compute correlation matrix\n",
    "corr = clickstream_poland[['colour', 'page 1 (main category)', 'location', 'model photography', 'price', 'page', 'price 2']].corr()\n",
    "\n",
    "# Plot heatmap\n",
    "sns.heatmap(corr, annot=True, cmap='coolwarm')\n",
    "plt.title('Correlation matrix')\n",
    "plt.show()"
   ]
  },
  {
   "cell_type": "markdown",
   "id": "a85dd5f9",
   "metadata": {},
   "source": [
    "# Chi-square and ANOVA test "
   ]
  },
  {
   "cell_type": "code",
   "execution_count": 121,
   "id": "546f230a",
   "metadata": {},
   "outputs": [
    {
     "name": "stdout",
     "output_type": "stream",
     "text": [
      "Chi-square statistic: 2546.0895395958396\n",
      "P-value: 8.907785951498435e-238\n",
      "Degrees of freedom: 598\n",
      "Expected values: [[1.41139998e-01 2.72870662e+00 1.20439465e+01 4.70466659e-02\n",
      "  1.88186664e-01 2.35233330e-01 4.23419993e-01 4.70466659e-02\n",
      "  8.46981127e+02 7.15109322e+00 5.41036658e+00 9.87979985e+00\n",
      "  9.40933319e-02 2.02300664e+00 5.88083324e+00 3.92369194e+01\n",
      "  1.08207332e+00 8.46839987e-01 1.36435331e+00 4.70466659e-01\n",
      "  3.81548461e+01 6.77471990e+00 2.16414663e+00 1.92467910e+02\n",
      "  3.34031328e+00 9.40933319e-02 1.06795932e+01 6.53948657e+00\n",
      "  6.30251251e+03 2.35233330e-01 6.77471990e+00 2.30528663e+00\n",
      "  1.41139998e-01 3.36854128e+01 1.41139998e-01 8.93886653e-01\n",
      "  7.66860655e+00 6.44539323e+00 1.59958664e+00 4.70466659e-02\n",
      "  3.21799195e+01 7.99793321e+00 1.45844664e+00 6.51596323e+01\n",
      "  2.82279996e-01 1.18651692e+02 3.29326662e-01]\n",
      " [5.39613474e-01 1.04325272e+01 4.60470164e+01 1.79871158e-01\n",
      "  7.19484632e-01 8.99355790e-01 1.61884042e+00 1.79871158e-01\n",
      "  3.23822046e+03 2.73404160e+01 2.06851832e+01 3.77729432e+01\n",
      "  3.59742316e-01 7.73445979e+00 2.24838948e+01 1.50012546e+02\n",
      "  4.13703663e+00 3.23768084e+00 5.21626358e+00 1.79871158e+00\n",
      "  1.45875509e+02 2.59014468e+01 8.27407327e+00 7.35852907e+02\n",
      "  1.27708522e+01 3.59742316e-01 4.08307529e+01 2.50020910e+01\n",
      "  2.40960799e+04 8.99355790e-01 2.59014468e+01 8.81368674e+00\n",
      "  5.39613474e-01 1.28787749e+02 5.39613474e-01 3.41755200e+00\n",
      "  2.93189988e+01 2.46423486e+01 6.11561937e+00 1.79871158e-01\n",
      "  1.23031872e+02 3.05780969e+01 5.57600590e+00 2.49121554e+02\n",
      "  1.07922695e+00 4.53635060e+02 1.25909811e+00]\n",
      " [5.30457957e-01 1.02555205e+01 4.52657457e+01 1.76819319e-01\n",
      "  7.07277276e-01 8.84096595e-01 1.59137387e+00 1.76819319e-01\n",
      "  3.18327820e+03 2.68765365e+01 2.03342217e+01 3.71320570e+01\n",
      "  3.53638638e-01 7.60323072e+00 2.21024149e+01 1.47467312e+02\n",
      "  4.06684434e+00 3.18274774e+00 5.12776025e+00 1.76819319e+00\n",
      "  1.43400468e+02 2.54619819e+01 8.13368868e+00 7.23367834e+02\n",
      "  1.25541717e+01 3.53638638e-01 4.01379854e+01 2.45778853e+01\n",
      "  2.36872464e+04 8.84096595e-01 2.54619819e+01 8.66414663e+00\n",
      "  5.30457957e-01 1.26602632e+02 5.30457957e-01 3.35956706e+00\n",
      "  2.88215490e+01 2.42242467e+01 6.01185685e+00 1.76819319e-01\n",
      "  1.20944414e+02 3.00592842e+01 5.48139889e+00 2.44894757e+02\n",
      "  1.06091591e+00 4.45938323e+02 1.23773523e+00]\n",
      " [2.99448856e-01 5.78934455e+00 2.55529690e+01 9.98162853e-02\n",
      "  3.99265141e-01 4.99081427e-01 8.98346568e-01 9.98162853e-02\n",
      "  1.79699258e+03 1.51720754e+01 1.14788728e+01 2.09614199e+01\n",
      "  1.99632571e-01 4.29210027e+00 1.24770357e+01 8.32467820e+01\n",
      "  2.29577456e+00 1.79669314e+00 2.89467227e+00 9.98162853e-01\n",
      "  8.09510074e+01 1.43735451e+01 4.59154913e+00 4.08348423e+02\n",
      "  7.08695626e+00 1.99632571e-01 2.26582968e+01 1.38744637e+01\n",
      "  1.33716890e+04 4.99081427e-01 1.43735451e+01 4.89099798e+00\n",
      "  2.99448856e-01 7.14684603e+01 2.99448856e-01 1.89650942e+00\n",
      "  1.62700545e+01 1.36748311e+01 3.39375370e+00 9.98162853e-02\n",
      "  6.82743392e+01 1.69687685e+01 3.09430485e+00 1.38245555e+02\n",
      "  5.98897712e-01 2.51736672e+02 6.98713997e-01]\n",
      " [3.02222706e-02 5.84297231e-01 2.57896709e+00 1.00740902e-02\n",
      "  4.02963608e-02 5.03704509e-02 9.06668117e-02 1.00740902e-02\n",
      "  1.81363846e+02 1.53126171e+00 1.15852037e+00 2.11555894e+00\n",
      "  2.01481804e-02 4.33185878e-01 1.25926127e+00 8.40179122e+00\n",
      "  2.31704074e-01 1.81333623e-01 2.92148615e-01 1.00740902e-01\n",
      "  8.17008714e+00 1.45066899e+00 4.63408149e-01 4.12131030e+01\n",
      "  7.15260403e-01 2.01481804e-02 2.28681847e+00 1.40029854e+00\n",
      "  1.34955534e+03 5.03704509e-02 1.45066899e+00 4.93630419e-01\n",
      "  3.02222706e-02 7.21304858e+00 3.02222706e-02 1.91407714e-01\n",
      "  1.64207670e+00 1.38015036e+00 3.42519066e-01 1.00740902e-02\n",
      "  6.89067769e+00 1.71259533e+00 3.12296796e-01 1.39526149e+01\n",
      "  6.04445411e-02 2.54068555e+01 7.05186313e-02]\n",
      " [3.16835273e-01 6.12548195e+00 2.70366100e+01 1.05611758e-01\n",
      "  4.22447031e-01 5.28058789e-01 9.50505820e-01 1.05611758e-01\n",
      "  1.90132847e+03 1.60529872e+01 1.21453521e+01 2.21784691e+01\n",
      "  2.11223515e-01 4.54130558e+00 1.32014697e+01 8.80802060e+01\n",
      "  2.42907043e+00 1.90101164e+00 3.06274097e+00 1.05611758e+00\n",
      "  8.56511355e+01 1.52080931e+01 4.85814086e+00 4.32057701e+02\n",
      "  7.49843480e+00 2.11223515e-01 2.39738690e+01 1.46800343e+01\n",
      "  1.41480679e+04 5.28058789e-01 1.52080931e+01 5.17497613e+00\n",
      "  3.16835273e-01 7.56180185e+01 3.16835273e-01 2.00662340e+00\n",
      "  1.72147165e+01 1.44688108e+01 3.59079976e+00 1.05611758e-01\n",
      "  7.22384423e+01 1.79539988e+01 3.27396449e+00 1.46272284e+02\n",
      "  6.33670546e-01 2.66352853e+02 7.39282304e-01]\n",
      " [1.24660067e-01 2.41009464e+00 1.06376591e+01 4.15533558e-02\n",
      "  1.66213423e-01 2.07766779e-01 3.73980202e-01 4.15533558e-02\n",
      "  7.48085065e+02 6.31611008e+00 4.77863592e+00 8.72620472e+00\n",
      "  8.31067116e-02 1.78679430e+00 5.19416948e+00 3.46554987e+01\n",
      "  9.55727184e-01 7.47960405e-01 1.20504732e+00 4.15533558e-01\n",
      "  3.36997716e+01 5.98368324e+00 1.91145437e+00 1.69994779e+02\n",
      "  2.95028826e+00 8.31067116e-02 9.43261177e+00 5.77591646e+00\n",
      "  5.56661220e+03 2.07766779e-01 5.98368324e+00 2.03611443e+00\n",
      "  1.24660067e-01 2.97522028e+01 1.24660067e-01 7.89513760e-01\n",
      "  6.77319700e+00 5.69280975e+00 1.41281410e+00 4.15533558e-02\n",
      "  2.84224954e+01 7.06407049e+00 1.28815403e+00 5.75513978e+01\n",
      "  2.49320135e-01 1.04797563e+02 2.90873491e-01]\n",
      " [4.82976178e-02 9.33753943e-01 4.12139671e+00 1.60992059e-02\n",
      "  6.43968237e-02 8.04960296e-02 1.44892853e-01 1.60992059e-02\n",
      "  2.89834004e+02 2.44707930e+00 1.85140868e+00 3.38083324e+00\n",
      "  3.21984118e-02 6.92265854e-01 2.01240074e+00 1.34267377e+01\n",
      "  3.70281736e-01 2.89785707e-01 4.66876972e-01 1.60992059e-01\n",
      "  1.30564560e+01 2.31828565e+00 7.40563472e-01 6.58618514e+01\n",
      "  1.14304362e+00 3.21984118e-02 3.65451974e+00 2.23778962e+00\n",
      "  2.15669792e+03 8.04960296e-02 2.31828565e+00 7.88861090e-01\n",
      "  4.82976178e-02 1.15270314e+01 4.82976178e-02 3.05884912e-01\n",
      "  2.62417056e+00 2.20559121e+00 5.47373001e-01 1.60992059e-02\n",
      "  1.10118568e+01 2.73686501e+00 4.99075383e-01 2.22974002e+01\n",
      "  9.65952355e-02 4.06021973e+01 1.12694441e-01]\n",
      " [2.45313463e-01 4.74272695e+00 2.09334155e+01 8.17711544e-02\n",
      "  3.27084618e-01 4.08855772e-01 7.35940389e-01 8.17711544e-02\n",
      "  1.47212609e+03 1.24292155e+01 9.40368275e+00 1.71719424e+01\n",
      "  1.63542309e-01 3.51615964e+00 1.02213943e+01 6.81971428e+01\n",
      "  1.88073655e+00 1.47188078e+00 2.37136348e+00 8.17711544e-01\n",
      "  6.63164062e+01 1.17750462e+01 3.76147310e+00 3.34525793e+02\n",
      "  5.80575196e+00 1.63542309e-01 1.85620520e+01 1.13661905e+01\n",
      "  1.09543092e+04 4.08855772e-01 1.17750462e+01 4.00678656e+00\n",
      "  2.45313463e-01 5.85481465e+01 2.45313463e-01 1.55365193e+00\n",
      "  1.33286982e+01 1.12026482e+01 2.78021925e+00 8.17711544e-02\n",
      "  5.59314696e+01 1.39010962e+01 2.53490579e+00 1.13253049e+02\n",
      "  4.90626926e-01 2.06226851e+02 5.72398081e-01]\n",
      " [6.48863266e-02 1.25446898e+00 5.53696653e+00 2.16287755e-02\n",
      "  8.65151021e-02 1.08143878e-01 1.94658980e-01 2.16287755e-02\n",
      "  3.89382846e+02 3.28757388e+00 2.48730918e+00 4.54204286e+00\n",
      "  4.32575510e-02 9.30037347e-01 2.70359694e+00 1.80383988e+01\n",
      "  4.97461837e-01 3.89317959e-01 6.27234490e-01 2.16287755e-01\n",
      "  1.75409369e+01 3.11454367e+00 9.94923674e-01 8.84833206e+01\n",
      "  1.53564306e+00 4.32575510e-02 4.90973204e+00 3.00639980e+00\n",
      "  2.89745565e+03 1.08143878e-01 3.11454367e+00 1.05981000e+00\n",
      "  6.48863266e-02 1.54862033e+01 6.48863266e-02 4.10946735e-01\n",
      "  3.52549041e+00 2.96314225e+00 7.35378368e-01 2.16287755e-02\n",
      "  1.47940825e+01 3.67689184e+00 6.70492041e-01 2.99558541e+01\n",
      "  1.29772653e-01 5.45477719e+01 1.51401429e-01]\n",
      " [9.59425650e-02 1.85488959e+00 8.18709888e+00 3.19808550e-02\n",
      "  1.27923420e-01 1.59904275e-01 2.87827695e-01 3.19808550e-02\n",
      "  5.75751333e+02 4.86108996e+00 3.67779832e+00 6.71597955e+00\n",
      "  6.39617100e-02 1.37517676e+00 3.99760687e+00 2.66720331e+01\n",
      "  7.35559665e-01 5.75655390e-01 9.27444795e-01 3.19808550e-01\n",
      "  2.59364734e+01 4.60524312e+00 1.47111933e+00 1.30833678e+02\n",
      "  2.27064070e+00 6.39617100e-02 7.25965408e+00 4.44533884e+00\n",
      "  4.28425128e+03 1.59904275e-01 4.60524312e+00 1.56706189e+00\n",
      "  9.59425650e-02 2.28982922e+01 9.59425650e-02 6.07636245e-01\n",
      "  5.21287936e+00 4.38137713e+00 1.08734907e+00 3.19808550e-02\n",
      "  2.18749048e+01 5.43674535e+00 9.91406505e-01 4.42934842e+01\n",
      "  1.91885130e-01 8.06557163e+01 2.23865985e-01]\n",
      " [1.60085572e-01 3.09498773e+00 1.36606355e+01 5.33618575e-02\n",
      "  2.13447430e-01 2.66809287e-01 4.80256717e-01 5.33618575e-02\n",
      "  9.60673520e+02 8.11100233e+00 6.13661361e+00 1.12059901e+01\n",
      "  1.06723715e-01 2.29455987e+00 6.67023218e+00 4.45037891e+01\n",
      "  1.22732272e+00 9.60513434e-01 1.54749387e+00 5.33618575e-01\n",
      "  4.32764664e+01 7.68410747e+00 2.45464544e+00 2.18303359e+02\n",
      "  3.78869188e+00 1.06723715e-01 1.21131416e+01 7.41729819e+00\n",
      "  7.14851451e+03 2.66809287e-01 7.68410747e+00 2.61473102e+00\n",
      "  1.60085572e-01 3.82070899e+01 1.60085572e-01 1.01387529e+00\n",
      "  8.69798276e+00 7.31057447e+00 1.81430315e+00 5.33618575e-02\n",
      "  3.64995105e+01 9.07151577e+00 1.65421758e+00 7.39061726e+01\n",
      "  3.20171145e-01 1.34578604e+02 3.73533002e-01]\n",
      " [1.14126691e-01 2.20644935e+00 9.73881093e+00 3.80422302e-02\n",
      "  1.52168921e-01 1.90211151e-01 3.42380072e-01 3.80422302e-02\n",
      "  6.84874270e+02 5.78241899e+00 4.37485647e+00 7.98886834e+00\n",
      "  7.60844604e-02 1.63581590e+00 4.75527877e+00 3.17272200e+01\n",
      "  8.74971295e-01 6.84760144e-01 1.10322468e+00 3.80422302e-01\n",
      "  3.08522487e+01 5.47808115e+00 1.74994259e+00 1.55630764e+02\n",
      "  2.70099834e+00 7.60844604e-02 8.63558626e+00 5.28787000e+00\n",
      "  5.09625128e+03 1.90211151e-01 5.47808115e+00 1.86406928e+00\n",
      "  1.14126691e-01 2.72382368e+01 1.14126691e-01 7.22802374e-01\n",
      "  6.20088352e+00 5.21178554e+00 1.29343583e+00 3.80422302e-02\n",
      "  2.60208855e+01 6.46717913e+00 1.17930914e+00 5.26884888e+01\n",
      "  2.28253381e-01 9.59425046e+01 2.66295611e-01]\n",
      " [2.88969868e-01 5.58675079e+00 2.46587621e+01 9.63232895e-02\n",
      "  3.85293158e-01 4.81616447e-01 8.66909605e-01 9.63232895e-02\n",
      "  1.73410818e+03 1.46411400e+01 1.10771783e+01 2.02278908e+01\n",
      "  1.92646579e-01 4.14190145e+00 1.20404112e+01 8.03336234e+01\n",
      "  2.21543566e+00 1.73381921e+00 2.79337539e+00 9.63232895e-01\n",
      "  7.81181878e+01 1.38705537e+01 4.43087132e+00 3.94058577e+02\n",
      "  6.83895355e+00 1.92646579e-01 2.18653867e+01 1.33889372e+01\n",
      "  1.29037568e+04 4.81616447e-01 1.38705537e+01 4.71984118e+00\n",
      "  2.88969868e-01 6.89674753e+01 2.88969868e-01 1.83014250e+00\n",
      "  1.57006962e+01 1.31962907e+01 3.27499184e+00 9.63232895e-02\n",
      "  6.58851300e+01 1.63749592e+01 2.98602197e+00 1.33407756e+02\n",
      "  5.77939737e-01 2.42927336e+02 6.74263026e-01]]\n"
     ]
    }
   ],
   "source": [
    "import pandas as pd\n",
    "from scipy.stats import chi2_contingency\n",
    "\n",
    "#null hypothesis : there is no association between colour and country\n",
    "#alternate hypothesis : there is a significant association between colour and country\n",
    "# Select the columns of interest from the DataFrame\n",
    "df_eshop_subset = df_eshop[['colour', 'country']]\n",
    "\n",
    "# Create a contingency table of the two variables\n",
    "contingency_table = pd.crosstab(df_eshop_subset['colour'], df_eshop_subset['country'])\n",
    "\n",
    "# Perform the chi-square test of independence\n",
    "chi2, p_value, dof, expected = chi2_contingency(contingency_table)\n",
    "\n",
    "# Print the results\n",
    "print(\"Chi-square statistic:\", chi2)\n",
    "print(\"P-value:\", p_value)\n",
    "print(\"Degrees of freedom:\", dof)\n",
    "print(\"Expected values:\", expected)"
   ]
  },
  {
   "cell_type": "markdown",
   "id": "42056df7",
   "metadata": {},
   "source": [
    "Since, the p-value is below the significance level(0.05),we reject the null hypothesis and conclude that there is a significant association between the two variables."
   ]
  },
  {
   "cell_type": "code",
   "execution_count": 122,
   "id": "b7f4982a",
   "metadata": {},
   "outputs": [
    {
     "name": "stdout",
     "output_type": "stream",
     "text": [
      "Chi-square statistic: 201.99171361021513\n",
      "P-value: 0.3321385998893971\n",
      "Degrees of freedom: 194\n",
      "Expected values: [[1.22972918e+04 1.17287082e+04]\n",
      " [9.71663149e+03 9.26736851e+03]\n",
      " [8.01734702e+03 7.64665298e+03]\n",
      " [6.67634541e+03 6.36765459e+03]\n",
      " [5.63374225e+03 5.37325775e+03]\n",
      " [4.81634547e+03 4.59365453e+03]\n",
      " [4.10080339e+03 3.91119661e+03]\n",
      " [3.52908629e+03 3.36591371e+03]\n",
      " [3.05103457e+03 2.90996543e+03]\n",
      " [2.66767190e+03 2.54432810e+03]\n",
      " [2.33600433e+03 2.22799567e+03]\n",
      " [2.02532189e+03 1.93167811e+03]\n",
      " [1.77708305e+03 1.69491695e+03]\n",
      " [1.57746830e+03 1.50453170e+03]\n",
      " [1.41265818e+03 1.34734182e+03]\n",
      " [1.26473854e+03 1.20626146e+03]\n",
      " [1.13217388e+03 1.07982612e+03]\n",
      " [1.00421571e+03 9.57784292e+02]\n",
      " [9.12597659e+02 8.70402341e+02]\n",
      " [8.31216264e+02 7.92783736e+02]\n",
      " [7.47787538e+02 7.13212462e+02]\n",
      " [6.71524469e+02 6.40475531e+02]\n",
      " [6.19829369e+02 5.91170631e+02]\n",
      " [5.66086938e+02 5.39913062e+02]\n",
      " [5.15415503e+02 4.91584497e+02]\n",
      " [4.68326897e+02 4.46673103e+02]\n",
      " [4.28403949e+02 4.08596051e+02]\n",
      " [3.91551996e+02 3.73448004e+02]\n",
      " [3.64424864e+02 3.47575136e+02]\n",
      " [3.40368729e+02 3.24631271e+02]\n",
      " [3.05052274e+02 2.90947726e+02]\n",
      " [2.78948808e+02 2.66051192e+02]\n",
      " [2.61034664e+02 2.48965336e+02]\n",
      " [2.39025859e+02 2.27974141e+02]\n",
      " [2.22135381e+02 2.11864619e+02]\n",
      " [2.06268568e+02 1.96731432e+02]\n",
      " [1.89889922e+02 1.81110078e+02]\n",
      " [1.77605938e+02 1.69394062e+02]\n",
      " [1.61739125e+02 1.54260875e+02]\n",
      " [1.50478806e+02 1.43521194e+02]\n",
      " [1.38194822e+02 1.31805178e+02]\n",
      " [1.27446336e+02 1.21553664e+02]\n",
      " [1.15162352e+02 1.09837648e+02]\n",
      " [1.09020360e+02 1.03979640e+02]\n",
      " [9.82718735e+01 9.37281265e+01]\n",
      " [9.36653795e+01 8.93346205e+01]\n",
      " [8.59878893e+01 8.20121107e+01]\n",
      " [7.88222319e+01 7.51777681e+01]\n",
      " [7.67749012e+01 7.32250988e+01]\n",
      " [7.21684071e+01 6.88315929e+01]\n",
      " [6.96092437e+01 6.63907563e+01]\n",
      " [6.75619130e+01 6.44380870e+01]\n",
      " [6.09080883e+01 5.80919117e+01]\n",
      " [5.88607576e+01 5.61392424e+01]\n",
      " [5.68134269e+01 5.41865731e+01]\n",
      " [5.22069328e+01 4.97930672e+01]\n",
      " [4.96477694e+01 4.73522306e+01]\n",
      " [4.86241041e+01 4.63758959e+01]\n",
      " [4.45294427e+01 4.24705573e+01]\n",
      " [4.35057773e+01 4.14942227e+01]\n",
      " [4.09466140e+01 3.90533860e+01]\n",
      " [3.94111159e+01 3.75888841e+01]\n",
      " [3.73637852e+01 3.56362148e+01]\n",
      " [3.63401199e+01 3.46598801e+01]\n",
      " [3.42927892e+01 3.27072108e+01]\n",
      " [3.22454585e+01 3.07545415e+01]\n",
      " [3.07099605e+01 2.92900395e+01]\n",
      " [3.01981278e+01 2.88018722e+01]\n",
      " [2.91744625e+01 2.78255375e+01]\n",
      " [2.76389644e+01 2.63610356e+01]\n",
      " [2.61034664e+01 2.48965336e+01]\n",
      " [2.55916337e+01 2.44083663e+01]\n",
      " [2.35443030e+01 2.24556970e+01]\n",
      " [2.20088050e+01 2.09911950e+01]\n",
      " [2.09851397e+01 2.00148603e+01]\n",
      " [2.04733070e+01 1.95266930e+01]\n",
      " [2.04733070e+01 1.95266930e+01]\n",
      " [1.84259763e+01 1.75740237e+01]\n",
      " [1.74023109e+01 1.65976891e+01]\n",
      " [1.68904783e+01 1.61095217e+01]\n",
      " [1.63786456e+01 1.56213544e+01]\n",
      " [1.63786456e+01 1.56213544e+01]\n",
      " [1.63786456e+01 1.56213544e+01]\n",
      " [1.58668129e+01 1.51331871e+01]\n",
      " [1.58668129e+01 1.51331871e+01]\n",
      " [1.53549802e+01 1.46450198e+01]\n",
      " [1.53549802e+01 1.46450198e+01]\n",
      " [1.48431476e+01 1.41568524e+01]\n",
      " [1.38194822e+01 1.31805178e+01]\n",
      " [1.22839842e+01 1.17160158e+01]\n",
      " [1.22839842e+01 1.17160158e+01]\n",
      " [1.22839842e+01 1.17160158e+01]\n",
      " [1.12603188e+01 1.07396812e+01]\n",
      " [1.07484862e+01 1.02515138e+01]\n",
      " [1.02366535e+01 9.76334651e+00]\n",
      " [9.72482082e+00 9.27517918e+00]\n",
      " [8.70115547e+00 8.29884453e+00]\n",
      " [8.70115547e+00 8.29884453e+00]\n",
      " [8.70115547e+00 8.29884453e+00]\n",
      " [8.70115547e+00 8.29884453e+00]\n",
      " [8.70115547e+00 8.29884453e+00]\n",
      " [8.18932279e+00 7.81067721e+00]\n",
      " [7.67749012e+00 7.32250988e+00]\n",
      " [7.67749012e+00 7.32250988e+00]\n",
      " [7.16565744e+00 6.83434256e+00]\n",
      " [7.16565744e+00 6.83434256e+00]\n",
      " [6.65382477e+00 6.34617523e+00]\n",
      " [5.63015942e+00 5.36984058e+00]\n",
      " [5.11832675e+00 4.88167325e+00]\n",
      " [5.11832675e+00 4.88167325e+00]\n",
      " [5.11832675e+00 4.88167325e+00]\n",
      " [5.11832675e+00 4.88167325e+00]\n",
      " [4.09466140e+00 3.90533860e+00]\n",
      " [4.09466140e+00 3.90533860e+00]\n",
      " [4.09466140e+00 3.90533860e+00]\n",
      " [4.09466140e+00 3.90533860e+00]\n",
      " [4.09466140e+00 3.90533860e+00]\n",
      " [4.09466140e+00 3.90533860e+00]\n",
      " [4.09466140e+00 3.90533860e+00]\n",
      " [4.09466140e+00 3.90533860e+00]\n",
      " [3.58282872e+00 3.41717128e+00]\n",
      " [3.07099605e+00 2.92900395e+00]\n",
      " [3.07099605e+00 2.92900395e+00]\n",
      " [3.07099605e+00 2.92900395e+00]\n",
      " [3.07099605e+00 2.92900395e+00]\n",
      " [3.07099605e+00 2.92900395e+00]\n",
      " [3.07099605e+00 2.92900395e+00]\n",
      " [3.07099605e+00 2.92900395e+00]\n",
      " [2.55916337e+00 2.44083663e+00]\n",
      " [2.55916337e+00 2.44083663e+00]\n",
      " [2.55916337e+00 2.44083663e+00]\n",
      " [2.55916337e+00 2.44083663e+00]\n",
      " [2.55916337e+00 2.44083663e+00]\n",
      " [2.55916337e+00 2.44083663e+00]\n",
      " [2.55916337e+00 2.44083663e+00]\n",
      " [2.55916337e+00 2.44083663e+00]\n",
      " [2.55916337e+00 2.44083663e+00]\n",
      " [2.55916337e+00 2.44083663e+00]\n",
      " [2.55916337e+00 2.44083663e+00]\n",
      " [2.55916337e+00 2.44083663e+00]\n",
      " [2.55916337e+00 2.44083663e+00]\n",
      " [2.55916337e+00 2.44083663e+00]\n",
      " [2.04733070e+00 1.95266930e+00]\n",
      " [2.04733070e+00 1.95266930e+00]\n",
      " [2.04733070e+00 1.95266930e+00]\n",
      " [2.04733070e+00 1.95266930e+00]\n",
      " [2.04733070e+00 1.95266930e+00]\n",
      " [2.04733070e+00 1.95266930e+00]\n",
      " [2.04733070e+00 1.95266930e+00]\n",
      " [2.04733070e+00 1.95266930e+00]\n",
      " [2.04733070e+00 1.95266930e+00]\n",
      " [2.04733070e+00 1.95266930e+00]\n",
      " [2.04733070e+00 1.95266930e+00]\n",
      " [2.04733070e+00 1.95266930e+00]\n",
      " [2.04733070e+00 1.95266930e+00]\n",
      " [2.04733070e+00 1.95266930e+00]\n",
      " [2.04733070e+00 1.95266930e+00]\n",
      " [2.04733070e+00 1.95266930e+00]\n",
      " [2.04733070e+00 1.95266930e+00]\n",
      " [2.04733070e+00 1.95266930e+00]\n",
      " [2.04733070e+00 1.95266930e+00]\n",
      " [1.53549802e+00 1.46450198e+00]\n",
      " [1.53549802e+00 1.46450198e+00]\n",
      " [1.53549802e+00 1.46450198e+00]\n",
      " [1.53549802e+00 1.46450198e+00]\n",
      " [1.53549802e+00 1.46450198e+00]\n",
      " [1.53549802e+00 1.46450198e+00]\n",
      " [1.53549802e+00 1.46450198e+00]\n",
      " [1.53549802e+00 1.46450198e+00]\n",
      " [1.53549802e+00 1.46450198e+00]\n",
      " [1.53549802e+00 1.46450198e+00]\n",
      " [1.53549802e+00 1.46450198e+00]\n",
      " [1.53549802e+00 1.46450198e+00]\n",
      " [1.53549802e+00 1.46450198e+00]\n",
      " [1.53549802e+00 1.46450198e+00]\n",
      " [1.53549802e+00 1.46450198e+00]\n",
      " [1.53549802e+00 1.46450198e+00]\n",
      " [1.53549802e+00 1.46450198e+00]\n",
      " [1.53549802e+00 1.46450198e+00]\n",
      " [1.53549802e+00 1.46450198e+00]\n",
      " [1.53549802e+00 1.46450198e+00]\n",
      " [1.53549802e+00 1.46450198e+00]\n",
      " [1.53549802e+00 1.46450198e+00]\n",
      " [1.53549802e+00 1.46450198e+00]\n",
      " [1.53549802e+00 1.46450198e+00]\n",
      " [1.02366535e+00 9.76334651e-01]\n",
      " [1.02366535e+00 9.76334651e-01]\n",
      " [1.02366535e+00 9.76334651e-01]\n",
      " [1.02366535e+00 9.76334651e-01]\n",
      " [1.02366535e+00 9.76334651e-01]\n",
      " [1.02366535e+00 9.76334651e-01]\n",
      " [1.02366535e+00 9.76334651e-01]\n",
      " [5.11832675e-01 4.88167325e-01]\n",
      " [5.11832675e-01 4.88167325e-01]\n",
      " [5.11832675e-01 4.88167325e-01]]\n"
     ]
    }
   ],
   "source": [
    "import pandas as pd\n",
    "from scipy.stats import chi2_contingency\n",
    "\n",
    "#null hypothesis : there is no association between order and price 2\n",
    "#alternate hypothesis : there is a significant association between order and price 2\n",
    "# Select the columns of interest from the DataFrame\n",
    "df_eshop_subset = df_eshop[['order', 'price 2']]\n",
    "\n",
    "# Create a contingency table of the two variables\n",
    "contingency_table = pd.crosstab(df_eshop_subset['order'], df_eshop_subset['price 2'])\n",
    "\n",
    "# Perform the chi-square test of independence\n",
    "chi2, p_value, dof, expected = chi2_contingency(contingency_table)\n",
    "\n",
    "# Print the results\n",
    "print(\"Chi-square statistic:\", chi2)\n",
    "print(\"P-value:\", p_value)\n",
    "print(\"Degrees of freedom:\", dof)\n",
    "print(\"Expected values:\", expected)"
   ]
  },
  {
   "cell_type": "markdown",
   "id": "8d265e5a",
   "metadata": {},
   "source": [
    "Since, the p-value is more than significance level(0.05),we fail to reject the null hypothesis and conclude that there is no significant association between the two variables."
   ]
  },
  {
   "cell_type": "code",
   "execution_count": 123,
   "id": "ae263ddd",
   "metadata": {},
   "outputs": [
    {
     "name": "stdout",
     "output_type": "stream",
     "text": [
      "Chi-square statistic: 3150.1884370159532\n",
      "P-value: 8.489706318028964e-254\n",
      "Degrees of freedom: 874\n",
      "Expected values: [[5.07632619e-03 2.59799123e-02 7.23739077e-02 1.53014975e-02\n",
      "  3.31085246e-01 3.39914428e-01 6.14289858e-01 4.12469633e-01\n",
      "  3.24123427e-01 1.38511186e-02 1.68225824e-01 2.17375539e-02\n",
      "  2.15453787e-01 2.97508974e-02 2.60759999e-01 7.28815403e-03\n",
      "  6.90924254e-02 3.50266507e-02 3.33587150e-03 3.48634831e-02]\n",
      " [9.81423063e-02 5.02278304e-01 1.39922888e+00 2.95828952e-01\n",
      "  6.40098142e+00 6.57167893e+00 1.18762706e+01 7.97441290e+00\n",
      "  6.26638626e+00 2.67788293e-01 3.25236593e+00 4.20259376e-01\n",
      "  4.16543989e+00 5.75184017e-01 5.04135997e+00 1.40904311e-01\n",
      "  1.33578689e+00 6.77181914e-01 6.44935156e-02 6.74027340e-01]\n",
      " [4.33179835e-01 2.21695251e+00 6.17590679e+00 1.30572779e+00\n",
      "  2.82526077e+01 2.90060312e+01 5.24194012e+01 3.51974087e+01\n",
      "  2.76585325e+01 1.18196212e+00 1.43552703e+01 1.85493794e+00\n",
      "  1.83853898e+01 2.53874325e+00 2.22515199e+01 6.21922477e-01\n",
      "  5.89588697e+00 2.98894086e+00 2.84661034e-01 2.97501722e+00]\n",
      " [1.69210873e-03 8.65997075e-03 2.41246359e-02 5.10049917e-03\n",
      "  1.10361749e-01 1.13304809e-01 2.04763286e-01 1.37489878e-01\n",
      "  1.08041142e-01 4.61703953e-03 5.60752747e-02 7.24585131e-03\n",
      "  7.18179291e-02 9.91696581e-03 8.69199995e-02 2.42938468e-03\n",
      "  2.30308085e-02 1.16755502e-02 1.11195717e-03 1.16211610e-02]\n",
      " [6.76843492e-03 3.46398830e-02 9.64985436e-02 2.04019967e-02\n",
      "  4.41446995e-01 4.53219237e-01 8.19053144e-01 5.49959510e-01\n",
      "  4.32164570e-01 1.84681581e-02 2.24301099e-01 2.89834052e-02\n",
      "  2.87271716e-01 3.96678632e-02 3.47679998e-01 9.71753871e-03\n",
      "  9.21232339e-02 4.67022009e-02 4.44782866e-03 4.64846441e-02]\n",
      " [8.46054365e-03 4.32998538e-02 1.20623179e-01 2.55024959e-02\n",
      "  5.51808743e-01 5.66524046e-01 1.02381643e+00 6.87449388e-01\n",
      "  5.40205712e-01 2.30851977e-02 2.80376373e-01 3.62292566e-02\n",
      "  3.59089646e-01 4.95848290e-02 4.34599998e-01 1.21469234e-02\n",
      "  1.15154042e-01 5.83777512e-02 5.55978583e-03 5.81058051e-02]\n",
      " [1.52289786e-02 7.79397368e-02 2.17121723e-01 4.59044925e-02\n",
      "  9.93255738e-01 1.01974328e+00 1.84286957e+00 1.23740890e+00\n",
      "  9.72370282e-01 4.15533558e-02 5.04677472e-01 6.52126618e-02\n",
      "  6.46361362e-01 8.92526923e-02 7.82279996e-01 2.18644621e-02\n",
      "  2.07277276e-01 1.05079952e-01 1.00076145e-02 1.04590449e-01]\n",
      " [1.69210873e-03 8.65997075e-03 2.41246359e-02 5.10049917e-03\n",
      "  1.10361749e-01 1.13304809e-01 2.04763286e-01 1.37489878e-01\n",
      "  1.08041142e-01 4.61703953e-03 5.60752747e-02 7.24585131e-03\n",
      "  7.18179291e-02 9.91696581e-03 8.69199995e-02 2.42938468e-03\n",
      "  2.30308085e-02 1.16755502e-02 1.11195717e-03 1.16211610e-02]\n",
      " [3.04630335e+01 1.55905453e+02 4.34315820e+02 9.18242866e+01\n",
      "  1.98684256e+03 2.03982648e+03 3.68635344e+03 2.47523027e+03\n",
      "  1.94506469e+03 8.31205627e+01 1.00952317e+03 1.30447061e+02\n",
      "  1.29293818e+03 1.78535135e+02 1.56482075e+03 4.37362123e+01\n",
      "  4.14623645e+02 2.10194931e+02 2.00185649e+01 2.09215762e+02]\n",
      " [2.57200527e-01 1.31631555e+00 3.66694466e+00 7.75275874e-01\n",
      "  1.67749858e+01 1.72223310e+01 3.11240195e+01 2.08984614e+01\n",
      "  1.64222536e+01 7.01790009e-01 8.52344175e+00 1.10136940e+00\n",
      "  1.09163252e+01 1.50737880e+00 1.32118399e+01 3.69266471e-01\n",
      "  3.50068289e+00 1.77468364e+00 1.69017489e-01 1.76641648e+00]\n",
      " [1.94592504e-01 9.95896636e-01 2.77433313e+00 5.86557405e-01\n",
      "  1.26916011e+01 1.30300531e+01 2.35477779e+01 1.58113359e+01\n",
      "  1.24247314e+01 5.30959547e-01 6.44865659e+00 8.33272901e-01\n",
      "  8.25906185e+00 1.14045107e+00 9.99579994e+00 2.79379238e-01\n",
      "  2.64854297e+00 1.34268828e+00 1.27875074e-01 1.33643352e+00]\n",
      " [3.55342833e-01 1.81859386e+00 5.06617354e+00 1.07110483e+00\n",
      "  2.31759672e+01 2.37940099e+01 4.30002901e+01 2.88728743e+01\n",
      "  2.26886399e+01 9.69578302e-01 1.17758077e+01 1.52162878e+00\n",
      "  1.50817651e+01 2.08256282e+00 1.82531999e+01 5.10170782e-01\n",
      "  4.83646978e+00 2.45186555e+00 2.33511005e-01 2.44044382e+00]\n",
      " [3.38421746e-03 1.73199415e-02 4.82492718e-02 1.02009983e-02\n",
      "  2.20723497e-01 2.26609618e-01 4.09526572e-01 2.74979755e-01\n",
      "  2.16082285e-01 9.23407907e-03 1.12150549e-01 1.44917026e-02\n",
      "  1.43635858e-01 1.98339316e-02 1.73839999e-01 4.85876935e-03\n",
      "  4.60616169e-02 2.33511005e-02 2.22391433e-03 2.32423221e-02]\n",
      " [7.27606754e-02 3.72378742e-01 1.03735934e+00 2.19321464e-01\n",
      "  4.74555519e+00 4.87210680e+00 8.80482130e+00 5.91206474e+00\n",
      "  4.64576912e+00 1.98532700e-01 2.41123681e+00 3.11571606e-01\n",
      "  3.08817095e+00 4.26429530e-01 3.73755998e+00 1.04463541e-01\n",
      "  9.90324764e-01 5.02048660e-01 4.78141581e-02 4.99709924e-01]\n",
      " [2.11513591e-01 1.08249634e+00 3.01557949e+00 6.37562397e-01\n",
      "  1.37952186e+01 1.41631012e+01 2.55954108e+01 1.71862347e+01\n",
      "  1.35051428e+01 5.77129942e-01 7.00940933e+00 9.05731414e-01\n",
      "  8.97724114e+00 1.23962073e+00 1.08649999e+01 3.03673085e-01\n",
      "  2.87885106e+00 1.45944378e+00 1.38994646e-01 1.45264513e+00]\n",
      " [1.41121868e+00 7.22241561e+00 2.01199463e+01 4.25381631e+00\n",
      "  9.20416984e+01 9.44962109e+01 1.70772581e+02 1.14666558e+02\n",
      "  9.01063128e+01 3.85061097e+00 4.67667791e+01 6.04303999e+00\n",
      "  5.98961529e+01 8.27074948e+00 7.24912796e+01 2.02610682e+00\n",
      "  1.92076943e+01 9.73740890e+00 9.27372276e-01 9.69204830e+00]\n",
      " [3.89185008e-02 1.99179327e-01 5.54866626e-01 1.17311481e-01\n",
      "  2.53832022e+00 2.60601061e+00 4.70955558e+00 3.16226718e+00\n",
      "  2.48494628e+00 1.06191909e-01 1.28973132e+00 1.66654580e-01\n",
      "  1.65181237e+00 2.28090214e-01 1.99915999e+00 5.58758476e-02\n",
      "  5.29708595e-01 2.68537655e-01 2.55750148e-02 2.67286704e-01]\n",
      " [3.04579571e-02 1.55879474e-01 4.34243446e-01 9.18089851e-02\n",
      "  1.98651148e+00 2.03948657e+00 3.68573915e+00 2.47481780e+00\n",
      "  1.94474056e+00 8.31067116e-02 1.00935494e+00 1.30425324e-01\n",
      "  1.29272272e+00 1.78505385e-01 1.56455999e+00 4.37289242e-02\n",
      "  4.14554552e-01 2.10159904e-01 2.00152290e-02 2.09180899e-01]\n",
      " [4.90711532e-02 2.51139152e-01 6.99614441e-01 1.47914476e-01\n",
      "  3.20049071e+00 3.28583947e+00 5.93813530e+00 3.98720645e+00\n",
      "  3.13319313e+00 1.33894147e-01 1.62618297e+00 2.10129688e-01\n",
      "  2.08271994e+00 2.87592008e-01 2.52067999e+00 7.04521556e-02\n",
      "  6.67893445e-01 3.38590957e-01 3.22467578e-02 3.37013670e-01]\n",
      " [1.69210873e-02 8.65997075e-02 2.41246359e-01 5.10049917e-02\n",
      "  1.10361749e+00 1.13304809e+00 2.04763286e+00 1.37489878e+00\n",
      "  1.08041142e+00 4.61703953e-02 5.60752747e-01 7.24585131e-02\n",
      "  7.18179291e-01 9.91696581e-02 8.69199995e-01 2.42938468e-02\n",
      "  2.30308085e-01 1.16755502e-01 1.11195717e-02 1.16211610e-01]\n",
      " [1.37230018e+00 7.02323628e+00 1.95650797e+01 4.13650483e+00\n",
      "  8.95033782e+01 9.18902003e+01 1.66063025e+02 1.11504291e+02\n",
      "  8.76213665e+01 3.74441906e+00 4.54770478e+01 5.87638541e+00\n",
      "  5.82443405e+01 8.04265927e+00 7.04921196e+01 1.97023097e+00\n",
      "  1.86779857e+01 9.46887124e+00 9.01797261e-01 9.42476159e+00]\n",
      " [2.43663657e-01 1.24703579e+00 3.47394757e+00 7.34471881e-01\n",
      "  1.58920918e+01 1.63158925e+01 2.94859132e+01 1.97985424e+01\n",
      "  1.55579245e+01 6.64853693e-01 8.07483955e+00 1.04340259e+00\n",
      "  1.03417818e+01 1.42804308e+00 1.25164799e+01 3.49831393e-01\n",
      "  3.31643642e+00 1.68127923e+00 1.60121832e-01 1.67344719e+00]\n",
      " [7.78370016e-02 3.98358655e-01 1.10973325e+00 2.34622962e-01\n",
      "  5.07664044e+00 5.21202122e+00 9.41911116e+00 6.32453437e+00\n",
      "  4.96989255e+00 2.12383819e-01 2.57946263e+00 3.33309160e-01\n",
      "  3.30362474e+00 4.56180427e-01 3.99831998e+00 1.11751695e-01\n",
      "  1.05941719e+00 5.37075311e-01 5.11500296e-02 5.34573407e-01]\n",
      " [6.92241681e+00 3.54279403e+01 9.86938854e+01 2.08661421e+01\n",
      "  4.51489914e+02 4.63529974e+02 8.37686603e+02 5.62471089e+02\n",
      "  4.41996314e+02 1.88883087e+01 2.29403949e+02 2.96427777e+01\n",
      "  2.93807148e+02 4.05703071e+01 3.55589718e+02 9.93861271e+00\n",
      "  9.42190374e+01 4.77646760e+01 4.54901676e+00 4.75421698e+01]\n",
      " [1.20139720e-01 6.14857923e-01 1.71284915e+00 3.62135441e-01\n",
      "  7.83568416e+00 8.04464145e+00 1.45381933e+01 9.76178131e+00\n",
      "  7.67092111e+00 3.27809807e-01 3.98134450e+00 5.14455443e-01\n",
      "  5.09907297e+00 7.04104572e-01 6.17131997e+00 1.72486312e-01\n",
      "  1.63518740e+00 8.28964067e-01 7.89489587e-02 8.25102433e-01]\n",
      " [3.38421746e-03 1.73199415e-02 4.82492718e-02 1.02009983e-02\n",
      "  2.20723497e-01 2.26609618e-01 4.09526572e-01 2.74979755e-01\n",
      "  2.16082285e-01 9.23407907e-03 1.12150549e-01 1.44917026e-02\n",
      "  1.43635858e-01 1.98339316e-02 1.73839999e-01 4.85876935e-03\n",
      "  4.60616169e-02 2.33511005e-02 2.22391433e-03 2.32423221e-02]\n",
      " [3.84108682e-01 1.96581336e+00 5.47629235e+00 1.15781331e+00\n",
      "  2.50521169e+01 2.57201917e+01 4.64812659e+01 3.12102022e+01\n",
      "  2.45253393e+01 1.04806797e+00 1.27290873e+01 1.64480825e+00\n",
      "  1.63026699e+01 2.25115124e+00 1.97308399e+01 5.51470322e-01\n",
      "  5.22799352e+00 2.65034990e+00 2.52414277e-01 2.63800355e+00]\n",
      " [2.35203113e-01 1.20373593e+00 3.35332439e+00 7.08969385e-01\n",
      "  1.53402831e+01 1.57493685e+01 2.84620968e+01 1.91110930e+01\n",
      "  1.50177188e+01 6.41768495e-01 7.79446318e+00 1.00717333e+00\n",
      "  9.98269214e+00 1.37845825e+00 1.20818799e+01 3.37684470e-01\n",
      "  3.20128238e+00 1.62290148e+00 1.54562046e-01 1.61534138e+00]\n",
      " [2.26679962e+02 1.16011566e+03 3.23180860e+03 6.83278171e+02\n",
      "  1.47843909e+04 1.51786522e+04 2.74307041e+04 1.84185565e+04\n",
      "  1.44735156e+04 6.18512467e+02 7.51201202e+03 9.70675979e+02\n",
      "  9.62094524e+03 1.32850649e+03 1.16440639e+04 3.25447659e+02\n",
      "  3.08527619e+03 1.56409174e+03 1.48961118e+02 1.55680559e+03]\n",
      " [8.46054365e-03 4.32998538e-02 1.20623179e-01 2.55024959e-02\n",
      "  5.51808743e-01 5.66524046e-01 1.02381643e+00 6.87449388e-01\n",
      "  5.40205712e-01 2.30851977e-02 2.80376373e-01 3.62292566e-02\n",
      "  3.59089646e-01 4.95848290e-02 4.34599998e-01 1.21469234e-02\n",
      "  1.15154042e-01 5.83777512e-02 5.55978583e-03 5.81058051e-02]\n",
      " [2.43663657e-01 1.24703579e+00 3.47394757e+00 7.34471881e-01\n",
      "  1.58920918e+01 1.63158925e+01 2.94859132e+01 1.97985424e+01\n",
      "  1.55579245e+01 6.64853693e-01 8.07483955e+00 1.04340259e+00\n",
      "  1.03417818e+01 1.42804308e+00 1.25164799e+01 3.49831393e-01\n",
      "  3.31643642e+00 1.68127923e+00 1.60121832e-01 1.67344719e+00]\n",
      " [8.29133278e-02 4.24338567e-01 1.18210716e+00 2.49924459e-01\n",
      "  5.40772569e+00 5.55193565e+00 1.00334010e+01 6.73700400e+00\n",
      "  5.29401598e+00 2.26234937e-01 2.74768846e+00 3.55046714e-01\n",
      "  3.51907853e+00 4.85931325e-01 4.25907998e+00 1.19039849e-01\n",
      "  1.12850961e+00 5.72101962e-01 5.44859011e-02 5.69436890e-01]\n",
      " [5.07632619e-03 2.59799123e-02 7.23739077e-02 1.53014975e-02\n",
      "  3.31085246e-01 3.39914428e-01 6.14289858e-01 4.12469633e-01\n",
      "  3.24123427e-01 1.38511186e-02 1.68225824e-01 2.17375539e-02\n",
      "  2.15453787e-01 2.97508974e-02 2.60759999e-01 7.28815403e-03\n",
      "  6.90924254e-02 3.50266507e-02 3.33587150e-03 3.48634831e-02]\n",
      " [1.21154985e+00 6.20053906e+00 1.72732393e+01 3.65195741e+00\n",
      "  7.90190121e+01 8.11262434e+01 1.46610513e+02 9.84427523e+01\n",
      "  7.73574580e+01 3.30580031e+00 4.01498967e+01 5.18802954e+00\n",
      "  5.14216372e+01 7.10054752e+00 6.22347197e+01 1.73943943e+00\n",
      "  1.64900589e+01 8.35969397e+00 7.96161330e-01 8.32075130e+00]\n",
      " [5.07632619e-03 2.59799123e-02 7.23739077e-02 1.53014975e-02\n",
      "  3.31085246e-01 3.39914428e-01 6.14289858e-01 4.12469633e-01\n",
      "  3.24123427e-01 1.38511186e-02 1.68225824e-01 2.17375539e-02\n",
      "  2.15453787e-01 2.97508974e-02 2.60759999e-01 7.28815403e-03\n",
      "  6.90924254e-02 3.50266507e-02 3.33587150e-03 3.48634831e-02]\n",
      " [3.21500659e-02 1.64539444e-01 4.58368082e-01 9.69094843e-02\n",
      "  2.09687322e+00 2.15279138e+00 3.89050244e+00 2.61230767e+00\n",
      "  2.05278171e+00 8.77237512e-02 1.06543022e+00 1.37671175e-01\n",
      "  1.36454065e+00 1.88422350e-01 1.65147999e+00 4.61583089e-02\n",
      "  4.37585361e-01 2.21835455e-01 2.11271861e-02 2.20802060e-01]\n",
      " [2.75813723e-01 1.41157523e+00 3.93231565e+00 8.31381365e-01\n",
      "  1.79889650e+01 1.84686839e+01 3.33764156e+01 2.24108500e+01\n",
      "  1.76107062e+01 7.52577444e-01 9.14026977e+00 1.18107376e+00\n",
      "  1.17063224e+01 1.61646543e+00 1.41679599e+01 3.95989702e-01\n",
      "  3.75402178e+00 1.90311469e+00 1.81249018e-01 1.89424925e+00]\n",
      " [2.31818896e-01 1.18641599e+00 3.30507512e+00 6.98768387e-01\n",
      "  1.51195596e+01 1.55227589e+01 2.80525702e+01 1.88361132e+01\n",
      "  1.48016365e+01 6.32534416e-01 7.68231263e+00 9.92681630e-01\n",
      "  9.83905629e+00 1.35862432e+00 1.19080399e+01 3.32825701e-01\n",
      "  3.15522076e+00 1.59955038e+00 1.52338132e-01 1.59209906e+00]\n",
      " [5.75316968e-02 2.94439006e-01 8.20237620e-01 1.73416972e-01\n",
      "  3.75229945e+00 3.85236351e+00 6.96195173e+00 4.67465584e+00\n",
      "  3.67339884e+00 1.56979344e-01 1.90655934e+00 2.46358945e-01\n",
      "  2.44180959e+00 3.37176837e-01 2.95527998e+00 8.25990790e-02\n",
      "  7.83047488e-01 3.96968708e-01 3.78065436e-02 3.95119475e-01]\n",
      " [1.69210873e-03 8.65997075e-03 2.41246359e-02 5.10049917e-03\n",
      "  1.10361749e-01 1.13304809e-01 2.04763286e-01 1.37489878e-01\n",
      "  1.08041142e-01 4.61703953e-03 5.60752747e-02 7.24585131e-03\n",
      "  7.18179291e-02 9.91696581e-03 8.69199995e-02 2.42938468e-03\n",
      "  2.30308085e-02 1.16755502e-02 1.11195717e-03 1.16211610e-02]\n",
      " [1.15740237e+00 5.92341999e+00 1.65012510e+01 3.48874143e+00\n",
      "  7.54874361e+01 7.75004895e+01 1.40058088e+02 9.40430763e+01\n",
      "  7.39001414e+01 3.15805504e+00 3.83554879e+01 4.95616230e+00\n",
      "  4.91234635e+01 6.78320461e+00 5.94532797e+01 1.66169912e+00\n",
      "  1.57530730e+01 7.98607636e+00 7.60578701e-01 7.94887414e+00]\n",
      " [2.87658484e-01 1.47219503e+00 4.10118810e+00 8.67084859e-01\n",
      "  1.87614973e+01 1.92618176e+01 3.48097586e+01 2.33732792e+01\n",
      "  1.83669942e+01 7.84896721e-01 9.53279669e+00 1.23179472e+00\n",
      "  1.22090479e+01 1.68588419e+00 1.47763999e+01 4.12995395e-01\n",
      "  3.91523744e+00 1.98484354e+00 1.89032718e-01 1.97559737e+00]\n",
      " [5.24553706e-02 2.68459093e-01 7.47863713e-01 1.58115474e-01\n",
      "  3.42121421e+00 3.51244909e+00 6.34766187e+00 4.26218620e+00\n",
      "  3.34927541e+00 1.43128226e-01 1.73833351e+00 2.24621391e-01\n",
      "  2.22635580e+00 3.07425940e-01 2.69451999e+00 7.53109250e-02\n",
      "  7.13955062e-01 3.61942057e-01 3.44706721e-02 3.60255992e-01]\n",
      " [2.34357059e+00 1.19940595e+01 3.34126207e+01 7.06419135e+00\n",
      "  1.52851022e+02 1.56927161e+02 2.83597151e+02 1.90423480e+02\n",
      "  1.49636982e+02 6.39459976e+00 7.76642554e+01 1.00355041e+01\n",
      "  9.94678318e+01 1.37349976e+01 1.20384199e+02 3.36469778e+00\n",
      "  3.18976697e+01 1.61706371e+01 1.54006067e+00 1.60953080e+01]\n",
      " [1.01526524e-02 5.19598245e-02 1.44747815e-01 3.06029950e-02\n",
      "  6.62170492e-01 6.79828855e-01 1.22857972e+00 8.24939265e-01\n",
      "  6.48246854e-01 2.77022372e-02 3.36451648e-01 4.34751079e-02\n",
      "  4.30907575e-01 5.95017948e-02 5.21519997e-01 1.45763081e-02\n",
      "  1.38184851e-01 7.00533014e-02 6.67174299e-03 6.97269662e-02]\n",
      " [4.26749822e+00 2.18404462e+01 6.08423317e+01 1.28634589e+01\n",
      "  2.78332330e+02 2.85754729e+02 5.16413007e+02 3.46749471e+02\n",
      "  2.72479761e+02 1.16441737e+01 1.41421843e+02 1.82740370e+01\n",
      "  1.81124817e+02 2.50105878e+01 2.19212239e+02 6.12690815e+00\n",
      "  5.80836989e+01 2.94457377e+01 2.80435597e+00 2.93085681e+01]\n",
      " [1.18447611e-02 6.06197953e-02 1.68872451e-01 3.57034942e-02\n",
      "  7.72532241e-01 7.93133665e-01 1.43334300e+00 9.62429143e-01\n",
      "  7.56287997e-01 3.23192767e-02 3.92526923e-01 5.07209592e-02\n",
      "  5.02725504e-01 6.94187607e-02 6.08439997e-01 1.70056927e-02\n",
      "  1.61215659e-01 8.17288517e-02 7.78370016e-03 8.13481272e-02]]\n"
     ]
    }
   ],
   "source": [
    "import pandas as pd\n",
    "from scipy.stats import chi2_contingency\n",
    "\n",
    "#null hypothesis : there is no association between country and price\n",
    "#alternate hypothesis : there is a significant association between country and price\n",
    "# Select the columns of interest from the DataFrame\n",
    "df_eshop_subset = df_eshop[['country', 'price']]\n",
    "\n",
    "# Create a contingency table of the two variables\n",
    "contingency_table = pd.crosstab(df_eshop_subset['country'], df_eshop_subset['price'])\n",
    "\n",
    "# Perform the chi-square test of independence\n",
    "chi2, p_value, dof, expected = chi2_contingency(contingency_table)\n",
    "\n",
    "# Print the results\n",
    "print(\"Chi-square statistic:\", chi2)\n",
    "print(\"P-value:\", p_value)\n",
    "print(\"Degrees of freedom:\", dof)\n",
    "print(\"Expected values:\", expected)"
   ]
  },
  {
   "cell_type": "markdown",
   "id": "58361bfb",
   "metadata": {},
   "source": [
    "Since, the p-value is below the significance level(0.05),we reject the null hypothesis and conclude that there is a significant association between the two variables."
   ]
  },
  {
   "cell_type": "code",
   "execution_count": 124,
   "id": "6208f9ac",
   "metadata": {},
   "outputs": [
    {
     "name": "stdout",
     "output_type": "stream",
     "text": [
      "                            sum_sq        df           F    PR(>F)\n",
      "C(country)           -7.437561e+05      46.0 -121.782211  1.000000\n",
      "C(colour)             1.028178e+06      13.0  595.711394  0.000000\n",
      "C(country):C(colour)  5.650320e+04     598.0    0.711677  0.818452\n",
      "Residual              2.191127e+07  165036.0         NaN       NaN\n"
     ]
    }
   ],
   "source": [
    "import pandas as pd\n",
    "import statsmodels.api as sm\n",
    "from statsmodels.formula.api import ols\n",
    "\n",
    "# Filter the data to only include the columns we need\n",
    "data = df_eshop[['price', 'country', 'colour']]\n",
    "\n",
    "# Fit a linear model to the data\n",
    "model = ols('price ~ C(country) + C(colour) + C(country):C(colour)', data=data).fit()\n",
    "\n",
    "# Perform an ANOVA test on the model\n",
    "anova_table = sm.stats.anova_lm(model, typ=2)\n",
    "\n",
    "# Print the ANOVA table\n",
    "print(anova_table)"
   ]
  },
  {
   "cell_type": "markdown",
   "id": "f6fa070a",
   "metadata": {},
   "source": [
    "The C(country) row represents the main effect of country, which tests whether there is a significant difference in the mean price among the different countries. The p-value is very small (close to 0), which means that there is strong evidence that the mean price varies significantly among the different countries.\n",
    "\n",
    "The C(colour) row represents the main effect of colour, which tests whether there is a significant difference in the mean price among the different colours. The p-value is also very small (close to 0), which means that there is strong evidence that the mean price varies significantly among the different colours.\n",
    "\n",
    "The C(country):C(colour) row represents the interaction effect between country and colour. It tests whether the effect of country on price depends on colour, or vice versa. The p-value is relatively large (0.818452), which means that there is no strong evidence of an interaction effect between country and col"
   ]
  },
  {
   "cell_type": "markdown",
   "id": "6d23f016",
   "metadata": {},
   "source": [
    "# Linear Regression "
   ]
  },
  {
   "cell_type": "markdown",
   "id": "0149de6e",
   "metadata": {},
   "source": [
    "# Model 1 "
   ]
  },
  {
   "cell_type": "code",
   "execution_count": 36,
   "id": "1246c80c",
   "metadata": {},
   "outputs": [
    {
     "name": "stdout",
     "output_type": "stream",
     "text": [
      "Collecting category_encoders\n",
      "  Downloading category_encoders-2.6.1-py2.py3-none-any.whl (81 kB)\n",
      "\u001b[2K     \u001b[90m━━━━━━━━━━━━━━━━━━━━━━━━━━━━━━━━━━━━━━━━\u001b[0m \u001b[32m81.9/81.9 kB\u001b[0m \u001b[31m3.5 MB/s\u001b[0m eta \u001b[36m0:00:00\u001b[0m\n",
      "\u001b[?25hRequirement already satisfied: numpy>=1.14.0 in /Users/preethamgowdahr/opt/anaconda3/lib/python3.9/site-packages (from category_encoders) (1.21.5)\n",
      "Requirement already satisfied: statsmodels>=0.9.0 in /Users/preethamgowdahr/opt/anaconda3/lib/python3.9/site-packages (from category_encoders) (0.13.2)\n",
      "Requirement already satisfied: pandas>=1.0.5 in /Users/preethamgowdahr/opt/anaconda3/lib/python3.9/site-packages (from category_encoders) (1.4.4)\n",
      "Requirement already satisfied: scipy>=1.0.0 in /Users/preethamgowdahr/opt/anaconda3/lib/python3.9/site-packages (from category_encoders) (1.9.1)\n",
      "Requirement already satisfied: patsy>=0.5.1 in /Users/preethamgowdahr/opt/anaconda3/lib/python3.9/site-packages (from category_encoders) (0.5.2)\n",
      "Requirement already satisfied: scikit-learn>=0.20.0 in /Users/preethamgowdahr/opt/anaconda3/lib/python3.9/site-packages (from category_encoders) (1.0.2)\n",
      "Requirement already satisfied: python-dateutil>=2.8.1 in /Users/preethamgowdahr/opt/anaconda3/lib/python3.9/site-packages (from pandas>=1.0.5->category_encoders) (2.8.2)\n",
      "Requirement already satisfied: pytz>=2020.1 in /Users/preethamgowdahr/opt/anaconda3/lib/python3.9/site-packages (from pandas>=1.0.5->category_encoders) (2022.1)\n",
      "Requirement already satisfied: six in /Users/preethamgowdahr/opt/anaconda3/lib/python3.9/site-packages (from patsy>=0.5.1->category_encoders) (1.16.0)\n",
      "Requirement already satisfied: threadpoolctl>=2.0.0 in /Users/preethamgowdahr/opt/anaconda3/lib/python3.9/site-packages (from scikit-learn>=0.20.0->category_encoders) (2.2.0)\n",
      "Requirement already satisfied: joblib>=0.11 in /Users/preethamgowdahr/opt/anaconda3/lib/python3.9/site-packages (from scikit-learn>=0.20.0->category_encoders) (1.1.0)\n",
      "Requirement already satisfied: packaging>=21.3 in /Users/preethamgowdahr/opt/anaconda3/lib/python3.9/site-packages (from statsmodels>=0.9.0->category_encoders) (21.3)\n",
      "Requirement already satisfied: pyparsing!=3.0.5,>=2.0.2 in /Users/preethamgowdahr/opt/anaconda3/lib/python3.9/site-packages (from packaging>=21.3->statsmodels>=0.9.0->category_encoders) (3.0.9)\n",
      "Installing collected packages: category_encoders\n",
      "Successfully installed category_encoders-2.6.1\n",
      "Note: you may need to restart the kernel to use updated packages.\n"
     ]
    }
   ],
   "source": [
    "pip install category_encoders"
   ]
  },
  {
   "cell_type": "code",
   "execution_count": 41,
   "id": "3e6cc144",
   "metadata": {},
   "outputs": [],
   "source": [
    "# ordinal encode the categorical feature\n",
    "from sklearn.preprocessing import LabelEncoder\n",
    "import category_encoders as ce\n",
    "\n",
    "oe = ce.OrdinalEncoder(cols=[\"page 2 (clothing model)\"])\n",
    "df_eshop = oe.fit_transform(df_eshop)"
   ]
  },
  {
   "cell_type": "code",
   "execution_count": 73,
   "id": "73a3da45",
   "metadata": {},
   "outputs": [
    {
     "name": "stdout",
     "output_type": "stream",
     "text": [
      "['month', 'page 1 (main category)', 'colour', 'model photography', 'price 2', 'page', 'page1_encoded']\n",
      "Top 7 Feature Ranking:\n",
      "Rank 1: page 1 (main category)\n",
      "Rank 1: page1_encoded\n",
      "Rank 3: price 2\n",
      "Rank 5: model photography\n",
      "Rank 7: colour\n",
      "Rank 8: page\n",
      "Rank 10: month\n"
     ]
    }
   ],
   "source": [
    "import numpy as np\n",
    "from sklearn.linear_model import LinearRegression\n",
    "from sklearn.feature_selection import RFE\n",
    "import warnings\n",
    "warnings.filterwarnings('ignore')\n",
    "\n",
    "\n",
    "# set the predictor variables\n",
    "X = df_eshop.drop(['price'], axis=1)\n",
    "y = df_eshop['price']\n",
    "\n",
    "# create a linear regression model\n",
    "model1 = LinearRegression()\n",
    "\n",
    "# use RFE to select the top 7 features\n",
    "rfe = RFE(model1, n_features_to_select=7)\n",
    "rfe.fit(X, y)\n",
    "\n",
    "# print the selected features\n",
    "selected_features = [f for f, s in zip(X.columns, rfe.support_) if s]\n",
    "print(selected_features)\n",
    "\n",
    "# print the ranking of the top 7 features\n",
    "print(\"Top 7 Feature Ranking:\")\n",
    "ranked_features = list(zip(rfe.ranking_, selected_features))\n",
    "top_7 = sorted(ranked_features)[:7]\n",
    "for rank, feature in top_7:\n",
    "    print(f\"Rank {rank}: {feature}\")"
   ]
  },
  {
   "cell_type": "code",
   "execution_count": 74,
   "id": "ee0c34d9",
   "metadata": {},
   "outputs": [
    {
     "name": "stdout",
     "output_type": "stream",
     "text": [
      "41369 rows in test set vs. 124105 in training set. 7 Features.\n"
     ]
    }
   ],
   "source": [
    "from sklearn.model_selection import train_test_split\n",
    "Reg_df=df_eshop[['month','page 1 (main category)','colour','location','model photography','price 2','page','price']]\n",
    "\n",
    "#Splitting the train and test data \n",
    "# Select the price column as the feature to be predicted (y)\n",
    "y = Reg_df['price']\n",
    "\n",
    "# Remove the price column to create the training data\n",
    "X = Reg_df.drop('price', axis=1)\n",
    "\n",
    "# Perform a 75% train and 25% test data split\n",
    "X_train1, X_test1, y_train1, y_test1 = train_test_split(X, y, test_size=0.25,random_state=1)\n",
    "\n",
    "print(\"{} rows in test set vs. {} in training set. {} Features.\".format(X_test1.shape[0], X_train1.shape[0], X_test1.shape[1]))"
   ]
  },
  {
   "cell_type": "code",
   "execution_count": 75,
   "id": "ff47ad2e",
   "metadata": {},
   "outputs": [
    {
     "data": {
      "text/html": [
       "<div>\n",
       "<style scoped>\n",
       "    .dataframe tbody tr th:only-of-type {\n",
       "        vertical-align: middle;\n",
       "    }\n",
       "\n",
       "    .dataframe tbody tr th {\n",
       "        vertical-align: top;\n",
       "    }\n",
       "\n",
       "    .dataframe thead th {\n",
       "        text-align: right;\n",
       "    }\n",
       "</style>\n",
       "<table border=\"1\" class=\"dataframe\">\n",
       "  <thead>\n",
       "    <tr style=\"text-align: right;\">\n",
       "      <th></th>\n",
       "      <th>month</th>\n",
       "      <th>page 1 (main category)</th>\n",
       "      <th>colour</th>\n",
       "      <th>location</th>\n",
       "      <th>model photography</th>\n",
       "      <th>price 2</th>\n",
       "      <th>page</th>\n",
       "    </tr>\n",
       "  </thead>\n",
       "  <tbody>\n",
       "    <tr>\n",
       "      <th>vif</th>\n",
       "      <td>10.740257</td>\n",
       "      <td>6.286305</td>\n",
       "      <td>3.390867</td>\n",
       "      <td>4.501463</td>\n",
       "      <td>9.393156</td>\n",
       "      <td>8.118152</td>\n",
       "      <td>5.058746</td>\n",
       "    </tr>\n",
       "  </tbody>\n",
       "</table>\n",
       "</div>"
      ],
      "text/plain": [
       "         month  page 1 (main category)    colour  location  model photography  \\\n",
       "vif  10.740257                6.286305  3.390867  4.501463           9.393156   \n",
       "\n",
       "      price 2      page  \n",
       "vif  8.118152  5.058746  "
      ]
     },
     "execution_count": 75,
     "metadata": {},
     "output_type": "execute_result"
    }
   ],
   "source": [
    "#Multicollinearity - VIF\n",
    "#VIF>10, REMOVE. - high VIF indicates high multicollinearity\n",
    "#VIF>10 indicates heavy multicollinearity so those factors should be removed, <5 is good\n",
    "\n",
    "from statsmodels.stats.outliers_influence import variance_inflation_factor\n",
    "vif = [variance_inflation_factor(X_train1.values, i) for i in range(X_train1.shape[1])]\n",
    "pd.DataFrame({'vif':vif[0:]}, index = X_train1.columns).T"
   ]
  },
  {
   "cell_type": "code",
   "execution_count": 76,
   "id": "620af4fc",
   "metadata": {},
   "outputs": [
    {
     "name": "stdout",
     "output_type": "stream",
     "text": [
      "The intercept of the model is 88.23888639907531\n",
      "The coeficient of the model is [  0.06661721  -5.20497129  -0.17470404  -0.02819778  -1.89416039\n",
      " -20.3383448    0.8933829 ]\n"
     ]
    }
   ],
   "source": [
    "from sklearn.linear_model import LinearRegression\n",
    "regression=LinearRegression()\n",
    "regression.fit(X_train1,y_train1)\n",
    "\n",
    "#Printing the intercept of the model\n",
    "print(\"The intercept of the model is\",regression.intercept_)\n",
    "\n",
    "#Printing the regression coefficient\n",
    "print(\"The coeficient of the model is\",regression.coef_)"
   ]
  },
  {
   "cell_type": "code",
   "execution_count": 78,
   "id": "5aad3918",
   "metadata": {},
   "outputs": [
    {
     "name": "stdout",
     "output_type": "stream",
     "text": [
      "The r2 error of the test model is 0.783849757989275\n",
      "The mean square error of the test model is 5.831469377314053\n"
     ]
    }
   ],
   "source": [
    "#Linear Regression Model\n",
    "from sklearn.linear_model import LinearRegression\n",
    "regressor = LinearRegression()\n",
    "regressor.fit(X_train1, y_train1)\n",
    "\n",
    "# Predict\n",
    "y_pred1 = regressor.predict(X_test1)\n",
    "\n",
    "#Accuracy\n",
    "from sklearn.metrics import r2_score\n",
    "r2_test = r2_score(y_test1, y_pred1)  \n",
    "\n",
    "from sklearn.metrics import mean_squared_error\n",
    "from math import sqrt\n",
    "mse_test1 = sqrt(mean_squared_error(y_test1, y_pred1))\n",
    "\n",
    "#Printing the r2 error and mean square error of the test value\n",
    "print(\"The r2 error of the test model is\",r2_test)\n",
    "print(\"The mean square error of the test model is\",mse_test1)"
   ]
  },
  {
   "cell_type": "code",
   "execution_count": 79,
   "id": "be83b834",
   "metadata": {},
   "outputs": [
    {
     "name": "stdout",
     "output_type": "stream",
     "text": [
      "The r2 error of the train model is 0.7849722983739216\n",
      "The mean square error of the train model is 5.819478471270866\n"
     ]
    }
   ],
   "source": [
    "#Getting the Y_pred and r2 train error and mean square error of the train data\n",
    "y_predt1 = regressor.predict(X_train1)\n",
    "r2_train1 = r2_score(y_train1, y_predt1) \n",
    "mse_train1 = sqrt(mean_squared_error(y_train1, y_predt1))\n",
    "print(\"The r2 error of the train model is\",r2_train1)\n",
    "print(\"The mean square error of the train model is\",mse_train1)"
   ]
  },
  {
   "cell_type": "code",
   "execution_count": 80,
   "id": "213ab2fd",
   "metadata": {},
   "outputs": [
    {
     "data": {
      "text/plain": [
       "93218     -3.086089\n",
       "160245     1.777785\n",
       "133045    10.391197\n",
       "102124    -7.927272\n",
       "8425       1.328467\n",
       "            ...    \n",
       "79788     -4.208528\n",
       "11164      9.375307\n",
       "75749     -2.738809\n",
       "81390      1.811267\n",
       "25464     -2.659059\n",
       "Name: price, Length: 41369, dtype: float64"
      ]
     },
     "execution_count": 80,
     "metadata": {},
     "output_type": "execute_result"
    }
   ],
   "source": [
    "#find the residuals for the y_test\n",
    "residual = y_test1 - y_pred1\n",
    "residual"
   ]
  },
  {
   "cell_type": "code",
   "execution_count": 81,
   "id": "339a8345",
   "metadata": {},
   "outputs": [
    {
     "data": {
      "text/plain": [
       "<matplotlib.collections.PathCollection at 0x7fe7c016d670>"
      ]
     },
     "execution_count": 81,
     "metadata": {},
     "output_type": "execute_result"
    },
    {
     "data": {
      "image/png": "[encoded data removed]",
      "text/plain": [
       "<Figure size 640x480 with 1 Axes>"
      ]
     },
     "metadata": {},
     "output_type": "display_data"
    }
   ],
   "source": [
    "#linearity , exploring the linearity for the y_test results\n",
    "#plot predicted vs actual\n",
    "%matplotlib inline\n",
    "import matplotlib.pyplot as plt\n",
    "plt.scatter(y_pred1,y_test1)"
   ]
  },
  {
   "cell_type": "code",
   "execution_count": 82,
   "id": "758711d2",
   "metadata": {},
   "outputs": [
    {
     "data": {
      "text/plain": [
       "<AxesSubplot:xlabel='price', ylabel='Density'>"
      ]
     },
     "execution_count": 82,
     "metadata": {},
     "output_type": "execute_result"
    },
    {
     "data": {
      "image/png": "[encoded data removed]",
      "text/plain": [
       "<Figure size 640x480 with 1 Axes>"
      ]
     },
     "metadata": {},
     "output_type": "display_data"
    }
   ],
   "source": [
    "#Normality of Residual\n",
    "#1 Distribution\n",
    "#2 PP plot or a QQ plot. \n",
    "%matplotlib inline\n",
    "import seaborn as sns\n",
    "sns.distplot(residual)"
   ]
  },
  {
   "cell_type": "code",
   "execution_count": 83,
   "id": "2c1c4460",
   "metadata": {},
   "outputs": [
    {
     "data": {
      "text/plain": [
       "<matplotlib.collections.PathCollection at 0x7fe7c898f430>"
      ]
     },
     "execution_count": 83,
     "metadata": {},
     "output_type": "execute_result"
    },
    {
     "data": {
      "image/png": "[encoded data removed]",
      "text/plain": [
       "<Figure size 600x250 with 1 Axes>"
      ]
     },
     "metadata": {},
     "output_type": "display_data"
    }
   ],
   "source": [
    "#homoskedasticity., there shouldnt be a pattern as such, increasing or decreasing or anything like that \n",
    "\n",
    "import matplotlib.pyplot as plt\n",
    "fig, ax = plt.subplots(figsize=(6,2.5))\n",
    "ax.scatter(y_pred1, residual)"
   ]
  },
  {
   "cell_type": "code",
   "execution_count": 84,
   "id": "f12804bd",
   "metadata": {},
   "outputs": [
    {
     "data": {
      "text/plain": [
       "<matplotlib.collections.PathCollection at 0x7fe7c898ff10>"
      ]
     },
     "execution_count": 84,
     "metadata": {},
     "output_type": "execute_result"
    },
    {
     "data": {
      "image/png": "[encoded data removed]",
      "text/plain": [
       "<Figure size 640x480 with 1 Axes>"
      ]
     },
     "metadata": {},
     "output_type": "display_data"
    }
   ],
   "source": [
    "#residuals vs predicted plot\n",
    "# look for independence assumption. If the residuals are distributed uniformly randomly around the zero x-axes and \n",
    "#do not form specific clusters, then the assumption holds true.\n",
    "plt.scatter(y_pred1, residual)"
   ]
  },
  {
   "cell_type": "code",
   "execution_count": 85,
   "id": "55df4722",
   "metadata": {},
   "outputs": [
    {
     "data": {
      "image/png": "[encoded data removed]",
      "text/plain": [
       "<Figure size 640x480 with 1 Axes>"
      ]
     },
     "metadata": {},
     "output_type": "display_data"
    }
   ],
   "source": [
    "#autocorrelation\n",
    "#except the first line, all other lines should be inside the blue or the significance area\n",
    "#outside the blue area would mean there is some significant autocorrelation\n",
    "\n",
    "import statsmodels.api as sm\n",
    "import statsmodels.tsa.api as smt\n",
    "\n",
    "acf = smt.graphics.plot_acf(residual, lags=40 , alpha=0.05)\n",
    "acf.show()"
   ]
  },
  {
   "cell_type": "code",
   "execution_count": 86,
   "id": "e423084c",
   "metadata": {},
   "outputs": [
    {
     "name": "stdout",
     "output_type": "stream",
     "text": [
      "RMSE on training set: 5.819478471270866\n"
     ]
    }
   ],
   "source": [
    "from sklearn.metrics import mean_squared_error\n",
    "# predict on the training data\n",
    "y_pred_train1 = regressor.predict(X_train1)\n",
    "\n",
    "# calculate the RMSE\n",
    "rmse_train1 = np.sqrt(mean_squared_error(y_train1, y_pred_train1))\n",
    "\n",
    "print(f\"RMSE on training set: {rmse_train1}\")"
   ]
  },
  {
   "cell_type": "code",
   "execution_count": 87,
   "id": "cccf4d7e",
   "metadata": {},
   "outputs": [
    {
     "name": "stdout",
     "output_type": "stream",
     "text": [
      "RMSE on test set: 5.831469377314053\n",
      "Difference in RMSE between training and test sets: -0.011990906043187088\n",
      "Model is not overfit\n"
     ]
    }
   ],
   "source": [
    "# predict on the test data\n",
    "y_pred_test1 = regressor.predict(X_test1)\n",
    "\n",
    "# calculate the RMSE\n",
    "rmse_test1 = np.sqrt(mean_squared_error(y_test1, y_pred_test1))\n",
    "\n",
    "print(f\"RMSE on test set: {rmse_test1}\")\n",
    "\n",
    "# calculate the difference between training and test RMSE\n",
    "rmse_diff1 = rmse_train1 - rmse_test1\n",
    "print(f\"Difference in RMSE between training and test sets: {rmse_diff1}\")\n",
    "\n",
    "# determine if the model is overfit by comparing training and test RMSE\n",
    "if rmse_diff1 > 0:\n",
    "    print(\"Model is overfit\")\n",
    "else:\n",
    "    print(\"Model is not overfit\")"
   ]
  },
  {
   "cell_type": "code",
   "execution_count": 88,
   "id": "539ade1f",
   "metadata": {},
   "outputs": [
    {
     "name": "stdout",
     "output_type": "stream",
     "text": [
      "Accuracy: 0.783849757989275\n"
     ]
    }
   ],
   "source": [
    "# Evaluate the model performance\n",
    "score = regressor.score(X_test1, y_test1)\n",
    "\n",
    "print(\"Accuracy:\", score)"
   ]
  },
  {
   "cell_type": "markdown",
   "id": "b611f565",
   "metadata": {},
   "source": [
    "# Model 2 "
   ]
  },
  {
   "cell_type": "code",
   "execution_count": 103,
   "id": "f15df984",
   "metadata": {},
   "outputs": [
    {
     "data": {
      "text/html": [
       "<div>\n",
       "<style scoped>\n",
       "    .dataframe tbody tr th:only-of-type {\n",
       "        vertical-align: middle;\n",
       "    }\n",
       "\n",
       "    .dataframe tbody tr th {\n",
       "        vertical-align: top;\n",
       "    }\n",
       "\n",
       "    .dataframe thead th {\n",
       "        text-align: right;\n",
       "    }\n",
       "</style>\n",
       "<table border=\"1\" class=\"dataframe\">\n",
       "  <thead>\n",
       "    <tr style=\"text-align: right;\">\n",
       "      <th></th>\n",
       "      <th>year</th>\n",
       "      <th>month</th>\n",
       "      <th>day</th>\n",
       "      <th>order</th>\n",
       "      <th>country</th>\n",
       "      <th>session ID</th>\n",
       "      <th>page 1 (main category)</th>\n",
       "      <th>page 2 (clothing model)</th>\n",
       "      <th>colour</th>\n",
       "      <th>location</th>\n",
       "      <th>model photography</th>\n",
       "      <th>price</th>\n",
       "      <th>price 2</th>\n",
       "      <th>page</th>\n",
       "      <th>page1_encoded</th>\n",
       "    </tr>\n",
       "  </thead>\n",
       "  <tbody>\n",
       "    <tr>\n",
       "      <th>0</th>\n",
       "      <td>2008</td>\n",
       "      <td>4</td>\n",
       "      <td>1</td>\n",
       "      <td>1</td>\n",
       "      <td>29</td>\n",
       "      <td>1</td>\n",
       "      <td>1</td>\n",
       "      <td>A13</td>\n",
       "      <td>1</td>\n",
       "      <td>5</td>\n",
       "      <td>1</td>\n",
       "      <td>28</td>\n",
       "      <td>2</td>\n",
       "      <td>1</td>\n",
       "      <td>0.0</td>\n",
       "    </tr>\n",
       "    <tr>\n",
       "      <th>1</th>\n",
       "      <td>2008</td>\n",
       "      <td>4</td>\n",
       "      <td>1</td>\n",
       "      <td>2</td>\n",
       "      <td>29</td>\n",
       "      <td>1</td>\n",
       "      <td>1</td>\n",
       "      <td>A16</td>\n",
       "      <td>1</td>\n",
       "      <td>6</td>\n",
       "      <td>1</td>\n",
       "      <td>33</td>\n",
       "      <td>2</td>\n",
       "      <td>1</td>\n",
       "      <td>0.0</td>\n",
       "    </tr>\n",
       "    <tr>\n",
       "      <th>2</th>\n",
       "      <td>2008</td>\n",
       "      <td>4</td>\n",
       "      <td>1</td>\n",
       "      <td>3</td>\n",
       "      <td>29</td>\n",
       "      <td>1</td>\n",
       "      <td>2</td>\n",
       "      <td>B4</td>\n",
       "      <td>10</td>\n",
       "      <td>2</td>\n",
       "      <td>1</td>\n",
       "      <td>52</td>\n",
       "      <td>1</td>\n",
       "      <td>1</td>\n",
       "      <td>1.0</td>\n",
       "    </tr>\n",
       "    <tr>\n",
       "      <th>3</th>\n",
       "      <td>2008</td>\n",
       "      <td>4</td>\n",
       "      <td>1</td>\n",
       "      <td>4</td>\n",
       "      <td>29</td>\n",
       "      <td>1</td>\n",
       "      <td>2</td>\n",
       "      <td>B17</td>\n",
       "      <td>6</td>\n",
       "      <td>6</td>\n",
       "      <td>2</td>\n",
       "      <td>38</td>\n",
       "      <td>2</td>\n",
       "      <td>1</td>\n",
       "      <td>1.0</td>\n",
       "    </tr>\n",
       "    <tr>\n",
       "      <th>4</th>\n",
       "      <td>2008</td>\n",
       "      <td>4</td>\n",
       "      <td>1</td>\n",
       "      <td>5</td>\n",
       "      <td>29</td>\n",
       "      <td>1</td>\n",
       "      <td>2</td>\n",
       "      <td>B8</td>\n",
       "      <td>4</td>\n",
       "      <td>3</td>\n",
       "      <td>2</td>\n",
       "      <td>52</td>\n",
       "      <td>1</td>\n",
       "      <td>1</td>\n",
       "      <td>1.0</td>\n",
       "    </tr>\n",
       "  </tbody>\n",
       "</table>\n",
       "</div>"
      ],
      "text/plain": [
       "   year  month  day  order  country  session ID  page 1 (main category)  \\\n",
       "0  2008      4    1      1       29           1                       1   \n",
       "1  2008      4    1      2       29           1                       1   \n",
       "2  2008      4    1      3       29           1                       2   \n",
       "3  2008      4    1      4       29           1                       2   \n",
       "4  2008      4    1      5       29           1                       2   \n",
       "\n",
       "  page 2 (clothing model)  colour  location  model photography  price  \\\n",
       "0                     A13       1         5                  1     28   \n",
       "1                     A16       1         6                  1     33   \n",
       "2                      B4      10         2                  1     52   \n",
       "3                     B17       6         6                  2     38   \n",
       "4                      B8       4         3                  2     52   \n",
       "\n",
       "   price 2  page  page1_encoded  \n",
       "0        2     1            0.0  \n",
       "1        2     1            0.0  \n",
       "2        1     1            1.0  \n",
       "3        2     1            1.0  \n",
       "4        1     1            1.0  "
      ]
     },
     "execution_count": 103,
     "metadata": {},
     "output_type": "execute_result"
    }
   ],
   "source": [
    "import pandas as pd\n",
    "from sklearn.preprocessing import OrdinalEncoder\n",
    "from sklearn.linear_model import LinearRegression\n",
    "encoder = OrdinalEncoder(categories=[['1', '2', '3', '4']])\n",
    "df_eshop['page1_encoded'] = encoder.fit_transform(df_eshop[['page 1 (main category)']])\n",
    "df_eshop.head()"
   ]
  },
  {
   "cell_type": "code",
   "execution_count": 104,
   "id": "122e7cba",
   "metadata": {},
   "outputs": [
    {
     "name": "stdout",
     "output_type": "stream",
     "text": [
      "Model intercept: 2.3046301594709497\n",
      "Model coefficients: [-0.00889032  0.01846787  0.0123608  -0.03291193]\n",
      "R-squared score: 0.14700666661903405\n"
     ]
    }
   ],
   "source": [
    "# Lets fit the multiple linear regression model\n",
    "\n",
    "#define predictor variables\n",
    "X = df_eshop[['location','country','month','price']] \n",
    "#define response variable\n",
    "y = df_eshop['page1_encoded'] \n",
    "\n",
    "lr_model2 = LinearRegression().fit(X, y)\n",
    "\n",
    "# Evaluate the model\n",
    "print(\"Model intercept:\", lr_model2.intercept_)\n",
    "print(\"Model coefficients:\", lr_model2.coef_)\n",
    "print(\"R-squared score:\", lr_model2.score(X, y))"
   ]
  },
  {
   "cell_type": "code",
   "execution_count": 105,
   "id": "53d75d82",
   "metadata": {},
   "outputs": [
    {
     "name": "stdout",
     "output_type": "stream",
     "text": [
      "                            OLS Regression Results                            \n",
      "==============================================================================\n",
      "Dep. Variable:          page1_encoded   R-squared:                       0.147\n",
      "Model:                            OLS   Adj. R-squared:                  0.147\n",
      "Method:                 Least Squares   F-statistic:                     7129.\n",
      "Date:                Tue, 16 May 2023   Prob (F-statistic):               0.00\n",
      "Time:                        12:54:40   Log-Likelihood:            -2.4396e+05\n",
      "No. Observations:              165474   AIC:                         4.879e+05\n",
      "Df Residuals:                  165469   BIC:                         4.880e+05\n",
      "Df Model:                           4                                         \n",
      "Covariance Type:            nonrobust                                         \n",
      "==============================================================================\n",
      "                 coef    std err          t      P>|t|      [0.025      0.975]\n",
      "------------------------------------------------------------------------------\n",
      "const          2.3046      0.018    126.310      0.000       2.269       2.340\n",
      "location      -0.0089      0.002     -5.839      0.000      -0.012      -0.006\n",
      "country        0.0185      0.000     50.656      0.000       0.018       0.019\n",
      "month          0.0124      0.002      6.303      0.000       0.009       0.016\n",
      "price         -0.0329      0.000   -158.183      0.000      -0.033      -0.033\n",
      "==============================================================================\n",
      "Omnibus:                    51688.763   Durbin-Watson:                   0.850\n",
      "Prob(Omnibus):                  0.000   Jarque-Bera (JB):             8801.156\n",
      "Skew:                          -0.208   Prob(JB):                         0.00\n",
      "Kurtosis:                       1.949   Cond. No.                         373.\n",
      "==============================================================================\n",
      "\n",
      "Notes:\n",
      "[1] Standard Errors assume that the covariance matrix of the errors is correctly specified.\n"
     ]
    }
   ],
   "source": [
    "# Lets fit the multiple linear regression model\n",
    "\n",
    "#define predictor variables\n",
    "X = df_eshop[['location','country','month','price']] \n",
    "#define response variable\n",
    "y = df_eshop['page1_encoded'] \n",
    "\n",
    "X = sm.add_constant(X)\n",
    "ols_model2 = sm.OLS(y, X)\n",
    "results = ols_model2.fit()\n",
    "print(results.summary())"
   ]
  },
  {
   "cell_type": "code",
   "execution_count": 106,
   "id": "31453171",
   "metadata": {},
   "outputs": [
    {
     "name": "stdout",
     "output_type": "stream",
     "text": [
      "Lasso coefficients: [ 0.         -0.          0.01713205  0.         -0.03219581]\n",
      "Lasso R-squared score: 0.14633311679917926\n"
     ]
    }
   ],
   "source": [
    "from sklearn.linear_model import Lasso\n",
    "from sklearn.model_selection import train_test_split\n",
    "\n",
    "# Split the dataset into training and testing sets\n",
    "X_train2, X_test2, y_train2, y_test2 = train_test_split(X, y, test_size=0.3, random_state=42)\n",
    "\n",
    "# Define the Lasso regression model\n",
    "lasso = Lasso(alpha=0.1)\n",
    "\n",
    "# Fit the model on the training data\n",
    "lasso.fit(X_train2, y_train2)\n",
    "\n",
    "# Predict the response variable for the testing data\n",
    "y_pred = lasso.predict(X_test2)\n",
    "\n",
    "# Get the R-squared score of the Lasso model on the testing data\n",
    "lasso_score = lasso.score(X_test2, y_test2)\n",
    "\n",
    "# Get the coefficients of the Lasso model\n",
    "lasso_coef = lasso.coef_\n",
    "\n",
    "print(\"Lasso coefficients:\", lasso_coef)\n",
    "print(\"Lasso R-squared score:\", lasso_score)"
   ]
  },
  {
   "cell_type": "code",
   "execution_count": 107,
   "id": "897c4827",
   "metadata": {},
   "outputs": [
    {
     "name": "stdout",
     "output_type": "stream",
     "text": [
      "RMSE on training set: 1.057912586030812\n"
     ]
    }
   ],
   "source": [
    "from sklearn.metrics import mean_squared_error\n",
    "\n",
    "# Predict on training set\n",
    "y_pred_train2 = lasso.predict(X_train2)\n",
    "\n",
    "# Calculate RMSE on training set\n",
    "rmse_train2 = np.sqrt(mean_squared_error(y_train2, y_pred_train2))\n",
    "\n",
    "print(\"RMSE on training set:\", rmse_train2)"
   ]
  },
  {
   "cell_type": "code",
   "execution_count": 108,
   "id": "5a8334b0",
   "metadata": {},
   "outputs": [
    {
     "name": "stdout",
     "output_type": "stream",
     "text": [
      "RMSE on test set: 1.0558056909493312\n"
     ]
    }
   ],
   "source": [
    "# Use the trained Lasso model to make predictions on the test set\n",
    "y_pred2 = lasso.predict(X_test2)\n",
    "\n",
    "# Calculate the RMSE\n",
    "rmse2 = np.sqrt(np.mean((y_test2 - y_pred2) ** 2))\n",
    "\n",
    "print(\"RMSE on test set:\", rmse2)"
   ]
  },
  {
   "cell_type": "markdown",
   "id": "0f10c7dc",
   "metadata": {},
   "source": [
    "# Model 3 "
   ]
  },
  {
   "cell_type": "code",
   "execution_count": 109,
   "id": "0b52a300",
   "metadata": {},
   "outputs": [
    {
     "name": "stdout",
     "output_type": "stream",
     "text": [
      "Model intercept: 2.3799653309937088\n",
      "Model coefficients: [ 1.75670835e-02  1.74402207e-06  3.66939745e-02 -2.80665693e-02\n",
      "  3.08295628e-01]\n",
      "R-squared score: 0.2504222152268598\n"
     ]
    }
   ],
   "source": [
    "import pandas as pd\n",
    "from sklearn.linear_model import LinearRegression\n",
    "\n",
    "\n",
    "# Preprocess the data\n",
    "X = df_eshop[['country', 'session ID', 'colour', 'price', 'page']]\n",
    "y = df_eshop['page 1 (main category)']\n",
    "\n",
    "# Train the model\n",
    "model3 = LinearRegression().fit(X, y)\n",
    "\n",
    "\n",
    "# Evaluate the model\n",
    "print(\"Model intercept:\", model3.intercept_)\n",
    "print(\"Model coefficients:\", model3.coef_)\n",
    "print(\"R-squared score:\", model3.score(X, y))"
   ]
  },
  {
   "cell_type": "code",
   "execution_count": 110,
   "id": "29dda8c3",
   "metadata": {},
   "outputs": [
    {
     "name": "stdout",
     "output_type": "stream",
     "text": [
      "                              OLS Regression Results                              \n",
      "==================================================================================\n",
      "Dep. Variable:     page 1 (main category)   R-squared:                       0.250\n",
      "Model:                                OLS   Adj. R-squared:                  0.250\n",
      "Method:                     Least Squares   F-statistic:                 1.106e+04\n",
      "Date:                    Tue, 16 May 2023   Prob (F-statistic):               0.00\n",
      "Time:                            12:54:49   Log-Likelihood:            -2.3327e+05\n",
      "No. Observations:                  165474   AIC:                         4.666e+05\n",
      "Df Residuals:                      165468   BIC:                         4.666e+05\n",
      "Df Model:                               5                                         \n",
      "Covariance Type:                nonrobust                                         \n",
      "==============================================================================\n",
      "                 coef    std err          t      P>|t|      [0.025      0.975]\n",
      "------------------------------------------------------------------------------\n",
      "const          2.3800      0.015    160.204      0.000       2.351       2.409\n",
      "country        0.0176      0.000     51.396      0.000       0.017       0.018\n",
      "session ID  1.744e-06   3.49e-07      5.001      0.000    1.06e-06    2.43e-06\n",
      "colour         0.0367      0.001     61.650      0.000       0.036       0.038\n",
      "price         -0.0281      0.000   -142.575      0.000      -0.028      -0.028\n",
      "page           0.3083      0.003    119.271      0.000       0.303       0.313\n",
      "==============================================================================\n",
      "Omnibus:                     8006.508   Durbin-Watson:                   0.915\n",
      "Prob(Omnibus):                  0.000   Jarque-Bera (JB):             3270.758\n",
      "Skew:                           0.057   Prob(JB):                         0.00\n",
      "Kurtosis:                       2.321   Cond. No.                     8.52e+04\n",
      "==============================================================================\n",
      "\n",
      "Notes:\n",
      "[1] Standard Errors assume that the covariance matrix of the errors is correctly specified.\n",
      "[2] The condition number is large, 8.52e+04. This might indicate that there are\n",
      "strong multicollinearity or other numerical problems.\n"
     ]
    }
   ],
   "source": [
    "# Preprocess the data\n",
    "X = df_eshop[['country', 'session ID', 'colour', 'price', 'page']]\n",
    "y = df_eshop['page 1 (main category)']\n",
    "\n",
    "X = sm.add_constant(X)\n",
    "ols_model3 = sm.OLS(y, X)\n",
    "results = ols_model3.fit()\n",
    "print(results.summary())"
   ]
  },
  {
   "cell_type": "code",
   "execution_count": 111,
   "id": "5e7efde9",
   "metadata": {},
   "outputs": [
    {
     "name": "stdout",
     "output_type": "stream",
     "text": [
      "Lasso coefficients: [ 0.00000000e+00  1.62574864e-02  2.28736785e-06  3.67962274e-02\n",
      " -2.86940031e-02  2.06043440e-01]\n",
      "Lasso R-squared score: 0.24086980546707792\n"
     ]
    }
   ],
   "source": [
    "from sklearn.linear_model import Lasso\n",
    "from sklearn.model_selection import train_test_split\n",
    "\n",
    "# Split the dataset into training and testing sets\n",
    "X_train3, X_test3, y_train3, y_test3 = train_test_split(X, y, test_size=0.3, random_state=42)\n",
    "\n",
    "# Define the Lasso regression model\n",
    "lasso = Lasso(alpha=0.1)\n",
    "\n",
    "# Fit the model on the training data\n",
    "lasso.fit(X_train3, y_train3)\n",
    "\n",
    "# Predict the response variable for the testing data\n",
    "y_pred = lasso.predict(X_test3)\n",
    "\n",
    "# Get the R-squared score of the Lasso model on the testing data\n",
    "lasso_score = lasso.score(X_test3, y_test3)\n",
    "\n",
    "# Get the coefficients of the Lasso model\n",
    "lasso_coef = lasso.coef_\n",
    "\n",
    "print(\"Lasso coefficients:\", lasso_coef)\n",
    "print(\"Lasso R-squared score:\", lasso_score)"
   ]
  },
  {
   "cell_type": "code",
   "execution_count": 112,
   "id": "58db58ba",
   "metadata": {},
   "outputs": [
    {
     "name": "stdout",
     "output_type": "stream",
     "text": [
      "RMSE on training set: 0.9959547112017936\n"
     ]
    }
   ],
   "source": [
    "from sklearn.metrics import mean_squared_error\n",
    "\n",
    "# Predict on training set\n",
    "y_pred_train3 = lasso.predict(X_train3)\n",
    "\n",
    "# Calculate RMSE on training set\n",
    "rmse_train3 = np.sqrt(mean_squared_error(y_train3, y_pred_train3))\n",
    "\n",
    "print(\"RMSE on training set:\", rmse_train3)"
   ]
  },
  {
   "cell_type": "code",
   "execution_count": 113,
   "id": "83b9fdb2",
   "metadata": {},
   "outputs": [
    {
     "name": "stdout",
     "output_type": "stream",
     "text": [
      "RMSE on test set: 0.9956298634296403\n"
     ]
    }
   ],
   "source": [
    "# Use the trained Lasso model to make predictions on the test set\n",
    "y_pred3 = lasso.predict(X_test3)\n",
    "\n",
    "# Calculate the RMSE\n",
    "rmse3 = np.sqrt(np.mean((y_test3 - y_pred3) ** 2))\n",
    "\n",
    "print(\"RMSE on test set:\", rmse3)"
   ]
  },
  {
   "cell_type": "markdown",
   "id": "5e955621",
   "metadata": {},
   "source": [
    "# Model 4 "
   ]
  },
  {
   "cell_type": "code",
   "execution_count": 115,
   "id": "25757344",
   "metadata": {},
   "outputs": [],
   "source": [
    "# ordinal encode the categorical feature\n",
    "from sklearn.preprocessing import LabelEncoder\n",
    "import category_encoders as ce\n",
    "\n",
    "oe = ce.OrdinalEncoder(cols=[\"page 2 (clothing model)\"])\n",
    "df_eshop = oe.fit_transform(df_eshop)"
   ]
  },
  {
   "cell_type": "code",
   "execution_count": 116,
   "id": "544f6998",
   "metadata": {},
   "outputs": [
    {
     "name": "stdout",
     "output_type": "stream",
     "text": [
      "Model intercept: 0.40737553095305046\n",
      "Model coefficients: [0.00222867 0.04440248 0.40827311 0.00104677 0.2006449 ]\n",
      "R-squared score: 0.1991725324445579\n"
     ]
    }
   ],
   "source": [
    "import pandas as pd\n",
    "from sklearn.linear_model import LinearRegression\n",
    "\n",
    "\n",
    "# Preprocess the data\n",
    "X = df_eshop[['page 2 (clothing model)','colour', 'model photography','price', 'page1_encoded']]\n",
    "y = df_eshop['page']\n",
    "\n",
    "# Train the model\n",
    "model4 = LinearRegression().fit(X, y)\n",
    "\n",
    "# Evaluate the model\n",
    "print(\"Model intercept:\", model4.intercept_)\n",
    "print(\"Model coefficients:\", model4.coef_)\n",
    "print(\"R-squared score:\", model4.score(X, y))"
   ]
  },
  {
   "cell_type": "code",
   "execution_count": 117,
   "id": "63dd29e9",
   "metadata": {},
   "outputs": [
    {
     "name": "stdout",
     "output_type": "stream",
     "text": [
      "Linear Regression Model intercept: 0.4031334137818794\n",
      "Linear Regression Model coefficients: [0.0021654  0.04443115 0.41387633 0.00111627 0.20157124]\n",
      "Linear Regression R-squared score: 0.197679263442194\n",
      "Ridge Regression Model intercept: 0.4031464450653963\n",
      "Ridge Regression Model coefficients: [0.00216541 0.04443122 0.41386781 0.00111621 0.20157094]\n",
      "Ridge Regression R-squared score: 0.19767936272274034\n"
     ]
    }
   ],
   "source": [
    "import pandas as pd\n",
    "from sklearn.linear_model import LinearRegression, Ridge\n",
    "from sklearn.model_selection import train_test_split\n",
    "from sklearn.metrics import r2_score\n",
    "\n",
    "# Preprocess the data\n",
    "X = df_eshop[['page 2 (clothing model)','colour', 'model photography','price', 'page1_encoded']]\n",
    "y = df_eshop['page']\n",
    "\n",
    "# Split data into training and test sets\n",
    "X_train4, X_test4, y_train4, y_test4 = train_test_split(X, y, test_size=0.2, random_state=42)\n",
    "\n",
    "# Train a linear regression model\n",
    "linear_reg = LinearRegression().fit(X_train4, y_train4)\n",
    "\n",
    "# Train a Ridge regression model\n",
    "ridge_reg = Ridge(alpha=0.5).fit(X_train4, y_train4)\n",
    "\n",
    "# Evaluate the models\n",
    "print(\"Linear Regression Model intercept:\", linear_reg.intercept_)\n",
    "print(\"Linear Regression Model coefficients:\", linear_reg.coef_)\n",
    "print(\"Linear Regression R-squared score:\", linear_reg.score(X_test4, y_test4))\n",
    "\n",
    "print(\"Ridge Regression Model intercept:\", ridge_reg.intercept_)\n",
    "print(\"Ridge Regression Model coefficients:\", ridge_reg.coef_)\n",
    "print(\"Ridge Regression R-squared score:\", ridge_reg.score(X_test4, y_test4))"
   ]
  },
  {
   "cell_type": "markdown",
   "id": "db1fd93f",
   "metadata": {},
   "source": [
    "# Logistic regression and Ridge Regression "
   ]
  },
  {
   "cell_type": "markdown",
   "id": "7a322c62",
   "metadata": {},
   "source": [
    "# Model 5 "
   ]
  },
  {
   "cell_type": "code",
   "execution_count": 166,
   "id": "412a282b",
   "metadata": {},
   "outputs": [
    {
     "data": {
      "text/html": [
       "<div>\n",
       "<style scoped>\n",
       "    .dataframe tbody tr th:only-of-type {\n",
       "        vertical-align: middle;\n",
       "    }\n",
       "\n",
       "    .dataframe tbody tr th {\n",
       "        vertical-align: top;\n",
       "    }\n",
       "\n",
       "    .dataframe thead th {\n",
       "        text-align: right;\n",
       "    }\n",
       "</style>\n",
       "<table border=\"1\" class=\"dataframe\">\n",
       "  <thead>\n",
       "    <tr style=\"text-align: right;\">\n",
       "      <th></th>\n",
       "      <th>max_clicks_per_session</th>\n",
       "      <th>session ID</th>\n",
       "    </tr>\n",
       "  </thead>\n",
       "  <tbody>\n",
       "    <tr>\n",
       "      <th>0</th>\n",
       "      <td>195</td>\n",
       "      <td>1</td>\n",
       "    </tr>\n",
       "    <tr>\n",
       "      <th>1</th>\n",
       "      <td>57</td>\n",
       "      <td>1</td>\n",
       "    </tr>\n",
       "    <tr>\n",
       "      <th>2</th>\n",
       "      <td>68</td>\n",
       "      <td>1</td>\n",
       "    </tr>\n",
       "    <tr>\n",
       "      <th>3</th>\n",
       "      <td>70</td>\n",
       "      <td>1</td>\n",
       "    </tr>\n",
       "    <tr>\n",
       "      <th>4</th>\n",
       "      <td>74</td>\n",
       "      <td>1</td>\n",
       "    </tr>\n",
       "    <tr>\n",
       "      <th>...</th>\n",
       "      <td>...</td>\n",
       "      <td>...</td>\n",
       "    </tr>\n",
       "    <tr>\n",
       "      <th>91</th>\n",
       "      <td>5</td>\n",
       "      <td>1320</td>\n",
       "    </tr>\n",
       "    <tr>\n",
       "      <th>92</th>\n",
       "      <td>4</td>\n",
       "      <td>1689</td>\n",
       "    </tr>\n",
       "    <tr>\n",
       "      <th>93</th>\n",
       "      <td>3</td>\n",
       "      <td>2177</td>\n",
       "    </tr>\n",
       "    <tr>\n",
       "      <th>94</th>\n",
       "      <td>2</td>\n",
       "      <td>2771</td>\n",
       "    </tr>\n",
       "    <tr>\n",
       "      <th>95</th>\n",
       "      <td>1</td>\n",
       "      <td>3937</td>\n",
       "    </tr>\n",
       "  </tbody>\n",
       "</table>\n",
       "<p>96 rows × 2 columns</p>\n",
       "</div>"
      ],
      "text/plain": [
       "    max_clicks_per_session  session ID\n",
       "0                      195           1\n",
       "1                       57           1\n",
       "2                       68           1\n",
       "3                       70           1\n",
       "4                       74           1\n",
       "..                     ...         ...\n",
       "91                       5        1320\n",
       "92                       4        1689\n",
       "93                       3        2177\n",
       "94                       2        2771\n",
       "95                       1        3937\n",
       "\n",
       "[96 rows x 2 columns]"
      ]
     },
     "execution_count": 166,
     "metadata": {},
     "output_type": "execute_result"
    }
   ],
   "source": [
    "from sklearn.model_selection import train_test_split\n",
    "from sklearn.linear_model import LogisticRegression\n",
    "from sklearn.metrics import confusion_matrix,roc_auc_score,roc_curve,classification_report\n",
    "\n",
    "clickstream_poland[['session ID','max_clicks_per_session']].drop_duplicates().groupby(['max_clicks_per_session'])['session ID'].count().sort_values(ascending=True).reset_index()"
   ]
  },
  {
   "cell_type": "code",
   "execution_count": 167,
   "id": "56ce7d6d",
   "metadata": {},
   "outputs": [],
   "source": [
    "# Define the feature names and their corresponding values\n",
    "feature_mappings = {\n",
    "    'product_cat_1': 'product_cat_trousers',\n",
    "    'product_cat_2': 'product_cat_skirts',\n",
    "    'product_cat_3': 'product_cat_blouses',\n",
    "    'product_cat_4': 'product_cat_sale',\n",
    "    'colour_1': 'colour_beige',\n",
    "    'colour_2': 'colour_black',\n",
    "    'colour_3': 'colour_blue',\n",
    "    'colour_4': 'colour_brown',\n",
    "    'colour_5': 'colour_burgundy',\n",
    "    'colour_6': 'colour_gray',\n",
    "    'colour_7': 'colour_green',\n",
    "    'colour_8': 'colour_navy blue',\n",
    "    'colour_9': 'colour_of many colors',\n",
    "    'colour_10': 'colour_olive',\n",
    "    'colour_11': 'colour_pink',\n",
    "    'colour_12': 'colour_red',\n",
    "    'colour_13': 'colour_violet',\n",
    "    'colour_14': 'colour_white',\n",
    "    'product_loc_1': 'product_loc_top left',\n",
    "    'product_loc_2': 'product_loc_top in the middle',\n",
    "    'product_loc_3': 'product_loc_top right',\n",
    "    'product_loc_4': 'product_loc_bottom left',\n",
    "    'product_loc_5': 'product_loc_bottom in the middle',\n",
    "    'product_loc_6': 'product_loc_bottom right'\n",
    "}"
   ]
  },
  {
   "cell_type": "code",
   "execution_count": 171,
   "id": "fd611943",
   "metadata": {},
   "outputs": [],
   "source": [
    "avg_price_per_category = round(clickstream_poland.groupby('page 1 (main category)')['price'].mean(),2).reset_index()\n",
    "avg_price_per_category.rename(columns={'price': 'avg_price_per_category'}, inplace=True)\n",
    "clickstream_poland = clickstream_poland.merge(avg_price_per_category, on='page 1 (main category)', how='left')\n",
    "#clickstream_poland['avg_price_per_category'] = clickstream_poland['page 1 (main category)'].map(avg_price_per_category)"
   ]
  },
  {
   "cell_type": "code",
   "execution_count": 214,
   "id": "7335f39b",
   "metadata": {},
   "outputs": [
    {
     "data": {
      "text/plain": [
       "<AxesSubplot:xlabel='price_diff', ylabel='Count'>"
      ]
     },
     "execution_count": 214,
     "metadata": {},
     "output_type": "execute_result"
    },
    {
     "data": {
      "image/png": "[encoded data removed]",
      "text/plain": [
       "<Figure size 640x480 with 1 Axes>"
      ]
     },
     "metadata": {},
     "output_type": "display_data"
    }
   ],
   "source": [
    "clickstream_poland['price 2']=clickstream_poland['price 2'].replace({1:1,2:0})\n",
    "clickstream_poland['price_diff']=clickstream_poland['price']-clickstream_poland['avg_price_per_category']\n",
    "sns.histplot(data=clickstream_poland, x='price_diff', bins=7, hue='page 1 (main category)')"
   ]
  },
  {
   "cell_type": "code",
   "execution_count": 213,
   "id": "351ff0a0",
   "metadata": {},
   "outputs": [
    {
     "data": {
      "image/png": "[encoded data removed]",
      "text/plain": [
       "<Figure size 640x480 with 1 Axes>"
      ]
     },
     "metadata": {},
     "output_type": "display_data"
    }
   ],
   "source": [
    "from scipy import stats\n",
    "\n",
    "# Assuming you have a pandas DataFrame named 'clickstream_poland'\n",
    "data = clickstream_poland['price_diff']\n",
    "\n",
    "# Perform Yeo-Johnson transformation\n",
    "transformed_data, lambda_value = stats.yeojohnson(data)\n",
    "\n",
    "# Create a new column with the transformed values\n",
    "clickstream_poland['price_diff_transformed'] = transformed_data\n",
    "sns.histplot(clickstream_poland['price_diff_transformed'],bins=7)\n",
    "\n",
    "# Create a relative price difference feature\n",
    "clickstream_poland['relative_price_diff'] = clickstream_poland['price_diff_transformed'] / clickstream_poland['avg_price_per_category']"
   ]
  },
  {
   "cell_type": "code",
   "execution_count": 212,
   "id": "ecbc811a",
   "metadata": {},
   "outputs": [
    {
     "data": {
      "text/plain": [
       "<AxesSubplot:xlabel='price_diff_bucket', ylabel='Count'>"
      ]
     },
     "execution_count": 212,
     "metadata": {},
     "output_type": "execute_result"
    },
    {
     "data": {
      "image/png": "[encoded data removed]",
      "text/plain": [
       "<Figure size 640x480 with 1 Axes>"
      ]
     },
     "metadata": {},
     "output_type": "display_data"
    }
   ],
   "source": [
    "# Define the bucket values\n",
    "#bucket_values = [\n",
    "#    -22.38, -10.58, 1.22,\n",
    "#    13.02, 24.82\n",
    "#]\n",
    "\n",
    "bucket_values = [\n",
    "    -22.38, -8.46, -2.22,\n",
    "    7.02, 24.82\n",
    "]\n",
    "\n",
    "# Define the labels for the buckets\n",
    "bucket_labels = [\n",
    "    'very_low', 'low', 'medium', 'high',\n",
    "]\n",
    "\n",
    "# Create a new column with the bin labels\n",
    "clickstream_poland['price_diff_bucket'] = pd.cut(\n",
    "    clickstream_poland['price_diff'],\n",
    "    bins=bucket_values,\n",
    "    labels=bucket_labels,\n",
    "    right=False  # Set to True if you want the intervals to be right-closed\n",
    ")\n",
    "sns.histplot(clickstream_poland['price_diff_bucket'])"
   ]
  },
  {
   "cell_type": "code",
   "execution_count": 174,
   "id": "ed1bd783",
   "metadata": {},
   "outputs": [
    {
     "data": {
      "text/html": [
       "<div>\n",
       "<style scoped>\n",
       "    .dataframe tbody tr th:only-of-type {\n",
       "        vertical-align: middle;\n",
       "    }\n",
       "\n",
       "    .dataframe tbody tr th {\n",
       "        vertical-align: top;\n",
       "    }\n",
       "\n",
       "    .dataframe thead th {\n",
       "        text-align: right;\n",
       "    }\n",
       "</style>\n",
       "<table border=\"1\" class=\"dataframe\">\n",
       "  <thead>\n",
       "    <tr style=\"text-align: right;\">\n",
       "      <th></th>\n",
       "      <th>year</th>\n",
       "      <th>month</th>\n",
       "      <th>day</th>\n",
       "      <th>order</th>\n",
       "      <th>country</th>\n",
       "      <th>session ID</th>\n",
       "      <th>page 2 (clothing model)</th>\n",
       "      <th>model photography</th>\n",
       "      <th>price</th>\n",
       "      <th>price 2</th>\n",
       "      <th>...</th>\n",
       "      <th>product_loc_5</th>\n",
       "      <th>product_loc_6</th>\n",
       "      <th>product_cat_1</th>\n",
       "      <th>product_cat_2</th>\n",
       "      <th>product_cat_3</th>\n",
       "      <th>product_cat_4</th>\n",
       "      <th>price_diff_very_low</th>\n",
       "      <th>price_diff_low</th>\n",
       "      <th>price_diff_medium</th>\n",
       "      <th>price_diff_high</th>\n",
       "    </tr>\n",
       "  </thead>\n",
       "  <tbody>\n",
       "    <tr>\n",
       "      <th>0</th>\n",
       "      <td>2008</td>\n",
       "      <td>4</td>\n",
       "      <td>1</td>\n",
       "      <td>1</td>\n",
       "      <td>29</td>\n",
       "      <td>1</td>\n",
       "      <td>0.0</td>\n",
       "      <td>1</td>\n",
       "      <td>28</td>\n",
       "      <td>0</td>\n",
       "      <td>...</td>\n",
       "      <td>1</td>\n",
       "      <td>0</td>\n",
       "      <td>1</td>\n",
       "      <td>0</td>\n",
       "      <td>0</td>\n",
       "      <td>0</td>\n",
       "      <td>1</td>\n",
       "      <td>0</td>\n",
       "      <td>0</td>\n",
       "      <td>0</td>\n",
       "    </tr>\n",
       "    <tr>\n",
       "      <th>1</th>\n",
       "      <td>2008</td>\n",
       "      <td>4</td>\n",
       "      <td>1</td>\n",
       "      <td>2</td>\n",
       "      <td>29</td>\n",
       "      <td>1</td>\n",
       "      <td>1.0</td>\n",
       "      <td>1</td>\n",
       "      <td>33</td>\n",
       "      <td>0</td>\n",
       "      <td>...</td>\n",
       "      <td>0</td>\n",
       "      <td>1</td>\n",
       "      <td>1</td>\n",
       "      <td>0</td>\n",
       "      <td>0</td>\n",
       "      <td>0</td>\n",
       "      <td>1</td>\n",
       "      <td>0</td>\n",
       "      <td>0</td>\n",
       "      <td>0</td>\n",
       "    </tr>\n",
       "    <tr>\n",
       "      <th>2</th>\n",
       "      <td>2008</td>\n",
       "      <td>4</td>\n",
       "      <td>1</td>\n",
       "      <td>3</td>\n",
       "      <td>29</td>\n",
       "      <td>1</td>\n",
       "      <td>2.0</td>\n",
       "      <td>1</td>\n",
       "      <td>52</td>\n",
       "      <td>1</td>\n",
       "      <td>...</td>\n",
       "      <td>0</td>\n",
       "      <td>0</td>\n",
       "      <td>0</td>\n",
       "      <td>1</td>\n",
       "      <td>0</td>\n",
       "      <td>0</td>\n",
       "      <td>0</td>\n",
       "      <td>0</td>\n",
       "      <td>1</td>\n",
       "      <td>0</td>\n",
       "    </tr>\n",
       "    <tr>\n",
       "      <th>3</th>\n",
       "      <td>2008</td>\n",
       "      <td>4</td>\n",
       "      <td>1</td>\n",
       "      <td>4</td>\n",
       "      <td>29</td>\n",
       "      <td>1</td>\n",
       "      <td>3.0</td>\n",
       "      <td>0</td>\n",
       "      <td>38</td>\n",
       "      <td>0</td>\n",
       "      <td>...</td>\n",
       "      <td>0</td>\n",
       "      <td>1</td>\n",
       "      <td>0</td>\n",
       "      <td>1</td>\n",
       "      <td>0</td>\n",
       "      <td>0</td>\n",
       "      <td>1</td>\n",
       "      <td>0</td>\n",
       "      <td>0</td>\n",
       "      <td>0</td>\n",
       "    </tr>\n",
       "    <tr>\n",
       "      <th>4</th>\n",
       "      <td>2008</td>\n",
       "      <td>4</td>\n",
       "      <td>1</td>\n",
       "      <td>5</td>\n",
       "      <td>29</td>\n",
       "      <td>1</td>\n",
       "      <td>4.0</td>\n",
       "      <td>0</td>\n",
       "      <td>52</td>\n",
       "      <td>1</td>\n",
       "      <td>...</td>\n",
       "      <td>0</td>\n",
       "      <td>0</td>\n",
       "      <td>0</td>\n",
       "      <td>1</td>\n",
       "      <td>0</td>\n",
       "      <td>0</td>\n",
       "      <td>0</td>\n",
       "      <td>0</td>\n",
       "      <td>1</td>\n",
       "      <td>0</td>\n",
       "    </tr>\n",
       "  </tbody>\n",
       "</table>\n",
       "<p>5 rows × 51 columns</p>\n",
       "</div>"
      ],
      "text/plain": [
       "   year  month  day  order  country  session ID  page 2 (clothing model)  \\\n",
       "0  2008      4    1      1       29           1                      0.0   \n",
       "1  2008      4    1      2       29           1                      1.0   \n",
       "2  2008      4    1      3       29           1                      2.0   \n",
       "3  2008      4    1      4       29           1                      3.0   \n",
       "4  2008      4    1      5       29           1                      4.0   \n",
       "\n",
       "   model photography  price  price 2  ...  product_loc_5  product_loc_6  \\\n",
       "0                  1     28        0  ...              1              0   \n",
       "1                  1     33        0  ...              0              1   \n",
       "2                  1     52        1  ...              0              0   \n",
       "3                  0     38        0  ...              0              1   \n",
       "4                  0     52        1  ...              0              0   \n",
       "\n",
       "  product_cat_1  product_cat_2  product_cat_3  product_cat_4  \\\n",
       "0             1              0              0              0   \n",
       "1             1              0              0              0   \n",
       "2             0              1              0              0   \n",
       "3             0              1              0              0   \n",
       "4             0              1              0              0   \n",
       "\n",
       "   price_diff_very_low  price_diff_low  price_diff_medium  price_diff_high  \n",
       "0                    1               0                  0                0  \n",
       "1                    1               0                  0                0  \n",
       "2                    0               0                  1                0  \n",
       "3                    1               0                  0                0  \n",
       "4                    0               0                  1                0  \n",
       "\n",
       "[5 rows x 51 columns]"
      ]
     },
     "execution_count": 174,
     "metadata": {},
     "output_type": "execute_result"
    }
   ],
   "source": [
    "colour_dummies = pd.get_dummies(clickstream_poland['colour'], prefix='colour')\n",
    "page_location_dummies = pd.get_dummies(clickstream_poland['location'],prefix='product_loc')\n",
    "product_cat_dummies = pd.get_dummies(clickstream_poland['page 1 (main category)'],prefix='product_cat')\n",
    "price_diff_bucket_dummies = pd.get_dummies(clickstream_poland['price_diff_bucket'], prefix='price_diff')\n",
    "clickstream_poland_dummies = clickstream_poland.loc[:, ~clickstream_poland.columns.isin(['page 1 (main category)', 'location', 'colour'])]\n",
    "clickstream_poland_dummies=pd.concat([clickstream_poland_dummies,colour_dummies,page_location_dummies,product_cat_dummies,price_diff_bucket_dummies], axis=1)\n",
    "clickstream_poland_dummies['model photography']=clickstream_poland_dummies['model photography'].replace({1:1,2:0})\n",
    "clickstream_poland_dummies.rename(columns={'page': 'page_number'}, inplace=True)\n",
    "clickstream_poland_dummies.head()"
   ]
  },
  {
   "cell_type": "code",
   "execution_count": 175,
   "id": "eabd4567",
   "metadata": {},
   "outputs": [
    {
     "data": {
      "text/plain": [
       "Index(['model photography', 'page_number', 'page1_encoded',\n",
       "       'avg_price_per_category_x', 'avg_price_per_category_y',\n",
       "       'avg_price_per_category_x', 'avg_price_per_category_y',\n",
       "       'avg_price_per_category', 'colour_beige', 'colour_black', 'colour_blue',\n",
       "       'colour_brown', 'colour_burgundy', 'colour_gray', 'colour_green',\n",
       "       'colour_navy blue', 'colour_of many colors', 'colour_pink',\n",
       "       'colour_red', 'colour_violet', 'colour_white', 'product_loc_top left',\n",
       "       'product_loc_top in the middle', 'product_loc_top right',\n",
       "       'product_loc_bottom left', 'product_loc_bottom in the middle',\n",
       "       'product_loc_bottom right', 'product_cat_trousers',\n",
       "       'product_cat_skirts', 'product_cat_sale'],\n",
       "      dtype='object')"
      ]
     },
     "execution_count": 175,
     "metadata": {},
     "output_type": "execute_result"
    }
   ],
   "source": [
    "clickstream_poland_X= clickstream_poland_dummies.loc[:, ~clickstream_poland_dummies.columns.isin(['price 2','price_diff_transformed','price_diff','price_diff_bucket','relative_price_diff','price_diff_very_low','price_diff_low','price_diff_medium','price_diff_high','price','colour_10','page_loc_6','product_cat_3','year', 'month', 'day','order','country','session ID','page 2 (clothing model)','sessionid_order','max_clicks_per_session'])]\n",
    "clickstream_poland_Y=clickstream_poland_dummies['price 2']\n",
    "clickstream_poland_X.rename(columns=feature_mappings, inplace=True)\n",
    "\n",
    "X_train5, X_test5, y_train5, y_test5 = train_test_split(clickstream_poland_X, clickstream_poland_Y, test_size=0.3, random_state=42)\n",
    "X_train5.columns"
   ]
  },
  {
   "cell_type": "code",
   "execution_count": 180,
   "id": "b6eab89e",
   "metadata": {},
   "outputs": [
    {
     "data": {
      "text/plain": [
       "0.6840926621712409"
      ]
     },
     "execution_count": 180,
     "metadata": {},
     "output_type": "execute_result"
    }
   ],
   "source": [
    "from sklearn.preprocessing import StandardScaler\n",
    "\n",
    "scaler = StandardScaler()\n",
    "\n",
    "X_train_scaled = scaler.fit_transform(X_train5)\n",
    "X_test_scaled = scaler.transform(X_test5)\n",
    "\n",
    "# simple logistic regression\n",
    "\n",
    "model5 = LogisticRegression(random_state=42,max_iter=1000,fit_intercept=True)\n",
    "model5.fit(X_train_scaled, y_train5)\n",
    "model5.score(X_test_scaled, y_test5)"
   ]
  },
  {
   "cell_type": "code",
   "execution_count": 181,
   "id": "6bf5f164",
   "metadata": {},
   "outputs": [
    {
     "data": {
      "text/plain": [
       "array([0.04174356])"
      ]
     },
     "execution_count": 181,
     "metadata": {},
     "output_type": "execute_result"
    }
   ],
   "source": [
    "bias = model5.intercept_\n",
    "bias"
   ]
  },
  {
   "cell_type": "code",
   "execution_count": 187,
   "id": "e938df9a",
   "metadata": {},
   "outputs": [
    {
     "name": "stdout",
     "output_type": "stream",
     "text": [
      "L1 regularization score: 0.6703824429570281\n"
     ]
    }
   ],
   "source": [
    "# L1 Regularization\n",
    "\n",
    "c_values = [0.01]\n",
    "\n",
    "model5_l1= LogisticRegression(penalty='l1',solver='saga',random_state=43,max_iter=1000,C=C_values[0])\n",
    "model5_l1.fit(X_train_scaled,y_train5)\n",
    "print('L1 regularization score:', model5_l1.score(X_test_scaled, y_test5))"
   ]
  },
  {
   "cell_type": "code",
   "execution_count": 190,
   "id": "b49e2171",
   "metadata": {},
   "outputs": [
    {
     "name": "stdout",
     "output_type": "stream",
     "text": [
      "L2 regularization average score: 0.6832384847854927\n",
      "L2 regularization score: 0.678220408569509\n"
     ]
    }
   ],
   "source": [
    "# L2 - Ridge Regularization\n",
    "\n",
    "from sklearn.model_selection import cross_val_score\n",
    "\n",
    "C_values = [0.0001]\n",
    "k = 15  # Number of folds\n",
    "\n",
    "for C in C_values:\n",
    "    model5_l2 = LogisticRegression(penalty='l2', solver='lbfgs', max_iter=10000, C=C)\n",
    "    scores = cross_val_score(model5_l2, X_train_scaled, y_train5, cv=k)\n",
    "    avg_score = scores.mean()\n",
    "    print(f'L2 regularization average score: {avg_score}')\n",
    "    \n",
    "model5_l2.fit(X_train_scaled,y_train5)\n",
    "print('L2 regularization score:', model5_l2.score(X_test_scaled, y_test5))\n"
   ]
  },
  {
   "cell_type": "code",
   "execution_count": 191,
   "id": "5a3d942e",
   "metadata": {},
   "outputs": [
    {
     "name": "stdout",
     "output_type": "stream",
     "text": [
      "Selected Features:\n",
      "model photography\n",
      "page1_encoded\n",
      "colour_black\n",
      "colour_gray\n",
      "colour_green\n",
      "colour_red\n",
      "product_cat_trousers\n",
      "product_cat_skirts\n",
      "Index(['model photography', 'page1_encoded', 'colour_black', 'colour_gray',\n",
      "       'colour_green', 'colour_red', 'product_cat_trousers',\n",
      "       'product_cat_skirts'],\n",
      "      dtype='object')\n",
      "L2 regularization score: 0.6574684615193213\n"
     ]
    }
   ],
   "source": [
    "# perform Recursive Feature Elimination (RFE) for backward feature selection for logistic regression\n",
    " \n",
    "from sklearn.feature_selection import RFE\n",
    "\n",
    "rfe=RFE(estimator=model5_l2,n_features_to_select=8)\n",
    "rfe.fit(X_train5,y_train5)\n",
    "#rfe.fit(x1,y1)\n",
    "\n",
    "# Get the selected features\n",
    "selected_features_display = rfe.support_\n",
    "\n",
    "# Print the selected features\n",
    "print(\"Selected Features:\")\n",
    "for feature, selected in zip(X_train5.columns, selected_features_display):\n",
    "    if selected:\n",
    "        print(feature)\n",
    "\n",
    "\n",
    "# Get the boolean mask of selected features\n",
    "selected_features_mask = rfe.support_\n",
    "\n",
    "\n",
    "# Select the corresponding columns from your feature matrix\n",
    "selected_features = X_train5.columns[selected_features_mask]\n",
    "\n",
    "\n",
    "# Update the feature matrix to include only the selected features\n",
    "X_train_selected = X_train5[selected_features]\n",
    "X_test_selected = X_test5[selected_features]\n",
    "\n",
    "print(X_train_selected.columns)\n",
    "\n",
    "#scaled\n",
    "X_train_selected_scaled = scaler.fit_transform(X_train_selected)\n",
    "X_test_selected_scaled = scaler.fit_transform(X_test_selected)\n",
    "\n",
    "\n",
    "# Train your model using the updated feature matrix\n",
    "model5_l2.fit(X_train_selected_scaled,y_train5)\n",
    "\n",
    "print('L2 regularization score:', model5_l2.score(X_test_selected_scaled, y_test5))\n",
    "\n",
    "#X_train_scaled = scaler.fit_transform(rfe.transform(X_train))\n",
    "#X_test_scaled = scaler.transform(rfe.transform(X_test))\n",
    "\n",
    "# L2\n",
    "#C_values= [.001]\n",
    "\n",
    "#for C in C_values:\n",
    "#    model_l2= LogisticRegression(penalty='l2',solver='lbfgs',max_iter=10000,C=C)\n",
    "#    model_l2.fit(X_train_scaled,y_train)\n",
    "#    print('L2 regularization score:', model_l2.score(X_test_scaled, y_test))\n"
   ]
  },
  {
   "cell_type": "code",
   "execution_count": 192,
   "id": "0179f69b",
   "metadata": {},
   "outputs": [],
   "source": [
    "y_pred5 = model5_l2.predict(X_test_selected_scaled)\n",
    "y_pred_prob = model5_l2.predict_proba(X_test_selected_scaled)[:, 1]\n",
    "y_pred_train= model5_l2.predict(X_train_selected_scaled)"
   ]
  },
  {
   "cell_type": "code",
   "execution_count": 193,
   "id": "24d0afc5",
   "metadata": {},
   "outputs": [
    {
     "name": "stdout",
     "output_type": "stream",
     "text": [
      "product_cat_trousers: -0.23907485405371695\n",
      "colour_green: -0.2212305828245342\n",
      "colour_red: 0.16732181883240066\n",
      "colour_gray: -0.14213539141466586\n",
      "product_cat_skirts: 0.11930588026910018\n",
      "page1_encoded: 0.11703274108777234\n",
      "model photography: 0.11298158742546047\n",
      "colour_black: 0.11059520037910105\n"
     ]
    },
    {
     "data": {
      "image/png": "[encoded data removed]",
      "text/plain": [
       "<Figure size 1000x600 with 1 Axes>"
      ]
     },
     "metadata": {},
     "output_type": "display_data"
    }
   ],
   "source": [
    "import matplotlib.pyplot as plt\n",
    "\n",
    "# Obtain the coefficients and feature names\n",
    "coefs = model5_l2.coef_[0]\n",
    "\n",
    "\n",
    "# Replace feature names with their corresponding values in X_train\n",
    "#X_train_selected_copy.rename(columns=feature_mappings, inplace=True)\n",
    "feature_names = X_train_selected.columns\n",
    "\n",
    "n = 8  # Number of top features to display\n",
    "\n",
    "# Sort features by absolute coefficients for plotting\n",
    "sorted_idx = sorted(range(len(coefs)), key=lambda i: abs(coefs[i]))[-n:]\n",
    "sorted_features_plot = [feature_names[i] for i in sorted_idx]\n",
    "sorted_coefs_plot = [coefs[i] for i in sorted_idx]\n",
    "\n",
    "# Sort features by coefficients for printing\n",
    "# Combine the coefficients and feature names into a dictionary\n",
    "coef_dict = dict(zip(feature_names, coefs))\n",
    "\n",
    "# Print the features with the largest impact on the logistic regression model\n",
    "\n",
    "top_features = sorted(coef_dict, key=lambda x: abs(coef_dict[x]), reverse=True)[:n]\n",
    "for feature in top_features:\n",
    "    print(f\"{feature}: {coef_dict[feature]}\")\n",
    "\n",
    "# Plot coefficients\n",
    "plt.figure(figsize=(10, 6))\n",
    "plt.barh(sorted_features_plot, sorted_coefs_plot)\n",
    "plt.xlabel('Coefficient')\n",
    "plt.ylabel('Feature')\n",
    "plt.title('Logistic Regression Coefficients')\n",
    "plt.show()"
   ]
  },
  {
   "cell_type": "code",
   "execution_count": 194,
   "id": "26364edf",
   "metadata": {},
   "outputs": [
    {
     "name": "stdout",
     "output_type": "stream",
     "text": [
      "Confusion matrix:\n",
      "[[11049  8464]\n",
      " [ 5302 15374]]\n"
     ]
    }
   ],
   "source": [
    "# Confusion matrix\n",
    "cm = confusion_matrix(y_test5, y_pred5)\n",
    "print(\"Confusion matrix:\")\n",
    "print(cm)"
   ]
  },
  {
   "cell_type": "code",
   "execution_count": 195,
   "id": "b4dfa19f",
   "metadata": {},
   "outputs": [
    {
     "data": {
      "image/png": "[encoded data removed]",
      "text/plain": [
       "<Figure size 640x480 with 1 Axes>"
      ]
     },
     "metadata": {},
     "output_type": "display_data"
    }
   ],
   "source": [
    "# ROC curve\n",
    "fpr, tpr, thresholds = roc_curve(y_test5, y_pred_prob)\n",
    "plt.plot(fpr, tpr)\n",
    "plt.xlabel(\"False Positive Rate\")\n",
    "plt.ylabel(\"True Positive Rate\")\n",
    "plt.title(\"ROC Curve\")\n",
    "plt.show()"
   ]
  },
  {
   "cell_type": "code",
   "execution_count": 198,
   "id": "05c586af",
   "metadata": {},
   "outputs": [
    {
     "name": "stdout",
     "output_type": "stream",
     "text": [
      "AUC score: 0.6947688784784329\n"
     ]
    }
   ],
   "source": [
    "# AUC score\n",
    "auc = roc_auc_score(y_test5, y_pred_prob)\n",
    "print(\"AUC score:\", auc)"
   ]
  },
  {
   "cell_type": "code",
   "execution_count": 199,
   "id": "582e64e6",
   "metadata": {},
   "outputs": [
    {
     "name": "stdout",
     "output_type": "stream",
     "text": [
      "Classification report:\n",
      "              precision    recall  f1-score   support\n",
      "\n",
      "           0       0.68      0.57      0.62     19513\n",
      "           1       0.64      0.74      0.69     20676\n",
      "\n",
      "    accuracy                           0.66     40189\n",
      "   macro avg       0.66      0.65      0.65     40189\n",
      "weighted avg       0.66      0.66      0.65     40189\n",
      "\n"
     ]
    }
   ],
   "source": [
    "# Classification report\n",
    "report = classification_report(y_test5, y_pred5)\n",
    "print(\"Classification report:\")\n",
    "print(report)"
   ]
  },
  {
   "cell_type": "markdown",
   "id": "787144c1",
   "metadata": {},
   "source": [
    "# rfe"
   ]
  },
  {
   "cell_type": "code",
   "execution_count": 202,
   "id": "6f0ac8f9",
   "metadata": {},
   "outputs": [
    {
     "name": "stdout",
     "output_type": "stream",
     "text": [
      "Train Score: 0.8699001325642728\n",
      "Test Score: 0.8766826743636318\n"
     ]
    }
   ],
   "source": [
    "from sklearn.ensemble import RandomForestClassifier\n",
    "from sklearn.model_selection import cross_val_score\n",
    "\n",
    "rfc = RandomForestClassifier(random_state=44, n_estimators=100, max_depth=8, min_samples_split=8, min_samples_leaf=4)\n",
    "\n",
    "# Adjust the hyperparameters for regularization\n",
    "# max_depth: Controls the maximum depth of the trees. Lower values can prevent overfitting.\n",
    "# min_samples_split: The minimum number of samples required to split an internal node. Higher values can prevent overfitting.\n",
    "# min_samples_leaf: The minimum number of samples required to be at a leaf node. Higher values can prevent overfitting.\n",
    "\n",
    "accuracies = cross_val_score(rfc, X_train_scaled, y_train5, cv=5)\n",
    "rfc.fit(X_train_scaled, y_train5)\n",
    "y_pred6 = rfc.predict(X_test_scaled)\n",
    "y_pred_prob = rfc.predict_proba(X_test_scaled)[:, 1]\n",
    " \n",
    "# Obtain accuracy\n",
    "print(\"Train Score:\", np.mean(accuracies))\n",
    "print(\"Test Score:\", rfc.score(X_test_scaled, y_test5))\n"
   ]
  },
  {
   "cell_type": "code",
   "execution_count": 203,
   "id": "e40dc4b1",
   "metadata": {},
   "outputs": [
    {
     "name": "stdout",
     "output_type": "stream",
     "text": [
      "Confusion matrix:\n",
      "[[15743  3770]\n",
      " [ 1186 19490]]\n"
     ]
    }
   ],
   "source": [
    "# Confusion matrix\n",
    "cm = confusion_matrix(y_test5, y_pred6)\n",
    "print(\"Confusion matrix:\")\n",
    "print(cm)"
   ]
  },
  {
   "cell_type": "code",
   "execution_count": 204,
   "id": "5c0460f3",
   "metadata": {},
   "outputs": [
    {
     "data": {
      "image/png": "[encoded data removed]",
      "text/plain": [
       "<Figure size 640x480 with 1 Axes>"
      ]
     },
     "metadata": {},
     "output_type": "display_data"
    }
   ],
   "source": [
    "# ROC curve\n",
    "fpr, tpr, thresholds = roc_curve(y_test5, y_pred_prob)\n",
    "plt.plot(fpr, tpr)\n",
    "plt.xlabel(\"False Positive Rate\")\n",
    "plt.ylabel(\"True Positive Rate\")\n",
    "plt.title(\"ROC Curve\")\n",
    "plt.show()"
   ]
  },
  {
   "cell_type": "code",
   "execution_count": 205,
   "id": "282e3e0c",
   "metadata": {},
   "outputs": [
    {
     "name": "stdout",
     "output_type": "stream",
     "text": [
      "AUC score: 0.9595516417729738\n"
     ]
    }
   ],
   "source": [
    "# AUC score\n",
    "auc = roc_auc_score(y_test5, y_pred_prob)\n",
    "print(\"AUC score:\", auc)"
   ]
  },
  {
   "cell_type": "code",
   "execution_count": 206,
   "id": "d295fdd1",
   "metadata": {},
   "outputs": [
    {
     "name": "stdout",
     "output_type": "stream",
     "text": [
      "page_number: 0.14349365465914896\n",
      "colour_gray: 0.09224453326649128\n",
      "product_loc_top in the middle: 0.07033822553186682\n",
      "product_cat_trousers: 0.05123191136132524\n",
      "colour_green: 0.050799039595902415\n",
      "page1_encoded: 0.04923681073022213\n",
      "model photography: 0.04774195084016592\n",
      "product_loc_top left: 0.044935731195551366\n",
      "colour_beige: 0.03769482845292558\n",
      "product_loc_top right: 0.03703428150025858\n",
      "colour_black: 0.035601698893307665\n",
      "colour_red: 0.033782843751354506\n"
     ]
    },
    {
     "data": {
      "image/png": "[encoded data removed]",
      "text/plain": [
       "<Figure size 1000x600 with 1 Axes>"
      ]
     },
     "metadata": {},
     "output_type": "display_data"
    }
   ],
   "source": [
    "import matplotlib.pyplot as plt\n",
    "\n",
    "# Obtain feature importances\n",
    "importances = rfc.feature_importances_\n",
    "feature_names = X_train.columns\n",
    "\n",
    "n = 12  # Number of top features to display\n",
    "\n",
    "# Sort features by importances for plotting\n",
    "sorted_idx = np.argsort(importances)[-n:]\n",
    "sorted_features_plot = [feature_names[i] for i in sorted_idx]\n",
    "sorted_importances_plot = importances[sorted_idx]\n",
    "\n",
    "# Sort features by importances for printing\n",
    "# Combine the importances and feature names into a dictionary\n",
    "importance_dict = dict(zip(feature_names, importances))\n",
    "\n",
    "# Print the features with the largest importance in the Random Forest model\n",
    "top_features = sorted(importance_dict, key=lambda x: importance_dict[x], reverse=True)[:n]\n",
    "for feature in top_features:\n",
    "    print(f\"{feature}: {importance_dict[feature]}\")\n",
    "\n",
    "# Plot feature importances\n",
    "plt.figure(figsize=(10, 6))\n",
    "plt.barh(sorted_features_plot, sorted_importances_plot)\n",
    "plt.xlabel('Feature Importance')\n",
    "plt.ylabel('Feature')\n",
    "plt.title('Random Forest Feature Importances')\n",
    "plt.show()"
   ]
  },
  {
   "cell_type": "code",
   "execution_count": 207,
   "id": "67f89ed0",
   "metadata": {},
   "outputs": [
    {
     "name": "stdout",
     "output_type": "stream",
     "text": [
      "Selected Features:\n",
      "model photography\n",
      "page_number\n",
      "page1_encoded\n",
      "avg_price_per_category_y\n",
      "colour_beige\n",
      "colour_gray\n",
      "colour_green\n",
      "product_loc_top left\n",
      "product_loc_top in the middle\n",
      "product_loc_top right\n",
      "product_loc_bottom left\n",
      "product_cat_trousers\n",
      "Random Forest classifier train score: 0.8426002943246529\n",
      "Random Forest classifier test score: 0.8401055015053871\n"
     ]
    }
   ],
   "source": [
    "# perform Recursive Feature Elimination (RFE) for backward feature selection\n",
    "\n",
    "from sklearn.feature_selection import RFE\n",
    "\n",
    "rfe=RFE(estimator=rfc,n_features_to_select=12)\n",
    "rfe.fit(X_train5,y_train5)\n",
    "#rfe.fit(x1,y1)\n",
    "\n",
    "# Get the selected features\n",
    "selected_features_display = rfe.support_\n",
    "\n",
    "# Print the selected features\n",
    "print(\"Selected Features:\")\n",
    "for feature, selected in zip(X_train5.columns, selected_features_display):\n",
    "    if selected:\n",
    "        print(feature)\n",
    "\n",
    "\n",
    "# Get the boolean mask of selected features\n",
    "selected_features_mask = rfe.support_\n",
    "\n",
    "\n",
    "# Select the corresponding columns from your feature matrix\n",
    "selected_features = X_train5.columns[selected_features_mask]\n",
    "\n",
    "\n",
    "# Update the feature matrix to include only the selected features\n",
    "X_train_selected = X_train5[selected_features]\n",
    "X_test_selected = X_test5[selected_features]\n",
    "\n",
    "#scaled\n",
    "X_train_selected_scaled = scaler.fit_transform(X_train_selected)\n",
    "X_test_selected_scaled = scaler.fit_transform(X_test_selected)\n",
    "\n",
    "# Train your model using the updated feature matrix\n",
    "rfc.fit(X_train_selected_scaled,y_train5)\n",
    "\n",
    "print('Random Forest classifier train score:', rfc.score(X_train_selected_scaled, y_train5))\n",
    "print('Random Forest classifier test score:', rfc.score(X_test_selected_scaled, y_test5))\n"
   ]
  },
  {
   "cell_type": "code",
   "execution_count": 208,
   "id": "4dc1bdf5",
   "metadata": {},
   "outputs": [
    {
     "data": {
      "image/png": "[encoded data removed]",
      "text/plain": [
       "<Figure size 640x480 with 1 Axes>"
      ]
     },
     "metadata": {},
     "output_type": "display_data"
    }
   ],
   "source": [
    "# ROC curve\n",
    "fpr, tpr, thresholds = roc_curve(y_test5, y_pred_prob)\n",
    "plt.plot(fpr, tpr)\n",
    "plt.xlabel(\"False Positive Rate\")\n",
    "plt.ylabel(\"True Positive Rate\")\n",
    "plt.title(\"ROC Curve\")\n",
    "plt.show()"
   ]
  },
  {
   "cell_type": "code",
   "execution_count": 209,
   "id": "168877d7",
   "metadata": {},
   "outputs": [
    {
     "name": "stdout",
     "output_type": "stream",
     "text": [
      "AUC score: 0.9595516417729738\n"
     ]
    }
   ],
   "source": [
    "# AUC score\n",
    "auc = roc_auc_score(y_test5, y_pred_prob)\n",
    "print(\"AUC score:\", auc)"
   ]
  },
  {
   "cell_type": "code",
   "execution_count": 210,
   "id": "0ae3c964",
   "metadata": {},
   "outputs": [
    {
     "name": "stdout",
     "output_type": "stream",
     "text": [
      "Classification report:\n",
      "              precision    recall  f1-score   support\n",
      "\n",
      "           0       0.93      0.81      0.86     19513\n",
      "           1       0.84      0.94      0.89     20676\n",
      "\n",
      "    accuracy                           0.88     40189\n",
      "   macro avg       0.88      0.87      0.88     40189\n",
      "weighted avg       0.88      0.88      0.88     40189\n",
      "\n"
     ]
    }
   ],
   "source": [
    "# Classification report\n",
    "report = classification_report(y_test5, y_pred6)\n",
    "print(\"Classification report:\")\n",
    "print(report)"
   ]
  },
  {
   "cell_type": "code",
   "execution_count": null,
   "id": "c1b40506",
   "metadata": {},
   "outputs": [],
   "source": []
  }
 ],
 "metadata": {
  "kernelspec": {
   "display_name": "Python 3 (ipykernel)",
   "language": "python",
   "name": "python3"
  },
  "language_info": {
   "codemirror_mode": {
    "name": "ipython",
    "version": 3
   },
   "file_extension": ".py",
   "mimetype": "text/x-python",
   "name": "python",
   "nbconvert_exporter": "python",
   "pygments_lexer": "ipython3",
   "version": "3.9.13"
  }
 },
 "nbformat": 4,
 "nbformat_minor": 5
}
